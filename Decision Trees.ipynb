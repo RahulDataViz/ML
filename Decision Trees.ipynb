{
 "cells": [
  {
   "cell_type": "code",
   "execution_count": 2,
   "metadata": {},
   "outputs": [],
   "source": [
    "from sklearn.datasets import load_iris"
   ]
  },
  {
   "cell_type": "code",
   "execution_count": 3,
   "metadata": {
    "collapsed": true
   },
   "outputs": [],
   "source": [
    "iris_data= load_iris()"
   ]
  },
  {
   "cell_type": "code",
   "execution_count": 8,
   "metadata": {},
   "outputs": [],
   "source": [
    "X= iris_data.data[:,2:]"
   ]
  },
  {
   "cell_type": "code",
   "execution_count": 31,
   "metadata": {},
   "outputs": [
    {
     "data": {
      "text/plain": [
       "array([[ 1.4,  0.2],\n",
       "       [ 1.4,  0.2],\n",
       "       [ 1.3,  0.2],\n",
       "       [ 1.5,  0.2],\n",
       "       [ 1.4,  0.2],\n",
       "       [ 1.7,  0.4],\n",
       "       [ 1.4,  0.3],\n",
       "       [ 1.5,  0.2],\n",
       "       [ 1.4,  0.2],\n",
       "       [ 1.5,  0.1],\n",
       "       [ 1.5,  0.2],\n",
       "       [ 1.6,  0.2],\n",
       "       [ 1.4,  0.1],\n",
       "       [ 1.1,  0.1],\n",
       "       [ 1.2,  0.2],\n",
       "       [ 1.5,  0.4],\n",
       "       [ 1.3,  0.4],\n",
       "       [ 1.4,  0.3],\n",
       "       [ 1.7,  0.3],\n",
       "       [ 1.5,  0.3],\n",
       "       [ 1.7,  0.2],\n",
       "       [ 1.5,  0.4],\n",
       "       [ 1. ,  0.2],\n",
       "       [ 1.7,  0.5],\n",
       "       [ 1.9,  0.2],\n",
       "       [ 1.6,  0.2],\n",
       "       [ 1.6,  0.4],\n",
       "       [ 1.5,  0.2],\n",
       "       [ 1.4,  0.2],\n",
       "       [ 1.6,  0.2],\n",
       "       [ 1.6,  0.2],\n",
       "       [ 1.5,  0.4],\n",
       "       [ 1.5,  0.1],\n",
       "       [ 1.4,  0.2],\n",
       "       [ 1.5,  0.1],\n",
       "       [ 1.2,  0.2],\n",
       "       [ 1.3,  0.2],\n",
       "       [ 1.5,  0.1],\n",
       "       [ 1.3,  0.2],\n",
       "       [ 1.5,  0.2],\n",
       "       [ 1.3,  0.3],\n",
       "       [ 1.3,  0.3],\n",
       "       [ 1.3,  0.2],\n",
       "       [ 1.6,  0.6],\n",
       "       [ 1.9,  0.4],\n",
       "       [ 1.4,  0.3],\n",
       "       [ 1.6,  0.2],\n",
       "       [ 1.4,  0.2],\n",
       "       [ 1.5,  0.2],\n",
       "       [ 1.4,  0.2],\n",
       "       [ 4.7,  1.4],\n",
       "       [ 4.5,  1.5],\n",
       "       [ 4.9,  1.5],\n",
       "       [ 4. ,  1.3],\n",
       "       [ 4.6,  1.5],\n",
       "       [ 4.5,  1.3],\n",
       "       [ 4.7,  1.6],\n",
       "       [ 3.3,  1. ],\n",
       "       [ 4.6,  1.3],\n",
       "       [ 3.9,  1.4],\n",
       "       [ 3.5,  1. ],\n",
       "       [ 4.2,  1.5],\n",
       "       [ 4. ,  1. ],\n",
       "       [ 4.7,  1.4],\n",
       "       [ 3.6,  1.3],\n",
       "       [ 4.4,  1.4],\n",
       "       [ 4.5,  1.5],\n",
       "       [ 4.1,  1. ],\n",
       "       [ 4.5,  1.5],\n",
       "       [ 3.9,  1.1],\n",
       "       [ 4.8,  1.8],\n",
       "       [ 4. ,  1.3],\n",
       "       [ 4.9,  1.5],\n",
       "       [ 4.7,  1.2],\n",
       "       [ 4.3,  1.3],\n",
       "       [ 4.4,  1.4],\n",
       "       [ 4.8,  1.4],\n",
       "       [ 5. ,  1.7],\n",
       "       [ 4.5,  1.5],\n",
       "       [ 3.5,  1. ],\n",
       "       [ 3.8,  1.1],\n",
       "       [ 3.7,  1. ],\n",
       "       [ 3.9,  1.2],\n",
       "       [ 5.1,  1.6],\n",
       "       [ 4.5,  1.5],\n",
       "       [ 4.5,  1.6],\n",
       "       [ 4.7,  1.5],\n",
       "       [ 4.4,  1.3],\n",
       "       [ 4.1,  1.3],\n",
       "       [ 4. ,  1.3],\n",
       "       [ 4.4,  1.2],\n",
       "       [ 4.6,  1.4],\n",
       "       [ 4. ,  1.2],\n",
       "       [ 3.3,  1. ],\n",
       "       [ 4.2,  1.3],\n",
       "       [ 4.2,  1.2],\n",
       "       [ 4.2,  1.3],\n",
       "       [ 4.3,  1.3],\n",
       "       [ 3. ,  1.1],\n",
       "       [ 4.1,  1.3],\n",
       "       [ 6. ,  2.5],\n",
       "       [ 5.1,  1.9],\n",
       "       [ 5.9,  2.1],\n",
       "       [ 5.6,  1.8],\n",
       "       [ 5.8,  2.2],\n",
       "       [ 6.6,  2.1],\n",
       "       [ 4.5,  1.7],\n",
       "       [ 6.3,  1.8],\n",
       "       [ 5.8,  1.8],\n",
       "       [ 6.1,  2.5],\n",
       "       [ 5.1,  2. ],\n",
       "       [ 5.3,  1.9],\n",
       "       [ 5.5,  2.1],\n",
       "       [ 5. ,  2. ],\n",
       "       [ 5.1,  2.4],\n",
       "       [ 5.3,  2.3],\n",
       "       [ 5.5,  1.8],\n",
       "       [ 6.7,  2.2],\n",
       "       [ 6.9,  2.3],\n",
       "       [ 5. ,  1.5],\n",
       "       [ 5.7,  2.3],\n",
       "       [ 4.9,  2. ],\n",
       "       [ 6.7,  2. ],\n",
       "       [ 4.9,  1.8],\n",
       "       [ 5.7,  2.1],\n",
       "       [ 6. ,  1.8],\n",
       "       [ 4.8,  1.8],\n",
       "       [ 4.9,  1.8],\n",
       "       [ 5.6,  2.1],\n",
       "       [ 5.8,  1.6],\n",
       "       [ 6.1,  1.9],\n",
       "       [ 6.4,  2. ],\n",
       "       [ 5.6,  2.2],\n",
       "       [ 5.1,  1.5],\n",
       "       [ 5.6,  1.4],\n",
       "       [ 6.1,  2.3],\n",
       "       [ 5.6,  2.4],\n",
       "       [ 5.5,  1.8],\n",
       "       [ 4.8,  1.8],\n",
       "       [ 5.4,  2.1],\n",
       "       [ 5.6,  2.4],\n",
       "       [ 5.1,  2.3],\n",
       "       [ 5.1,  1.9],\n",
       "       [ 5.9,  2.3],\n",
       "       [ 5.7,  2.5],\n",
       "       [ 5.2,  2.3],\n",
       "       [ 5. ,  1.9],\n",
       "       [ 5.2,  2. ],\n",
       "       [ 5.4,  2.3],\n",
       "       [ 5.1,  1.8]])"
      ]
     },
     "execution_count": 31,
     "metadata": {},
     "output_type": "execute_result"
    }
   ],
   "source": [
    "X"
   ]
  },
  {
   "cell_type": "code",
   "execution_count": 9,
   "metadata": {},
   "outputs": [
    {
     "data": {
      "text/plain": [
       "(150, 2)"
      ]
     },
     "execution_count": 9,
     "metadata": {},
     "output_type": "execute_result"
    }
   ],
   "source": [
    "X.shape  #petal length and width"
   ]
  },
  {
   "cell_type": "code",
   "execution_count": 11,
   "metadata": {},
   "outputs": [],
   "source": [
    "y= iris_data.target  #classes 0, 1,2"
   ]
  },
  {
   "cell_type": "code",
   "execution_count": 12,
   "metadata": {},
   "outputs": [
    {
     "data": {
      "text/plain": [
       "array([0, 0, 0, 0, 0, 0, 0, 0, 0, 0, 0, 0, 0, 0, 0, 0, 0, 0, 0, 0, 0, 0, 0,\n",
       "       0, 0, 0, 0, 0, 0, 0, 0, 0, 0, 0, 0, 0, 0, 0, 0, 0, 0, 0, 0, 0, 0, 0,\n",
       "       0, 0, 0, 0, 1, 1, 1, 1, 1, 1, 1, 1, 1, 1, 1, 1, 1, 1, 1, 1, 1, 1, 1,\n",
       "       1, 1, 1, 1, 1, 1, 1, 1, 1, 1, 1, 1, 1, 1, 1, 1, 1, 1, 1, 1, 1, 1, 1,\n",
       "       1, 1, 1, 1, 1, 1, 1, 1, 2, 2, 2, 2, 2, 2, 2, 2, 2, 2, 2, 2, 2, 2, 2,\n",
       "       2, 2, 2, 2, 2, 2, 2, 2, 2, 2, 2, 2, 2, 2, 2, 2, 2, 2, 2, 2, 2, 2, 2,\n",
       "       2, 2, 2, 2, 2, 2, 2, 2, 2, 2, 2, 2])"
      ]
     },
     "execution_count": 12,
     "metadata": {},
     "output_type": "execute_result"
    }
   ],
   "source": [
    "y"
   ]
  },
  {
   "cell_type": "code",
   "execution_count": 13,
   "metadata": {
    "collapsed": true
   },
   "outputs": [],
   "source": [
    "from sklearn.tree import DecisionTreeClassifier"
   ]
  },
  {
   "cell_type": "code",
   "execution_count": 14,
   "metadata": {
    "collapsed": true
   },
   "outputs": [],
   "source": [
    "tree_cls=DecisionTreeClassifier(max_depth= 2)"
   ]
  },
  {
   "cell_type": "code",
   "execution_count": 15,
   "metadata": {},
   "outputs": [
    {
     "data": {
      "text/plain": [
       "DecisionTreeClassifier(class_weight=None, criterion='gini', max_depth=2,\n",
       "            max_features=None, max_leaf_nodes=None,\n",
       "            min_impurity_decrease=0.0, min_impurity_split=None,\n",
       "            min_samples_leaf=1, min_samples_split=2,\n",
       "            min_weight_fraction_leaf=0.0, presort=False, random_state=None,\n",
       "            splitter='best')"
      ]
     },
     "execution_count": 15,
     "metadata": {},
     "output_type": "execute_result"
    }
   ],
   "source": [
    "tree_cls.fit(X,y)"
   ]
  },
  {
   "cell_type": "code",
   "execution_count": 16,
   "metadata": {
    "collapsed": true
   },
   "outputs": [],
   "source": [
    "#viz\n",
    "\n",
    "from sklearn.tree import export_graphviz"
   ]
  },
  {
   "cell_type": "code",
   "execution_count": 30,
   "metadata": {},
   "outputs": [],
   "source": [
    "export_graphviz(\n",
    "tree_cls,\n",
    "out_file = \"C:\\\\Users\\\\rahul\\\\OneDrive\\\\Desktop\\\\ML_DS\\\\Pandas_Practice\\\\ML_Data\\\\iris_tree.png\",\n",
    "feature_names = iris_data.feature_names[2:],\n",
    "rounded = True,\n",
    "filled = True )"
   ]
  },
  {
   "cell_type": "code",
   "execution_count": 26,
   "metadata": {},
   "outputs": [
    {
     "data": {
      "text/plain": [
       "array([0, 0, 0, 0, 0, 0, 0, 0, 0, 0, 0, 0, 0, 0, 0, 0, 0, 0, 0, 0, 0, 0, 0,\n",
       "       0, 0, 0, 0, 0, 0, 0, 0, 0, 0, 0, 0, 0, 0, 0, 0, 0, 0, 0, 0, 0, 0, 0,\n",
       "       0, 0, 0, 0, 1, 1, 1, 1, 1, 1, 1, 1, 1, 1, 1, 1, 1, 1, 1, 1, 1, 1, 1,\n",
       "       1, 1, 1, 1, 1, 1, 1, 1, 1, 1, 1, 1, 1, 1, 1, 1, 1, 1, 1, 1, 1, 1, 1,\n",
       "       1, 1, 1, 1, 1, 1, 1, 1, 2, 2, 2, 2, 2, 2, 2, 2, 2, 2, 2, 2, 2, 2, 2,\n",
       "       2, 2, 2, 2, 2, 2, 2, 2, 2, 2, 2, 2, 2, 2, 2, 2, 2, 2, 2, 2, 2, 2, 2,\n",
       "       2, 2, 2, 2, 2, 2, 2, 2, 2, 2, 2, 2])"
      ]
     },
     "execution_count": 26,
     "metadata": {},
     "output_type": "execute_result"
    }
   ],
   "source": []
  },
  {
   "cell_type": "code",
   "execution_count": null,
   "metadata": {
    "collapsed": true
   },
   "outputs": [],
   "source": [
    "u7u7tu7tttttttttttttttttttttttttttttttttttttttttttttttttttttttttttttttttttttttttttttttttttttttttttttttttttttttttttttttttttttttttttttttttttttttttttttttttttttttttttttttttttttttttttttttttttttt"
   ]
  },
  {
   "cell_type": "code",
   "execution_count": null,
   "metadata": {
    "collapsed": true
   },
   "outputs": [],
   "source": []
  },
  {
   "cell_type": "code",
   "execution_count": null,
   "metadata": {
    "collapsed": true
   },
   "outputs": [],
   "source": []
  },
  {
   "cell_type": "code",
   "execution_count": null,
   "metadata": {
    "collapsed": true
   },
   "outputs": [],
   "source": []
  },
  {
   "cell_type": "code",
   "execution_count": null,
   "metadata": {
    "collapsed": true
   },
   "outputs": [],
   "source": []
  }
 ],
 "metadata": {
  "kernelspec": {
   "display_name": "Python 3",
   "language": "python",
   "name": "python3"
  },
  "language_info": {
   "codemirror_mode": {
    "name": "ipython",
    "version": 3
   },
   "file_extension": ".py",
   "mimetype": "text/x-python",
   "name": "python",
   "nbconvert_exporter": "python",
   "pygments_lexer": "ipython3",
   "version": "3.6.3"
  }
 },
 "nbformat": 4,
 "nbformat_minor": 2
}
