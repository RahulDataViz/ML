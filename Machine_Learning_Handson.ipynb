{
 "cells": [
  {
   "cell_type": "code",
   "execution_count": 1,
   "metadata": {
    "collapsed": true
   },
   "outputs": [],
   "source": [
    "##Basic Linear Regression\n",
    "import pandas as pd\n",
    "import numpy as np\n",
    "import sklearn \n"
   ]
  },
  {
   "cell_type": "code",
   "execution_count": 2,
   "metadata": {
    "collapsed": true
   },
   "outputs": [],
   "source": [
    "import matplotlib\n",
    "import matplotlib.pyplot as plt"
   ]
  },
  {
   "cell_type": "code",
   "execution_count": 3,
   "metadata": {
    "collapsed": true
   },
   "outputs": [],
   "source": [
    "def prepare_country_stats(oecd_bli, gdp_per_capita):\n",
    "    oecd_bli = oecd_bli[oecd_bli[\"INEQUALITY\"]==\"TOT\"]\n",
    "    oecd_bli = oecd_bli.pivot(index=\"Country\", columns=\"Indicator\", values=\"Value\")\n",
    "    gdp_per_capita.rename(columns={\"2015\": \"GDP per capita\"}, inplace=True)\n",
    "    gdp_per_capita.set_index(\"Country\", inplace=True)\n",
    "    full_country_stats = pd.merge(left=oecd_bli, right=gdp_per_capita,\n",
    "                                  left_index=True, right_index=True)\n",
    "    full_country_stats.sort_values(by=\"GDP per capita\", inplace=True)\n",
    "    remove_indices = [0, 1, 6, 8, 33, 34, 35]\n",
    "    keep_indices = list(set(range(36)) - set(remove_indices))\n",
    "    return full_country_stats[[\"GDP per capita\", 'Life satisfaction']].iloc[keep_indices]"
   ]
  },
  {
   "cell_type": "code",
   "execution_count": 4,
   "metadata": {
    "collapsed": true
   },
   "outputs": [],
   "source": [
    "import os\n",
    "datapath = os.path.join(\"datasets\", \"lifesat\", \"\")"
   ]
  },
  {
   "cell_type": "code",
   "execution_count": 8,
   "metadata": {
    "collapsed": true
   },
   "outputs": [],
   "source": [
    "oecd_bli = pd.read_csv( 'C:\\\\Users\\\\rahul\\\\OneDrive\\\\Desktop\\\\ML_DS\\\\Pandas_Practice\\\\ML_Data\\\\oecd_bli.csv', thousands=',')\n",
    "gdp_per_capita = pd.read_csv('C:\\\\Users\\\\rahul\\\\OneDrive\\\\Desktop\\\\ML_DS\\\\Pandas_Practice\\\\ML_Data\\\\gdp_per_capita.xls',thousands=',',delimiter='\\t',\n",
    "                             encoding='latin1', na_values=\"n/a\")"
   ]
  },
  {
   "cell_type": "code",
   "execution_count": 11,
   "metadata": {},
   "outputs": [
    {
     "data": {
      "text/html": [
       "<div>\n",
       "<style>\n",
       "    .dataframe thead tr:only-child th {\n",
       "        text-align: right;\n",
       "    }\n",
       "\n",
       "    .dataframe thead th {\n",
       "        text-align: left;\n",
       "    }\n",
       "\n",
       "    .dataframe tbody tr th {\n",
       "        vertical-align: top;\n",
       "    }\n",
       "</style>\n",
       "<table border=\"1\" class=\"dataframe\">\n",
       "  <thead>\n",
       "    <tr style=\"text-align: right;\">\n",
       "      <th></th>\n",
       "      <th>Country</th>\n",
       "      <th>Subject Descriptor</th>\n",
       "      <th>Units</th>\n",
       "      <th>Scale</th>\n",
       "      <th>Country/Series-specific Notes</th>\n",
       "      <th>2015</th>\n",
       "      <th>Estimates Start After</th>\n",
       "    </tr>\n",
       "  </thead>\n",
       "  <tbody>\n",
       "    <tr>\n",
       "      <th>0</th>\n",
       "      <td>Afghanistan</td>\n",
       "      <td>Gross domestic product per capita, current prices</td>\n",
       "      <td>U.S. dollars</td>\n",
       "      <td>Units</td>\n",
       "      <td>See notes for:  Gross domestic product, curren...</td>\n",
       "      <td>599.994</td>\n",
       "      <td>2013.0</td>\n",
       "    </tr>\n",
       "    <tr>\n",
       "      <th>1</th>\n",
       "      <td>Albania</td>\n",
       "      <td>Gross domestic product per capita, current prices</td>\n",
       "      <td>U.S. dollars</td>\n",
       "      <td>Units</td>\n",
       "      <td>See notes for:  Gross domestic product, curren...</td>\n",
       "      <td>3995.383</td>\n",
       "      <td>2010.0</td>\n",
       "    </tr>\n",
       "    <tr>\n",
       "      <th>2</th>\n",
       "      <td>Algeria</td>\n",
       "      <td>Gross domestic product per capita, current prices</td>\n",
       "      <td>U.S. dollars</td>\n",
       "      <td>Units</td>\n",
       "      <td>See notes for:  Gross domestic product, curren...</td>\n",
       "      <td>4318.135</td>\n",
       "      <td>2014.0</td>\n",
       "    </tr>\n",
       "    <tr>\n",
       "      <th>3</th>\n",
       "      <td>Angola</td>\n",
       "      <td>Gross domestic product per capita, current prices</td>\n",
       "      <td>U.S. dollars</td>\n",
       "      <td>Units</td>\n",
       "      <td>See notes for:  Gross domestic product, curren...</td>\n",
       "      <td>4100.315</td>\n",
       "      <td>2014.0</td>\n",
       "    </tr>\n",
       "    <tr>\n",
       "      <th>4</th>\n",
       "      <td>Antigua and Barbuda</td>\n",
       "      <td>Gross domestic product per capita, current prices</td>\n",
       "      <td>U.S. dollars</td>\n",
       "      <td>Units</td>\n",
       "      <td>See notes for:  Gross domestic product, curren...</td>\n",
       "      <td>14414.302</td>\n",
       "      <td>2011.0</td>\n",
       "    </tr>\n",
       "    <tr>\n",
       "      <th>5</th>\n",
       "      <td>Argentina</td>\n",
       "      <td>Gross domestic product per capita, current prices</td>\n",
       "      <td>U.S. dollars</td>\n",
       "      <td>Units</td>\n",
       "      <td>See notes for:  Gross domestic product, curren...</td>\n",
       "      <td>13588.846</td>\n",
       "      <td>2013.0</td>\n",
       "    </tr>\n",
       "    <tr>\n",
       "      <th>6</th>\n",
       "      <td>Armenia</td>\n",
       "      <td>Gross domestic product per capita, current prices</td>\n",
       "      <td>U.S. dollars</td>\n",
       "      <td>Units</td>\n",
       "      <td>See notes for:  Gross domestic product, curren...</td>\n",
       "      <td>3534.860</td>\n",
       "      <td>2014.0</td>\n",
       "    </tr>\n",
       "    <tr>\n",
       "      <th>7</th>\n",
       "      <td>Australia</td>\n",
       "      <td>Gross domestic product per capita, current prices</td>\n",
       "      <td>U.S. dollars</td>\n",
       "      <td>Units</td>\n",
       "      <td>See notes for:  Gross domestic product, curren...</td>\n",
       "      <td>50961.865</td>\n",
       "      <td>2014.0</td>\n",
       "    </tr>\n",
       "    <tr>\n",
       "      <th>8</th>\n",
       "      <td>Austria</td>\n",
       "      <td>Gross domestic product per capita, current prices</td>\n",
       "      <td>U.S. dollars</td>\n",
       "      <td>Units</td>\n",
       "      <td>See notes for:  Gross domestic product, curren...</td>\n",
       "      <td>43724.031</td>\n",
       "      <td>2015.0</td>\n",
       "    </tr>\n",
       "    <tr>\n",
       "      <th>9</th>\n",
       "      <td>Azerbaijan</td>\n",
       "      <td>Gross domestic product per capita, current prices</td>\n",
       "      <td>U.S. dollars</td>\n",
       "      <td>Units</td>\n",
       "      <td>See notes for:  Gross domestic product, curren...</td>\n",
       "      <td>5739.433</td>\n",
       "      <td>2014.0</td>\n",
       "    </tr>\n",
       "    <tr>\n",
       "      <th>10</th>\n",
       "      <td>The Bahamas</td>\n",
       "      <td>Gross domestic product per capita, current prices</td>\n",
       "      <td>U.S. dollars</td>\n",
       "      <td>Units</td>\n",
       "      <td>See notes for:  Gross domestic product, curren...</td>\n",
       "      <td>23902.805</td>\n",
       "      <td>2013.0</td>\n",
       "    </tr>\n",
       "    <tr>\n",
       "      <th>11</th>\n",
       "      <td>Bahrain</td>\n",
       "      <td>Gross domestic product per capita, current prices</td>\n",
       "      <td>U.S. dollars</td>\n",
       "      <td>Units</td>\n",
       "      <td>See notes for:  Gross domestic product, curren...</td>\n",
       "      <td>23509.981</td>\n",
       "      <td>2014.0</td>\n",
       "    </tr>\n",
       "    <tr>\n",
       "      <th>12</th>\n",
       "      <td>Bangladesh</td>\n",
       "      <td>Gross domestic product per capita, current prices</td>\n",
       "      <td>U.S. dollars</td>\n",
       "      <td>Units</td>\n",
       "      <td>See notes for:  Gross domestic product, curren...</td>\n",
       "      <td>1286.868</td>\n",
       "      <td>2013.0</td>\n",
       "    </tr>\n",
       "    <tr>\n",
       "      <th>13</th>\n",
       "      <td>Barbados</td>\n",
       "      <td>Gross domestic product per capita, current prices</td>\n",
       "      <td>U.S. dollars</td>\n",
       "      <td>Units</td>\n",
       "      <td>See notes for:  Gross domestic product, curren...</td>\n",
       "      <td>15773.555</td>\n",
       "      <td>2010.0</td>\n",
       "    </tr>\n",
       "    <tr>\n",
       "      <th>14</th>\n",
       "      <td>Belarus</td>\n",
       "      <td>Gross domestic product per capita, current prices</td>\n",
       "      <td>U.S. dollars</td>\n",
       "      <td>Units</td>\n",
       "      <td>See notes for:  Gross domestic product, curren...</td>\n",
       "      <td>5749.119</td>\n",
       "      <td>2013.0</td>\n",
       "    </tr>\n",
       "    <tr>\n",
       "      <th>15</th>\n",
       "      <td>Belgium</td>\n",
       "      <td>Gross domestic product per capita, current prices</td>\n",
       "      <td>U.S. dollars</td>\n",
       "      <td>Units</td>\n",
       "      <td>See notes for:  Gross domestic product, curren...</td>\n",
       "      <td>40106.632</td>\n",
       "      <td>2014.0</td>\n",
       "    </tr>\n",
       "    <tr>\n",
       "      <th>16</th>\n",
       "      <td>Belize</td>\n",
       "      <td>Gross domestic product per capita, current prices</td>\n",
       "      <td>U.S. dollars</td>\n",
       "      <td>Units</td>\n",
       "      <td>See notes for:  Gross domestic product, curren...</td>\n",
       "      <td>4841.735</td>\n",
       "      <td>2013.0</td>\n",
       "    </tr>\n",
       "    <tr>\n",
       "      <th>17</th>\n",
       "      <td>Benin</td>\n",
       "      <td>Gross domestic product per capita, current prices</td>\n",
       "      <td>U.S. dollars</td>\n",
       "      <td>Units</td>\n",
       "      <td>See notes for:  Gross domestic product, curren...</td>\n",
       "      <td>780.063</td>\n",
       "      <td>2011.0</td>\n",
       "    </tr>\n",
       "    <tr>\n",
       "      <th>18</th>\n",
       "      <td>Bhutan</td>\n",
       "      <td>Gross domestic product per capita, current prices</td>\n",
       "      <td>U.S. dollars</td>\n",
       "      <td>Units</td>\n",
       "      <td>See notes for:  Gross domestic product, curren...</td>\n",
       "      <td>2843.402</td>\n",
       "      <td>2011.0</td>\n",
       "    </tr>\n",
       "    <tr>\n",
       "      <th>19</th>\n",
       "      <td>Bolivia</td>\n",
       "      <td>Gross domestic product per capita, current prices</td>\n",
       "      <td>U.S. dollars</td>\n",
       "      <td>Units</td>\n",
       "      <td>See notes for:  Gross domestic product, curren...</td>\n",
       "      <td>2886.231</td>\n",
       "      <td>2012.0</td>\n",
       "    </tr>\n",
       "    <tr>\n",
       "      <th>20</th>\n",
       "      <td>Bosnia and Herzegovina</td>\n",
       "      <td>Gross domestic product per capita, current prices</td>\n",
       "      <td>U.S. dollars</td>\n",
       "      <td>Units</td>\n",
       "      <td>See notes for:  Gross domestic product, curren...</td>\n",
       "      <td>4088.212</td>\n",
       "      <td>2014.0</td>\n",
       "    </tr>\n",
       "    <tr>\n",
       "      <th>21</th>\n",
       "      <td>Botswana</td>\n",
       "      <td>Gross domestic product per capita, current prices</td>\n",
       "      <td>U.S. dollars</td>\n",
       "      <td>Units</td>\n",
       "      <td>See notes for:  Gross domestic product, curren...</td>\n",
       "      <td>6040.957</td>\n",
       "      <td>2008.0</td>\n",
       "    </tr>\n",
       "    <tr>\n",
       "      <th>22</th>\n",
       "      <td>Brazil</td>\n",
       "      <td>Gross domestic product per capita, current prices</td>\n",
       "      <td>U.S. dollars</td>\n",
       "      <td>Units</td>\n",
       "      <td>See notes for:  Gross domestic product, curren...</td>\n",
       "      <td>8669.998</td>\n",
       "      <td>2014.0</td>\n",
       "    </tr>\n",
       "    <tr>\n",
       "      <th>23</th>\n",
       "      <td>Brunei Darussalam</td>\n",
       "      <td>Gross domestic product per capita, current prices</td>\n",
       "      <td>U.S. dollars</td>\n",
       "      <td>Units</td>\n",
       "      <td>See notes for:  Gross domestic product, curren...</td>\n",
       "      <td>28236.640</td>\n",
       "      <td>2013.0</td>\n",
       "    </tr>\n",
       "    <tr>\n",
       "      <th>24</th>\n",
       "      <td>Bulgaria</td>\n",
       "      <td>Gross domestic product per capita, current prices</td>\n",
       "      <td>U.S. dollars</td>\n",
       "      <td>Units</td>\n",
       "      <td>See notes for:  Gross domestic product, curren...</td>\n",
       "      <td>6831.661</td>\n",
       "      <td>2014.0</td>\n",
       "    </tr>\n",
       "    <tr>\n",
       "      <th>25</th>\n",
       "      <td>Burkina Faso</td>\n",
       "      <td>Gross domestic product per capita, current prices</td>\n",
       "      <td>U.S. dollars</td>\n",
       "      <td>Units</td>\n",
       "      <td>See notes for:  Gross domestic product, curren...</td>\n",
       "      <td>614.500</td>\n",
       "      <td>2012.0</td>\n",
       "    </tr>\n",
       "    <tr>\n",
       "      <th>26</th>\n",
       "      <td>Burundi</td>\n",
       "      <td>Gross domestic product per capita, current prices</td>\n",
       "      <td>U.S. dollars</td>\n",
       "      <td>Units</td>\n",
       "      <td>See notes for:  Gross domestic product, curren...</td>\n",
       "      <td>305.783</td>\n",
       "      <td>0.0</td>\n",
       "    </tr>\n",
       "    <tr>\n",
       "      <th>27</th>\n",
       "      <td>Cabo Verde</td>\n",
       "      <td>Gross domestic product per capita, current prices</td>\n",
       "      <td>U.S. dollars</td>\n",
       "      <td>Units</td>\n",
       "      <td>See notes for:  Gross domestic product, curren...</td>\n",
       "      <td>3038.511</td>\n",
       "      <td>2014.0</td>\n",
       "    </tr>\n",
       "    <tr>\n",
       "      <th>28</th>\n",
       "      <td>Cambodia</td>\n",
       "      <td>Gross domestic product per capita, current prices</td>\n",
       "      <td>U.S. dollars</td>\n",
       "      <td>Units</td>\n",
       "      <td>See notes for:  Gross domestic product, curren...</td>\n",
       "      <td>1168.036</td>\n",
       "      <td>2012.0</td>\n",
       "    </tr>\n",
       "    <tr>\n",
       "      <th>29</th>\n",
       "      <td>Cameroon</td>\n",
       "      <td>Gross domestic product per capita, current prices</td>\n",
       "      <td>U.S. dollars</td>\n",
       "      <td>Units</td>\n",
       "      <td>See notes for:  Gross domestic product, curren...</td>\n",
       "      <td>1232.423</td>\n",
       "      <td>2010.0</td>\n",
       "    </tr>\n",
       "    <tr>\n",
       "      <th>...</th>\n",
       "      <td>...</td>\n",
       "      <td>...</td>\n",
       "      <td>...</td>\n",
       "      <td>...</td>\n",
       "      <td>...</td>\n",
       "      <td>...</td>\n",
       "      <td>...</td>\n",
       "    </tr>\n",
       "    <tr>\n",
       "      <th>160</th>\n",
       "      <td>Swaziland</td>\n",
       "      <td>Gross domestic product per capita, current prices</td>\n",
       "      <td>U.S. dollars</td>\n",
       "      <td>Units</td>\n",
       "      <td>See notes for:  Gross domestic product, curren...</td>\n",
       "      <td>3139.664</td>\n",
       "      <td>2014.0</td>\n",
       "    </tr>\n",
       "    <tr>\n",
       "      <th>161</th>\n",
       "      <td>Sweden</td>\n",
       "      <td>Gross domestic product per capita, current prices</td>\n",
       "      <td>U.S. dollars</td>\n",
       "      <td>Units</td>\n",
       "      <td>See notes for:  Gross domestic product, curren...</td>\n",
       "      <td>49866.266</td>\n",
       "      <td>2014.0</td>\n",
       "    </tr>\n",
       "    <tr>\n",
       "      <th>162</th>\n",
       "      <td>Switzerland</td>\n",
       "      <td>Gross domestic product per capita, current prices</td>\n",
       "      <td>U.S. dollars</td>\n",
       "      <td>Units</td>\n",
       "      <td>See notes for:  Gross domestic product, curren...</td>\n",
       "      <td>80675.308</td>\n",
       "      <td>2015.0</td>\n",
       "    </tr>\n",
       "    <tr>\n",
       "      <th>163</th>\n",
       "      <td>Syria</td>\n",
       "      <td>Gross domestic product per capita, current prices</td>\n",
       "      <td>U.S. dollars</td>\n",
       "      <td>Units</td>\n",
       "      <td>See notes for:  Gross domestic product, curren...</td>\n",
       "      <td>NaN</td>\n",
       "      <td>2010.0</td>\n",
       "    </tr>\n",
       "    <tr>\n",
       "      <th>164</th>\n",
       "      <td>Taiwan Province of China</td>\n",
       "      <td>Gross domestic product per capita, current prices</td>\n",
       "      <td>U.S. dollars</td>\n",
       "      <td>Units</td>\n",
       "      <td>See notes for:  Gross domestic product, curren...</td>\n",
       "      <td>22287.562</td>\n",
       "      <td>2015.0</td>\n",
       "    </tr>\n",
       "    <tr>\n",
       "      <th>165</th>\n",
       "      <td>Tajikistan</td>\n",
       "      <td>Gross domestic product per capita, current prices</td>\n",
       "      <td>U.S. dollars</td>\n",
       "      <td>Units</td>\n",
       "      <td>See notes for:  Gross domestic product, curren...</td>\n",
       "      <td>922.072</td>\n",
       "      <td>2014.0</td>\n",
       "    </tr>\n",
       "    <tr>\n",
       "      <th>166</th>\n",
       "      <td>Tanzania</td>\n",
       "      <td>Gross domestic product per capita, current prices</td>\n",
       "      <td>U.S. dollars</td>\n",
       "      <td>Units</td>\n",
       "      <td>See notes for:  Gross domestic product, curren...</td>\n",
       "      <td>941.804</td>\n",
       "      <td>2012.0</td>\n",
       "    </tr>\n",
       "    <tr>\n",
       "      <th>167</th>\n",
       "      <td>Thailand</td>\n",
       "      <td>Gross domestic product per capita, current prices</td>\n",
       "      <td>U.S. dollars</td>\n",
       "      <td>Units</td>\n",
       "      <td>See notes for:  Gross domestic product, curren...</td>\n",
       "      <td>5742.282</td>\n",
       "      <td>2014.0</td>\n",
       "    </tr>\n",
       "    <tr>\n",
       "      <th>168</th>\n",
       "      <td>Timor-Leste</td>\n",
       "      <td>Gross domestic product per capita, current prices</td>\n",
       "      <td>U.S. dollars</td>\n",
       "      <td>Units</td>\n",
       "      <td>See notes for:  Gross domestic product, curren...</td>\n",
       "      <td>2244.307</td>\n",
       "      <td>2011.0</td>\n",
       "    </tr>\n",
       "    <tr>\n",
       "      <th>169</th>\n",
       "      <td>Togo</td>\n",
       "      <td>Gross domestic product per capita, current prices</td>\n",
       "      <td>U.S. dollars</td>\n",
       "      <td>Units</td>\n",
       "      <td>See notes for:  Gross domestic product, curren...</td>\n",
       "      <td>569.435</td>\n",
       "      <td>2010.0</td>\n",
       "    </tr>\n",
       "    <tr>\n",
       "      <th>170</th>\n",
       "      <td>Tonga</td>\n",
       "      <td>Gross domestic product per capita, current prices</td>\n",
       "      <td>U.S. dollars</td>\n",
       "      <td>Units</td>\n",
       "      <td>See notes for:  Gross domestic product, curren...</td>\n",
       "      <td>3972.741</td>\n",
       "      <td>2012.0</td>\n",
       "    </tr>\n",
       "    <tr>\n",
       "      <th>171</th>\n",
       "      <td>Trinidad and Tobago</td>\n",
       "      <td>Gross domestic product per capita, current prices</td>\n",
       "      <td>U.S. dollars</td>\n",
       "      <td>Units</td>\n",
       "      <td>See notes for:  Gross domestic product, curren...</td>\n",
       "      <td>18085.759</td>\n",
       "      <td>2012.0</td>\n",
       "    </tr>\n",
       "    <tr>\n",
       "      <th>172</th>\n",
       "      <td>Tunisia</td>\n",
       "      <td>Gross domestic product per capita, current prices</td>\n",
       "      <td>U.S. dollars</td>\n",
       "      <td>Units</td>\n",
       "      <td>See notes for:  Gross domestic product, curren...</td>\n",
       "      <td>3922.653</td>\n",
       "      <td>2010.0</td>\n",
       "    </tr>\n",
       "    <tr>\n",
       "      <th>173</th>\n",
       "      <td>Turkey</td>\n",
       "      <td>Gross domestic product per capita, current prices</td>\n",
       "      <td>U.S. dollars</td>\n",
       "      <td>Units</td>\n",
       "      <td>See notes for:  Gross domestic product, curren...</td>\n",
       "      <td>9437.372</td>\n",
       "      <td>2013.0</td>\n",
       "    </tr>\n",
       "    <tr>\n",
       "      <th>174</th>\n",
       "      <td>Turkmenistan</td>\n",
       "      <td>Gross domestic product per capita, current prices</td>\n",
       "      <td>U.S. dollars</td>\n",
       "      <td>Units</td>\n",
       "      <td>See notes for:  Gross domestic product, curren...</td>\n",
       "      <td>6622.414</td>\n",
       "      <td>2004.0</td>\n",
       "    </tr>\n",
       "    <tr>\n",
       "      <th>175</th>\n",
       "      <td>Tuvalu</td>\n",
       "      <td>Gross domestic product per capita, current prices</td>\n",
       "      <td>U.S. dollars</td>\n",
       "      <td>Units</td>\n",
       "      <td>See notes for:  Gross domestic product, curren...</td>\n",
       "      <td>3014.630</td>\n",
       "      <td>2012.0</td>\n",
       "    </tr>\n",
       "    <tr>\n",
       "      <th>176</th>\n",
       "      <td>Uganda</td>\n",
       "      <td>Gross domestic product per capita, current prices</td>\n",
       "      <td>U.S. dollars</td>\n",
       "      <td>Units</td>\n",
       "      <td>See notes for:  Gross domestic product, curren...</td>\n",
       "      <td>620.213</td>\n",
       "      <td>2014.0</td>\n",
       "    </tr>\n",
       "    <tr>\n",
       "      <th>177</th>\n",
       "      <td>Ukraine</td>\n",
       "      <td>Gross domestic product per capita, current prices</td>\n",
       "      <td>U.S. dollars</td>\n",
       "      <td>Units</td>\n",
       "      <td>See notes for:  Gross domestic product, curren...</td>\n",
       "      <td>2125.426</td>\n",
       "      <td>2015.0</td>\n",
       "    </tr>\n",
       "    <tr>\n",
       "      <th>178</th>\n",
       "      <td>United Arab Emirates</td>\n",
       "      <td>Gross domestic product per capita, current prices</td>\n",
       "      <td>U.S. dollars</td>\n",
       "      <td>Units</td>\n",
       "      <td>See notes for:  Gross domestic product, curren...</td>\n",
       "      <td>36060.015</td>\n",
       "      <td>2010.0</td>\n",
       "    </tr>\n",
       "    <tr>\n",
       "      <th>179</th>\n",
       "      <td>United Kingdom</td>\n",
       "      <td>Gross domestic product per capita, current prices</td>\n",
       "      <td>U.S. dollars</td>\n",
       "      <td>Units</td>\n",
       "      <td>See notes for:  Gross domestic product, curren...</td>\n",
       "      <td>43770.688</td>\n",
       "      <td>2015.0</td>\n",
       "    </tr>\n",
       "    <tr>\n",
       "      <th>180</th>\n",
       "      <td>United States</td>\n",
       "      <td>Gross domestic product per capita, current prices</td>\n",
       "      <td>U.S. dollars</td>\n",
       "      <td>Units</td>\n",
       "      <td>See notes for:  Gross domestic product, curren...</td>\n",
       "      <td>55805.204</td>\n",
       "      <td>2015.0</td>\n",
       "    </tr>\n",
       "    <tr>\n",
       "      <th>181</th>\n",
       "      <td>Uruguay</td>\n",
       "      <td>Gross domestic product per capita, current prices</td>\n",
       "      <td>U.S. dollars</td>\n",
       "      <td>Units</td>\n",
       "      <td>See notes for:  Gross domestic product, curren...</td>\n",
       "      <td>15748.192</td>\n",
       "      <td>2014.0</td>\n",
       "    </tr>\n",
       "    <tr>\n",
       "      <th>182</th>\n",
       "      <td>Uzbekistan</td>\n",
       "      <td>Gross domestic product per capita, current prices</td>\n",
       "      <td>U.S. dollars</td>\n",
       "      <td>Units</td>\n",
       "      <td>See notes for:  Gross domestic product, curren...</td>\n",
       "      <td>2120.778</td>\n",
       "      <td>2013.0</td>\n",
       "    </tr>\n",
       "    <tr>\n",
       "      <th>183</th>\n",
       "      <td>Vanuatu</td>\n",
       "      <td>Gross domestic product per capita, current prices</td>\n",
       "      <td>U.S. dollars</td>\n",
       "      <td>Units</td>\n",
       "      <td>See notes for:  Gross domestic product, curren...</td>\n",
       "      <td>2847.113</td>\n",
       "      <td>2014.0</td>\n",
       "    </tr>\n",
       "    <tr>\n",
       "      <th>184</th>\n",
       "      <td>Venezuela</td>\n",
       "      <td>Gross domestic product per capita, current prices</td>\n",
       "      <td>U.S. dollars</td>\n",
       "      <td>Units</td>\n",
       "      <td>See notes for:  Gross domestic product, curren...</td>\n",
       "      <td>7744.746</td>\n",
       "      <td>2010.0</td>\n",
       "    </tr>\n",
       "    <tr>\n",
       "      <th>185</th>\n",
       "      <td>Vietnam</td>\n",
       "      <td>Gross domestic product per capita, current prices</td>\n",
       "      <td>U.S. dollars</td>\n",
       "      <td>Units</td>\n",
       "      <td>See notes for:  Gross domestic product, curren...</td>\n",
       "      <td>2088.344</td>\n",
       "      <td>2012.0</td>\n",
       "    </tr>\n",
       "    <tr>\n",
       "      <th>186</th>\n",
       "      <td>Yemen</td>\n",
       "      <td>Gross domestic product per capita, current prices</td>\n",
       "      <td>U.S. dollars</td>\n",
       "      <td>Units</td>\n",
       "      <td>See notes for:  Gross domestic product, curren...</td>\n",
       "      <td>1302.940</td>\n",
       "      <td>2008.0</td>\n",
       "    </tr>\n",
       "    <tr>\n",
       "      <th>187</th>\n",
       "      <td>Zambia</td>\n",
       "      <td>Gross domestic product per capita, current prices</td>\n",
       "      <td>U.S. dollars</td>\n",
       "      <td>Units</td>\n",
       "      <td>See notes for:  Gross domestic product, curren...</td>\n",
       "      <td>1350.151</td>\n",
       "      <td>2010.0</td>\n",
       "    </tr>\n",
       "    <tr>\n",
       "      <th>188</th>\n",
       "      <td>Zimbabwe</td>\n",
       "      <td>Gross domestic product per capita, current prices</td>\n",
       "      <td>U.S. dollars</td>\n",
       "      <td>Units</td>\n",
       "      <td>See notes for:  Gross domestic product, curren...</td>\n",
       "      <td>1064.350</td>\n",
       "      <td>2012.0</td>\n",
       "    </tr>\n",
       "    <tr>\n",
       "      <th>189</th>\n",
       "      <td>International Monetary Fund, World Economic Ou...</td>\n",
       "      <td>NaN</td>\n",
       "      <td>NaN</td>\n",
       "      <td>NaN</td>\n",
       "      <td>NaN</td>\n",
       "      <td>NaN</td>\n",
       "      <td>NaN</td>\n",
       "    </tr>\n",
       "  </tbody>\n",
       "</table>\n",
       "<p>190 rows × 7 columns</p>\n",
       "</div>"
      ],
      "text/plain": [
       "                                               Country  \\\n",
       "0                                          Afghanistan   \n",
       "1                                              Albania   \n",
       "2                                              Algeria   \n",
       "3                                               Angola   \n",
       "4                                  Antigua and Barbuda   \n",
       "5                                            Argentina   \n",
       "6                                              Armenia   \n",
       "7                                            Australia   \n",
       "8                                              Austria   \n",
       "9                                           Azerbaijan   \n",
       "10                                         The Bahamas   \n",
       "11                                             Bahrain   \n",
       "12                                          Bangladesh   \n",
       "13                                            Barbados   \n",
       "14                                             Belarus   \n",
       "15                                             Belgium   \n",
       "16                                              Belize   \n",
       "17                                               Benin   \n",
       "18                                              Bhutan   \n",
       "19                                             Bolivia   \n",
       "20                              Bosnia and Herzegovina   \n",
       "21                                            Botswana   \n",
       "22                                              Brazil   \n",
       "23                                   Brunei Darussalam   \n",
       "24                                            Bulgaria   \n",
       "25                                        Burkina Faso   \n",
       "26                                             Burundi   \n",
       "27                                          Cabo Verde   \n",
       "28                                            Cambodia   \n",
       "29                                            Cameroon   \n",
       "..                                                 ...   \n",
       "160                                          Swaziland   \n",
       "161                                             Sweden   \n",
       "162                                        Switzerland   \n",
       "163                                              Syria   \n",
       "164                           Taiwan Province of China   \n",
       "165                                         Tajikistan   \n",
       "166                                           Tanzania   \n",
       "167                                           Thailand   \n",
       "168                                        Timor-Leste   \n",
       "169                                               Togo   \n",
       "170                                              Tonga   \n",
       "171                                Trinidad and Tobago   \n",
       "172                                            Tunisia   \n",
       "173                                             Turkey   \n",
       "174                                       Turkmenistan   \n",
       "175                                             Tuvalu   \n",
       "176                                             Uganda   \n",
       "177                                            Ukraine   \n",
       "178                               United Arab Emirates   \n",
       "179                                     United Kingdom   \n",
       "180                                      United States   \n",
       "181                                            Uruguay   \n",
       "182                                         Uzbekistan   \n",
       "183                                            Vanuatu   \n",
       "184                                          Venezuela   \n",
       "185                                            Vietnam   \n",
       "186                                              Yemen   \n",
       "187                                             Zambia   \n",
       "188                                           Zimbabwe   \n",
       "189  International Monetary Fund, World Economic Ou...   \n",
       "\n",
       "                                    Subject Descriptor         Units  Scale  \\\n",
       "0    Gross domestic product per capita, current prices  U.S. dollars  Units   \n",
       "1    Gross domestic product per capita, current prices  U.S. dollars  Units   \n",
       "2    Gross domestic product per capita, current prices  U.S. dollars  Units   \n",
       "3    Gross domestic product per capita, current prices  U.S. dollars  Units   \n",
       "4    Gross domestic product per capita, current prices  U.S. dollars  Units   \n",
       "5    Gross domestic product per capita, current prices  U.S. dollars  Units   \n",
       "6    Gross domestic product per capita, current prices  U.S. dollars  Units   \n",
       "7    Gross domestic product per capita, current prices  U.S. dollars  Units   \n",
       "8    Gross domestic product per capita, current prices  U.S. dollars  Units   \n",
       "9    Gross domestic product per capita, current prices  U.S. dollars  Units   \n",
       "10   Gross domestic product per capita, current prices  U.S. dollars  Units   \n",
       "11   Gross domestic product per capita, current prices  U.S. dollars  Units   \n",
       "12   Gross domestic product per capita, current prices  U.S. dollars  Units   \n",
       "13   Gross domestic product per capita, current prices  U.S. dollars  Units   \n",
       "14   Gross domestic product per capita, current prices  U.S. dollars  Units   \n",
       "15   Gross domestic product per capita, current prices  U.S. dollars  Units   \n",
       "16   Gross domestic product per capita, current prices  U.S. dollars  Units   \n",
       "17   Gross domestic product per capita, current prices  U.S. dollars  Units   \n",
       "18   Gross domestic product per capita, current prices  U.S. dollars  Units   \n",
       "19   Gross domestic product per capita, current prices  U.S. dollars  Units   \n",
       "20   Gross domestic product per capita, current prices  U.S. dollars  Units   \n",
       "21   Gross domestic product per capita, current prices  U.S. dollars  Units   \n",
       "22   Gross domestic product per capita, current prices  U.S. dollars  Units   \n",
       "23   Gross domestic product per capita, current prices  U.S. dollars  Units   \n",
       "24   Gross domestic product per capita, current prices  U.S. dollars  Units   \n",
       "25   Gross domestic product per capita, current prices  U.S. dollars  Units   \n",
       "26   Gross domestic product per capita, current prices  U.S. dollars  Units   \n",
       "27   Gross domestic product per capita, current prices  U.S. dollars  Units   \n",
       "28   Gross domestic product per capita, current prices  U.S. dollars  Units   \n",
       "29   Gross domestic product per capita, current prices  U.S. dollars  Units   \n",
       "..                                                 ...           ...    ...   \n",
       "160  Gross domestic product per capita, current prices  U.S. dollars  Units   \n",
       "161  Gross domestic product per capita, current prices  U.S. dollars  Units   \n",
       "162  Gross domestic product per capita, current prices  U.S. dollars  Units   \n",
       "163  Gross domestic product per capita, current prices  U.S. dollars  Units   \n",
       "164  Gross domestic product per capita, current prices  U.S. dollars  Units   \n",
       "165  Gross domestic product per capita, current prices  U.S. dollars  Units   \n",
       "166  Gross domestic product per capita, current prices  U.S. dollars  Units   \n",
       "167  Gross domestic product per capita, current prices  U.S. dollars  Units   \n",
       "168  Gross domestic product per capita, current prices  U.S. dollars  Units   \n",
       "169  Gross domestic product per capita, current prices  U.S. dollars  Units   \n",
       "170  Gross domestic product per capita, current prices  U.S. dollars  Units   \n",
       "171  Gross domestic product per capita, current prices  U.S. dollars  Units   \n",
       "172  Gross domestic product per capita, current prices  U.S. dollars  Units   \n",
       "173  Gross domestic product per capita, current prices  U.S. dollars  Units   \n",
       "174  Gross domestic product per capita, current prices  U.S. dollars  Units   \n",
       "175  Gross domestic product per capita, current prices  U.S. dollars  Units   \n",
       "176  Gross domestic product per capita, current prices  U.S. dollars  Units   \n",
       "177  Gross domestic product per capita, current prices  U.S. dollars  Units   \n",
       "178  Gross domestic product per capita, current prices  U.S. dollars  Units   \n",
       "179  Gross domestic product per capita, current prices  U.S. dollars  Units   \n",
       "180  Gross domestic product per capita, current prices  U.S. dollars  Units   \n",
       "181  Gross domestic product per capita, current prices  U.S. dollars  Units   \n",
       "182  Gross domestic product per capita, current prices  U.S. dollars  Units   \n",
       "183  Gross domestic product per capita, current prices  U.S. dollars  Units   \n",
       "184  Gross domestic product per capita, current prices  U.S. dollars  Units   \n",
       "185  Gross domestic product per capita, current prices  U.S. dollars  Units   \n",
       "186  Gross domestic product per capita, current prices  U.S. dollars  Units   \n",
       "187  Gross domestic product per capita, current prices  U.S. dollars  Units   \n",
       "188  Gross domestic product per capita, current prices  U.S. dollars  Units   \n",
       "189                                                NaN           NaN    NaN   \n",
       "\n",
       "                         Country/Series-specific Notes       2015  \\\n",
       "0    See notes for:  Gross domestic product, curren...    599.994   \n",
       "1    See notes for:  Gross domestic product, curren...   3995.383   \n",
       "2    See notes for:  Gross domestic product, curren...   4318.135   \n",
       "3    See notes for:  Gross domestic product, curren...   4100.315   \n",
       "4    See notes for:  Gross domestic product, curren...  14414.302   \n",
       "5    See notes for:  Gross domestic product, curren...  13588.846   \n",
       "6    See notes for:  Gross domestic product, curren...   3534.860   \n",
       "7    See notes for:  Gross domestic product, curren...  50961.865   \n",
       "8    See notes for:  Gross domestic product, curren...  43724.031   \n",
       "9    See notes for:  Gross domestic product, curren...   5739.433   \n",
       "10   See notes for:  Gross domestic product, curren...  23902.805   \n",
       "11   See notes for:  Gross domestic product, curren...  23509.981   \n",
       "12   See notes for:  Gross domestic product, curren...   1286.868   \n",
       "13   See notes for:  Gross domestic product, curren...  15773.555   \n",
       "14   See notes for:  Gross domestic product, curren...   5749.119   \n",
       "15   See notes for:  Gross domestic product, curren...  40106.632   \n",
       "16   See notes for:  Gross domestic product, curren...   4841.735   \n",
       "17   See notes for:  Gross domestic product, curren...    780.063   \n",
       "18   See notes for:  Gross domestic product, curren...   2843.402   \n",
       "19   See notes for:  Gross domestic product, curren...   2886.231   \n",
       "20   See notes for:  Gross domestic product, curren...   4088.212   \n",
       "21   See notes for:  Gross domestic product, curren...   6040.957   \n",
       "22   See notes for:  Gross domestic product, curren...   8669.998   \n",
       "23   See notes for:  Gross domestic product, curren...  28236.640   \n",
       "24   See notes for:  Gross domestic product, curren...   6831.661   \n",
       "25   See notes for:  Gross domestic product, curren...    614.500   \n",
       "26   See notes for:  Gross domestic product, curren...    305.783   \n",
       "27   See notes for:  Gross domestic product, curren...   3038.511   \n",
       "28   See notes for:  Gross domestic product, curren...   1168.036   \n",
       "29   See notes for:  Gross domestic product, curren...   1232.423   \n",
       "..                                                 ...        ...   \n",
       "160  See notes for:  Gross domestic product, curren...   3139.664   \n",
       "161  See notes for:  Gross domestic product, curren...  49866.266   \n",
       "162  See notes for:  Gross domestic product, curren...  80675.308   \n",
       "163  See notes for:  Gross domestic product, curren...        NaN   \n",
       "164  See notes for:  Gross domestic product, curren...  22287.562   \n",
       "165  See notes for:  Gross domestic product, curren...    922.072   \n",
       "166  See notes for:  Gross domestic product, curren...    941.804   \n",
       "167  See notes for:  Gross domestic product, curren...   5742.282   \n",
       "168  See notes for:  Gross domestic product, curren...   2244.307   \n",
       "169  See notes for:  Gross domestic product, curren...    569.435   \n",
       "170  See notes for:  Gross domestic product, curren...   3972.741   \n",
       "171  See notes for:  Gross domestic product, curren...  18085.759   \n",
       "172  See notes for:  Gross domestic product, curren...   3922.653   \n",
       "173  See notes for:  Gross domestic product, curren...   9437.372   \n",
       "174  See notes for:  Gross domestic product, curren...   6622.414   \n",
       "175  See notes for:  Gross domestic product, curren...   3014.630   \n",
       "176  See notes for:  Gross domestic product, curren...    620.213   \n",
       "177  See notes for:  Gross domestic product, curren...   2125.426   \n",
       "178  See notes for:  Gross domestic product, curren...  36060.015   \n",
       "179  See notes for:  Gross domestic product, curren...  43770.688   \n",
       "180  See notes for:  Gross domestic product, curren...  55805.204   \n",
       "181  See notes for:  Gross domestic product, curren...  15748.192   \n",
       "182  See notes for:  Gross domestic product, curren...   2120.778   \n",
       "183  See notes for:  Gross domestic product, curren...   2847.113   \n",
       "184  See notes for:  Gross domestic product, curren...   7744.746   \n",
       "185  See notes for:  Gross domestic product, curren...   2088.344   \n",
       "186  See notes for:  Gross domestic product, curren...   1302.940   \n",
       "187  See notes for:  Gross domestic product, curren...   1350.151   \n",
       "188  See notes for:  Gross domestic product, curren...   1064.350   \n",
       "189                                                NaN        NaN   \n",
       "\n",
       "     Estimates Start After  \n",
       "0                   2013.0  \n",
       "1                   2010.0  \n",
       "2                   2014.0  \n",
       "3                   2014.0  \n",
       "4                   2011.0  \n",
       "5                   2013.0  \n",
       "6                   2014.0  \n",
       "7                   2014.0  \n",
       "8                   2015.0  \n",
       "9                   2014.0  \n",
       "10                  2013.0  \n",
       "11                  2014.0  \n",
       "12                  2013.0  \n",
       "13                  2010.0  \n",
       "14                  2013.0  \n",
       "15                  2014.0  \n",
       "16                  2013.0  \n",
       "17                  2011.0  \n",
       "18                  2011.0  \n",
       "19                  2012.0  \n",
       "20                  2014.0  \n",
       "21                  2008.0  \n",
       "22                  2014.0  \n",
       "23                  2013.0  \n",
       "24                  2014.0  \n",
       "25                  2012.0  \n",
       "26                     0.0  \n",
       "27                  2014.0  \n",
       "28                  2012.0  \n",
       "29                  2010.0  \n",
       "..                     ...  \n",
       "160                 2014.0  \n",
       "161                 2014.0  \n",
       "162                 2015.0  \n",
       "163                 2010.0  \n",
       "164                 2015.0  \n",
       "165                 2014.0  \n",
       "166                 2012.0  \n",
       "167                 2014.0  \n",
       "168                 2011.0  \n",
       "169                 2010.0  \n",
       "170                 2012.0  \n",
       "171                 2012.0  \n",
       "172                 2010.0  \n",
       "173                 2013.0  \n",
       "174                 2004.0  \n",
       "175                 2012.0  \n",
       "176                 2014.0  \n",
       "177                 2015.0  \n",
       "178                 2010.0  \n",
       "179                 2015.0  \n",
       "180                 2015.0  \n",
       "181                 2014.0  \n",
       "182                 2013.0  \n",
       "183                 2014.0  \n",
       "184                 2010.0  \n",
       "185                 2012.0  \n",
       "186                 2008.0  \n",
       "187                 2010.0  \n",
       "188                 2012.0  \n",
       "189                    NaN  \n",
       "\n",
       "[190 rows x 7 columns]"
      ]
     },
     "execution_count": 11,
     "metadata": {},
     "output_type": "execute_result"
    }
   ],
   "source": [
    "gdp_per_capita\n"
   ]
  },
  {
   "cell_type": "code",
   "execution_count": 12,
   "metadata": {
    "collapsed": true
   },
   "outputs": [],
   "source": [
    "country_stats = prepare_country_stats(oecd_bli, gdp_per_capita)"
   ]
  },
  {
   "cell_type": "code",
   "execution_count": 13,
   "metadata": {},
   "outputs": [
    {
     "data": {
      "text/html": [
       "<div>\n",
       "<style>\n",
       "    .dataframe thead tr:only-child th {\n",
       "        text-align: right;\n",
       "    }\n",
       "\n",
       "    .dataframe thead th {\n",
       "        text-align: left;\n",
       "    }\n",
       "\n",
       "    .dataframe tbody tr th {\n",
       "        vertical-align: top;\n",
       "    }\n",
       "</style>\n",
       "<table border=\"1\" class=\"dataframe\">\n",
       "  <thead>\n",
       "    <tr style=\"text-align: right;\">\n",
       "      <th></th>\n",
       "      <th>GDP per capita</th>\n",
       "      <th>Life satisfaction</th>\n",
       "    </tr>\n",
       "    <tr>\n",
       "      <th>Country</th>\n",
       "      <th></th>\n",
       "      <th></th>\n",
       "    </tr>\n",
       "  </thead>\n",
       "  <tbody>\n",
       "    <tr>\n",
       "      <th>Mexico</th>\n",
       "      <td>9009.280</td>\n",
       "      <td>6.6</td>\n",
       "    </tr>\n",
       "    <tr>\n",
       "      <th>Russia</th>\n",
       "      <td>9054.914</td>\n",
       "      <td>6.0</td>\n",
       "    </tr>\n",
       "    <tr>\n",
       "      <th>Turkey</th>\n",
       "      <td>9437.372</td>\n",
       "      <td>5.5</td>\n",
       "    </tr>\n",
       "    <tr>\n",
       "      <th>Hungary</th>\n",
       "      <td>12239.894</td>\n",
       "      <td>5.3</td>\n",
       "    </tr>\n",
       "    <tr>\n",
       "      <th>Chile</th>\n",
       "      <td>13340.905</td>\n",
       "      <td>6.7</td>\n",
       "    </tr>\n",
       "  </tbody>\n",
       "</table>\n",
       "</div>"
      ],
      "text/plain": [
       "         GDP per capita  Life satisfaction\n",
       "Country                                   \n",
       "Mexico         9009.280                6.6\n",
       "Russia         9054.914                6.0\n",
       "Turkey         9437.372                5.5\n",
       "Hungary       12239.894                5.3\n",
       "Chile         13340.905                6.7"
      ]
     },
     "execution_count": 13,
     "metadata": {},
     "output_type": "execute_result"
    }
   ],
   "source": [
    "##country stats is my dataset that is clean and ready to be used\n",
    "\n",
    "country_stats.head()"
   ]
  },
  {
   "cell_type": "code",
   "execution_count": 63,
   "metadata": {},
   "outputs": [
    {
     "data": {
      "text/plain": [
       "<matplotlib.axes._subplots.AxesSubplot at 0x159800135c0>"
      ]
     },
     "execution_count": 63,
     "metadata": {},
     "output_type": "execute_result"
    }
   ],
   "source": [
    "# Visualize the data\n",
    "country_stats.plot(kind = 'scatter', x= 'GDP per capita', y='Life satisfaction')\n"
   ]
  },
  {
   "cell_type": "code",
   "execution_count": 64,
   "metadata": {},
   "outputs": [
    {
     "data": {
      "image/png": "[encoded data removed]",
      "text/plain": [
       "<matplotlib.figure.Figure at 0x15980161278>"
      ]
     },
     "metadata": {},
     "output_type": "display_data"
    }
   ],
   "source": [
    "plt.show()"
   ]
  },
  {
   "cell_type": "code",
   "execution_count": null,
   "metadata": {
    "collapsed": true
   },
   "outputs": [],
   "source": []
  },
  {
   "cell_type": "code",
   "execution_count": null,
   "metadata": {
    "collapsed": true
   },
   "outputs": [],
   "source": []
  },
  {
   "cell_type": "code",
   "execution_count": 21,
   "metadata": {},
   "outputs": [
    {
     "data": {
      "text/plain": [
       "array([  9009.28 ,   9054.914,   9437.372,  12239.894,  13340.905,\n",
       "        15991.736,  17256.918,  17288.083,  18064.288,  19121.592,\n",
       "        20732.482,  25864.721,  27195.197,  29866.581,  32485.545,\n",
       "        35343.336,  37044.891,  37675.006,  40106.632,  40996.511,\n",
       "        41973.988,  43331.961,  43603.115,  43724.031,  43770.688,\n",
       "        49866.266,  50854.583,  50961.865,  51350.744])"
      ]
     },
     "execution_count": 21,
     "metadata": {},
     "output_type": "execute_result"
    }
   ],
   "source": [
    "country_stats[\"GDP per capita\"].values"
   ]
  },
  {
   "cell_type": "code",
   "execution_count": 23,
   "metadata": {},
   "outputs": [
    {
     "data": {
      "text/plain": [
       "array([[  9009.28 ],\n",
       "       [  9054.914],\n",
       "       [  9437.372],\n",
       "       [ 12239.894],\n",
       "       [ 13340.905],\n",
       "       [ 15991.736],\n",
       "       [ 17256.918],\n",
       "       [ 17288.083],\n",
       "       [ 18064.288],\n",
       "       [ 19121.592],\n",
       "       [ 20732.482],\n",
       "       [ 25864.721],\n",
       "       [ 27195.197],\n",
       "       [ 29866.581],\n",
       "       [ 32485.545],\n",
       "       [ 35343.336],\n",
       "       [ 37044.891],\n",
       "       [ 37675.006],\n",
       "       [ 40106.632],\n",
       "       [ 40996.511],\n",
       "       [ 41973.988],\n",
       "       [ 43331.961],\n",
       "       [ 43603.115],\n",
       "       [ 43724.031],\n",
       "       [ 43770.688],\n",
       "       [ 49866.266],\n",
       "       [ 50854.583],\n",
       "       [ 50961.865],\n",
       "       [ 51350.744]])"
      ]
     },
     "execution_count": 23,
     "metadata": {},
     "output_type": "execute_result"
    }
   ],
   "source": [
    "np.c_[country_stats['GDP per capita']]"
   ]
  },
  {
   "cell_type": "code",
   "execution_count": 24,
   "metadata": {
    "collapsed": true
   },
   "outputs": [],
   "source": [
    "a= np.array([[1,2,3],\n",
    "            [4,5,6]])"
   ]
  },
  {
   "cell_type": "code",
   "execution_count": 25,
   "metadata": {},
   "outputs": [
    {
     "data": {
      "text/plain": [
       "array([[1, 2, 3],\n",
       "       [4, 5, 6]])"
      ]
     },
     "execution_count": 25,
     "metadata": {},
     "output_type": "execute_result"
    }
   ],
   "source": [
    "a"
   ]
  },
  {
   "cell_type": "code",
   "execution_count": 26,
   "metadata": {
    "collapsed": true
   },
   "outputs": [],
   "source": [
    "b= np.array([[7,8,9],\n",
    "            [10,11,12]])"
   ]
  },
  {
   "cell_type": "code",
   "execution_count": 27,
   "metadata": {},
   "outputs": [
    {
     "data": {
      "text/plain": [
       "array([[1, 2, 3],\n",
       "       [4, 5, 6]])"
      ]
     },
     "execution_count": 27,
     "metadata": {},
     "output_type": "execute_result"
    }
   ],
   "source": [
    "a"
   ]
  },
  {
   "cell_type": "code",
   "execution_count": 28,
   "metadata": {},
   "outputs": [
    {
     "data": {
      "text/plain": [
       "array([[ 7,  8,  9],\n",
       "       [10, 11, 12]])"
      ]
     },
     "execution_count": 28,
     "metadata": {},
     "output_type": "execute_result"
    }
   ],
   "source": [
    "b"
   ]
  },
  {
   "cell_type": "code",
   "execution_count": 29,
   "metadata": {},
   "outputs": [
    {
     "data": {
      "text/plain": [
       "array([[ 1,  2,  3,  7,  8,  9],\n",
       "       [ 4,  5,  6, 10, 11, 12]])"
      ]
     },
     "execution_count": 29,
     "metadata": {},
     "output_type": "execute_result"
    }
   ],
   "source": [
    "np.c_[a, b]"
   ]
  },
  {
   "cell_type": "code",
   "execution_count": 30,
   "metadata": {},
   "outputs": [
    {
     "data": {
      "text/plain": [
       "array([[ 1,  2,  3],\n",
       "       [ 4,  5,  6],\n",
       "       [ 7,  8,  9],\n",
       "       [10, 11, 12]])"
      ]
     },
     "execution_count": 30,
     "metadata": {},
     "output_type": "execute_result"
    }
   ],
   "source": [
    "np.r_[a,b]"
   ]
  },
  {
   "cell_type": "code",
   "execution_count": 31,
   "metadata": {},
   "outputs": [
    {
     "data": {
      "text/plain": [
       "array([[1, 2, 3],\n",
       "       [4, 5, 6]])"
      ]
     },
     "execution_count": 31,
     "metadata": {},
     "output_type": "execute_result"
    }
   ],
   "source": [
    "np.r_[a]"
   ]
  },
  {
   "cell_type": "code",
   "execution_count": 32,
   "metadata": {},
   "outputs": [
    {
     "data": {
      "text/plain": [
       "array([[1, 2, 3],\n",
       "       [4, 5, 6]])"
      ]
     },
     "execution_count": 32,
     "metadata": {},
     "output_type": "execute_result"
    }
   ],
   "source": [
    "np.c_[a]"
   ]
  },
  {
   "cell_type": "code",
   "execution_count": 33,
   "metadata": {
    "collapsed": true
   },
   "outputs": [],
   "source": [
    "c = np.array([3,5,6,7,8,10])"
   ]
  },
  {
   "cell_type": "code",
   "execution_count": 35,
   "metadata": {
    "collapsed": true
   },
   "outputs": [],
   "source": [
    "c_1= np.c_[c]"
   ]
  },
  {
   "cell_type": "code",
   "execution_count": 38,
   "metadata": {},
   "outputs": [
    {
     "data": {
      "text/plain": [
       "(6, 1)"
      ]
     },
     "execution_count": 38,
     "metadata": {},
     "output_type": "execute_result"
    }
   ],
   "source": [
    "c_1.shape"
   ]
  },
  {
   "cell_type": "code",
   "execution_count": 40,
   "metadata": {},
   "outputs": [
    {
     "data": {
      "text/plain": [
       "(6,)"
      ]
     },
     "execution_count": 40,
     "metadata": {},
     "output_type": "execute_result"
    }
   ],
   "source": [
    "c.shape"
   ]
  },
  {
   "cell_type": "code",
   "execution_count": 41,
   "metadata": {},
   "outputs": [
    {
     "data": {
      "text/plain": [
       "array([ 3,  5,  6,  7,  8, 10])"
      ]
     },
     "execution_count": 41,
     "metadata": {},
     "output_type": "execute_result"
    }
   ],
   "source": [
    "c"
   ]
  },
  {
   "cell_type": "code",
   "execution_count": 44,
   "metadata": {
    "collapsed": true
   },
   "outputs": [],
   "source": [
    "X= country_stats['GDP per capita'].values"
   ]
  },
  {
   "cell_type": "code",
   "execution_count": 49,
   "metadata": {
    "collapsed": true
   },
   "outputs": [],
   "source": [
    "X=X[:, np.newaxis]"
   ]
  },
  {
   "cell_type": "code",
   "execution_count": 102,
   "metadata": {},
   "outputs": [
    {
     "data": {
      "text/plain": [
       "array([[  9009.28 ],\n",
       "       [  9054.914],\n",
       "       [  9437.372],\n",
       "       [ 12239.894],\n",
       "       [ 13340.905],\n",
       "       [ 15991.736],\n",
       "       [ 17256.918],\n",
       "       [ 17288.083],\n",
       "       [ 18064.288],\n",
       "       [ 19121.592],\n",
       "       [ 20732.482],\n",
       "       [ 25864.721],\n",
       "       [ 27195.197],\n",
       "       [ 29866.581],\n",
       "       [ 32485.545],\n",
       "       [ 35343.336],\n",
       "       [ 37044.891],\n",
       "       [ 37675.006],\n",
       "       [ 40106.632],\n",
       "       [ 40996.511],\n",
       "       [ 41973.988],\n",
       "       [ 43331.961],\n",
       "       [ 43603.115],\n",
       "       [ 43724.031],\n",
       "       [ 43770.688],\n",
       "       [ 49866.266],\n",
       "       [ 50854.583],\n",
       "       [ 50961.865],\n",
       "       [ 51350.744]])"
      ]
     },
     "execution_count": 102,
     "metadata": {},
     "output_type": "execute_result"
    }
   ],
   "source": [
    "X.shape\n",
    "X"
   ]
  },
  {
   "cell_type": "code",
   "execution_count": 53,
   "metadata": {
    "collapsed": true
   },
   "outputs": [],
   "source": [
    "Y= country_stats['Life satisfaction'].values"
   ]
  },
  {
   "cell_type": "code",
   "execution_count": 54,
   "metadata": {},
   "outputs": [
    {
     "data": {
      "text/plain": [
       "(29,)"
      ]
     },
     "execution_count": 54,
     "metadata": {},
     "output_type": "execute_result"
    }
   ],
   "source": [
    "Y.shape"
   ]
  },
  {
   "cell_type": "code",
   "execution_count": 56,
   "metadata": {
    "collapsed": true
   },
   "outputs": [],
   "source": [
    "Y=Y[:,np.newaxis]"
   ]
  },
  {
   "cell_type": "code",
   "execution_count": 57,
   "metadata": {},
   "outputs": [
    {
     "data": {
      "text/plain": [
       "(29, 1)"
      ]
     },
     "execution_count": 57,
     "metadata": {},
     "output_type": "execute_result"
    }
   ],
   "source": [
    "Y.shape"
   ]
  },
  {
   "cell_type": "code",
   "execution_count": 70,
   "metadata": {
    "collapsed": true
   },
   "outputs": [],
   "source": [
    "# Select a linear model\n",
    "\n",
    "import sklearn.linear_model"
   ]
  },
  {
   "cell_type": "code",
   "execution_count": 74,
   "metadata": {
    "collapsed": true
   },
   "outputs": [],
   "source": [
    "linear_model= sklearn.linear_model.LinearRegression()"
   ]
  },
  {
   "cell_type": "code",
   "execution_count": 91,
   "metadata": {},
   "outputs": [
    {
     "data": {
      "text/plain": [
       "LinearRegression(copy_X=True, fit_intercept=True, n_jobs=1, normalize=False)"
      ]
     },
     "execution_count": 91,
     "metadata": {},
     "output_type": "execute_result"
    }
   ],
   "source": [
    "#train the model, so it finds the best values for the parameters\n",
    "\n",
    "linear_model.fit(X, Y)"
   ]
  },
  {
   "cell_type": "code",
   "execution_count": 92,
   "metadata": {},
   "outputs": [
    {
     "ename": "NameError",
     "evalue": "name 'model' is not defined",
     "output_type": "error",
     "traceback": [
      "\u001b[1;31m---------------------------------------------------------------------------\u001b[0m",
      "\u001b[1;31mNameError\u001b[0m                                 Traceback (most recent call last)",
      "\u001b[1;32m<ipython-input-92-d465f7120f06>\u001b[0m in \u001b[0;36m<module>\u001b[1;34m()\u001b[0m\n\u001b[0;32m      1\u001b[0m \u001b[1;31m# Make a prediction for Cyprus\u001b[0m\u001b[1;33m\u001b[0m\u001b[1;33m\u001b[0m\u001b[0m\n\u001b[0;32m      2\u001b[0m \u001b[0mX_new\u001b[0m \u001b[1;33m=\u001b[0m \u001b[1;33m[\u001b[0m\u001b[1;33m[\u001b[0m\u001b[1;36m22587\u001b[0m\u001b[1;33m]\u001b[0m\u001b[1;33m]\u001b[0m  \u001b[1;31m# Cyprus' GDP per capita\u001b[0m\u001b[1;33m\u001b[0m\u001b[0m\n\u001b[1;32m----> 3\u001b[1;33m \u001b[0mprint\u001b[0m\u001b[1;33m(\u001b[0m\u001b[0mmodel\u001b[0m\u001b[1;33m.\u001b[0m\u001b[0mpredict\u001b[0m\u001b[1;33m(\u001b[0m\u001b[0mX_new\u001b[0m\u001b[1;33m)\u001b[0m\u001b[1;33m)\u001b[0m\u001b[1;33m\u001b[0m\u001b[0m\n\u001b[0m",
      "\u001b[1;31mNameError\u001b[0m: name 'model' is not defined"
     ]
    }
   ],
   "source": [
    "# Make a prediction for Cyprus\n",
    "X_new = [[22587]]  # Cyprus' GDP per capita\n",
    "print(model.predict(X_new))"
   ]
  },
  {
   "cell_type": "code",
   "execution_count": 93,
   "metadata": {
    "collapsed": true
   },
   "outputs": [],
   "source": [
    "X_mex_gdp = 22587"
   ]
  },
  {
   "cell_type": "code",
   "execution_count": 94,
   "metadata": {},
   "outputs": [
    {
     "data": {
      "text/plain": [
       "array([[ 6.18443854]])"
      ]
     },
     "execution_count": 94,
     "metadata": {},
     "output_type": "execute_result"
    }
   ],
   "source": [
    "linear_model.predict(X_mex_gdp)"
   ]
  },
  {
   "cell_type": "code",
   "execution_count": null,
   "metadata": {
    "collapsed": true
   },
   "outputs": [],
   "source": []
  },
  {
   "cell_type": "code",
   "execution_count": 95,
   "metadata": {
    "collapsed": true
   },
   "outputs": [],
   "source": [
    "X_gdp = np.array([30000, 28000, 32000])"
   ]
  },
  {
   "cell_type": "code",
   "execution_count": 96,
   "metadata": {},
   "outputs": [
    {
     "data": {
      "text/plain": [
       "array([30000, 28000, 32000])"
      ]
     },
     "execution_count": 96,
     "metadata": {},
     "output_type": "execute_result"
    }
   ],
   "source": [
    "X_gdp"
   ]
  },
  {
   "cell_type": "code",
   "execution_count": 99,
   "metadata": {
    "collapsed": true
   },
   "outputs": [],
   "source": [
    "X_new = X_gdp[:, np.newaxis]"
   ]
  },
  {
   "cell_type": "code",
   "execution_count": 100,
   "metadata": {},
   "outputs": [
    {
     "data": {
      "text/plain": [
       "(3, 1)"
      ]
     },
     "execution_count": 100,
     "metadata": {},
     "output_type": "execute_result"
    }
   ],
   "source": [
    "X_new.shape"
   ]
  },
  {
   "cell_type": "code",
   "execution_count": 101,
   "metadata": {},
   "outputs": [
    {
     "data": {
      "text/plain": [
       "array([[ 6.47617904],\n",
       "       [ 6.39746854],\n",
       "       [ 6.55488955]])"
      ]
     },
     "execution_count": 101,
     "metadata": {},
     "output_type": "execute_result"
    }
   ],
   "source": [
    "linear_model.predict(X_new)"
   ]
  },
  {
   "cell_type": "code",
   "execution_count": 1,
   "metadata": {
    "collapsed": true
   },
   "outputs": [],
   "source": [
    "## housing Data \n",
    "import numpy as np\n",
    "import pandas as pd\n",
    "import matplotlib\n",
    "import matplotlib.pyplot as plt\n",
    "\n"
   ]
  },
  {
   "cell_type": "code",
   "execution_count": 3,
   "metadata": {
    "collapsed": true
   },
   "outputs": [],
   "source": [
    "#importing the housing data\n",
    "\n",
    "housing= pd.read_csv(\"C:\\\\Users\\\\rahul\\\\OneDrive\\\\Desktop\\\\ML_DS\\\\Pandas_Practice\\\\ML_Data\\\\housing.csv\")"
   ]
  },
  {
   "cell_type": "code",
   "execution_count": 4,
   "metadata": {},
   "outputs": [
    {
     "data": {
      "text/html": [
       "<div>\n",
       "<style>\n",
       "    .dataframe thead tr:only-child th {\n",
       "        text-align: right;\n",
       "    }\n",
       "\n",
       "    .dataframe thead th {\n",
       "        text-align: left;\n",
       "    }\n",
       "\n",
       "    .dataframe tbody tr th {\n",
       "        vertical-align: top;\n",
       "    }\n",
       "</style>\n",
       "<table border=\"1\" class=\"dataframe\">\n",
       "  <thead>\n",
       "    <tr style=\"text-align: right;\">\n",
       "      <th></th>\n",
       "      <th>longitude</th>\n",
       "      <th>latitude</th>\n",
       "      <th>housing_median_age</th>\n",
       "      <th>total_rooms</th>\n",
       "      <th>total_bedrooms</th>\n",
       "      <th>population</th>\n",
       "      <th>households</th>\n",
       "      <th>median_income</th>\n",
       "      <th>median_house_value</th>\n",
       "      <th>ocean_proximity</th>\n",
       "    </tr>\n",
       "  </thead>\n",
       "  <tbody>\n",
       "    <tr>\n",
       "      <th>0</th>\n",
       "      <td>-122.23</td>\n",
       "      <td>37.88</td>\n",
       "      <td>41.0</td>\n",
       "      <td>880.0</td>\n",
       "      <td>129.0</td>\n",
       "      <td>322.0</td>\n",
       "      <td>126.0</td>\n",
       "      <td>8.3252</td>\n",
       "      <td>452600.0</td>\n",
       "      <td>NEAR BAY</td>\n",
       "    </tr>\n",
       "    <tr>\n",
       "      <th>1</th>\n",
       "      <td>-122.22</td>\n",
       "      <td>37.86</td>\n",
       "      <td>21.0</td>\n",
       "      <td>7099.0</td>\n",
       "      <td>1106.0</td>\n",
       "      <td>2401.0</td>\n",
       "      <td>1138.0</td>\n",
       "      <td>8.3014</td>\n",
       "      <td>358500.0</td>\n",
       "      <td>NEAR BAY</td>\n",
       "    </tr>\n",
       "    <tr>\n",
       "      <th>2</th>\n",
       "      <td>-122.24</td>\n",
       "      <td>37.85</td>\n",
       "      <td>52.0</td>\n",
       "      <td>1467.0</td>\n",
       "      <td>190.0</td>\n",
       "      <td>496.0</td>\n",
       "      <td>177.0</td>\n",
       "      <td>7.2574</td>\n",
       "      <td>352100.0</td>\n",
       "      <td>NEAR BAY</td>\n",
       "    </tr>\n",
       "    <tr>\n",
       "      <th>3</th>\n",
       "      <td>-122.25</td>\n",
       "      <td>37.85</td>\n",
       "      <td>52.0</td>\n",
       "      <td>1274.0</td>\n",
       "      <td>235.0</td>\n",
       "      <td>558.0</td>\n",
       "      <td>219.0</td>\n",
       "      <td>5.6431</td>\n",
       "      <td>341300.0</td>\n",
       "      <td>NEAR BAY</td>\n",
       "    </tr>\n",
       "    <tr>\n",
       "      <th>4</th>\n",
       "      <td>-122.25</td>\n",
       "      <td>37.85</td>\n",
       "      <td>52.0</td>\n",
       "      <td>1627.0</td>\n",
       "      <td>280.0</td>\n",
       "      <td>565.0</td>\n",
       "      <td>259.0</td>\n",
       "      <td>3.8462</td>\n",
       "      <td>342200.0</td>\n",
       "      <td>NEAR BAY</td>\n",
       "    </tr>\n",
       "  </tbody>\n",
       "</table>\n",
       "</div>"
      ],
      "text/plain": [
       "   longitude  latitude  housing_median_age  total_rooms  total_bedrooms  \\\n",
       "0    -122.23     37.88                41.0        880.0           129.0   \n",
       "1    -122.22     37.86                21.0       7099.0          1106.0   \n",
       "2    -122.24     37.85                52.0       1467.0           190.0   \n",
       "3    -122.25     37.85                52.0       1274.0           235.0   \n",
       "4    -122.25     37.85                52.0       1627.0           280.0   \n",
       "\n",
       "   population  households  median_income  median_house_value ocean_proximity  \n",
       "0       322.0       126.0         8.3252            452600.0        NEAR BAY  \n",
       "1      2401.0      1138.0         8.3014            358500.0        NEAR BAY  \n",
       "2       496.0       177.0         7.2574            352100.0        NEAR BAY  \n",
       "3       558.0       219.0         5.6431            341300.0        NEAR BAY  \n",
       "4       565.0       259.0         3.8462            342200.0        NEAR BAY  "
      ]
     },
     "execution_count": 4,
     "metadata": {},
     "output_type": "execute_result"
    }
   ],
   "source": [
    "housing.head()"
   ]
  },
  {
   "cell_type": "code",
   "execution_count": 4,
   "metadata": {},
   "outputs": [
    {
     "name": "stdout",
     "output_type": "stream",
     "text": [
      "<class 'pandas.core.frame.DataFrame'>\n",
      "RangeIndex: 20640 entries, 0 to 20639\n",
      "Data columns (total 10 columns):\n",
      "longitude             20640 non-null float64\n",
      "latitude              20640 non-null float64\n",
      "housing_median_age    20640 non-null float64\n",
      "total_rooms           20640 non-null float64\n",
      "total_bedrooms        20433 non-null float64\n",
      "population            20640 non-null float64\n",
      "households            20640 non-null float64\n",
      "median_income         20640 non-null float64\n",
      "median_house_value    20640 non-null float64\n",
      "ocean_proximity       20640 non-null object\n",
      "dtypes: float64(9), object(1)\n",
      "memory usage: 1.6+ MB\n"
     ]
    }
   ],
   "source": [
    "housing.info()"
   ]
  },
  {
   "cell_type": "code",
   "execution_count": 5,
   "metadata": {},
   "outputs": [
    {
     "data": {
      "text/html": [
       "<div>\n",
       "<style>\n",
       "    .dataframe thead tr:only-child th {\n",
       "        text-align: right;\n",
       "    }\n",
       "\n",
       "    .dataframe thead th {\n",
       "        text-align: left;\n",
       "    }\n",
       "\n",
       "    .dataframe tbody tr th {\n",
       "        vertical-align: top;\n",
       "    }\n",
       "</style>\n",
       "<table border=\"1\" class=\"dataframe\">\n",
       "  <thead>\n",
       "    <tr style=\"text-align: right;\">\n",
       "      <th></th>\n",
       "      <th>longitude</th>\n",
       "      <th>latitude</th>\n",
       "      <th>housing_median_age</th>\n",
       "      <th>total_rooms</th>\n",
       "      <th>total_bedrooms</th>\n",
       "      <th>population</th>\n",
       "      <th>households</th>\n",
       "      <th>median_income</th>\n",
       "      <th>median_house_value</th>\n",
       "    </tr>\n",
       "  </thead>\n",
       "  <tbody>\n",
       "    <tr>\n",
       "      <th>count</th>\n",
       "      <td>20640.000000</td>\n",
       "      <td>20640.000000</td>\n",
       "      <td>20640.000000</td>\n",
       "      <td>20640.000000</td>\n",
       "      <td>20433.000000</td>\n",
       "      <td>20640.000000</td>\n",
       "      <td>20640.000000</td>\n",
       "      <td>20640.000000</td>\n",
       "      <td>20640.000000</td>\n",
       "    </tr>\n",
       "    <tr>\n",
       "      <th>mean</th>\n",
       "      <td>-119.569704</td>\n",
       "      <td>35.631861</td>\n",
       "      <td>28.639486</td>\n",
       "      <td>2635.763081</td>\n",
       "      <td>537.870553</td>\n",
       "      <td>1425.476744</td>\n",
       "      <td>499.539680</td>\n",
       "      <td>3.870671</td>\n",
       "      <td>206855.816909</td>\n",
       "    </tr>\n",
       "    <tr>\n",
       "      <th>std</th>\n",
       "      <td>2.003532</td>\n",
       "      <td>2.135952</td>\n",
       "      <td>12.585558</td>\n",
       "      <td>2181.615252</td>\n",
       "      <td>421.385070</td>\n",
       "      <td>1132.462122</td>\n",
       "      <td>382.329753</td>\n",
       "      <td>1.899822</td>\n",
       "      <td>115395.615874</td>\n",
       "    </tr>\n",
       "    <tr>\n",
       "      <th>min</th>\n",
       "      <td>-124.350000</td>\n",
       "      <td>32.540000</td>\n",
       "      <td>1.000000</td>\n",
       "      <td>2.000000</td>\n",
       "      <td>1.000000</td>\n",
       "      <td>3.000000</td>\n",
       "      <td>1.000000</td>\n",
       "      <td>0.499900</td>\n",
       "      <td>14999.000000</td>\n",
       "    </tr>\n",
       "    <tr>\n",
       "      <th>25%</th>\n",
       "      <td>-121.800000</td>\n",
       "      <td>33.930000</td>\n",
       "      <td>18.000000</td>\n",
       "      <td>1447.750000</td>\n",
       "      <td>296.000000</td>\n",
       "      <td>787.000000</td>\n",
       "      <td>280.000000</td>\n",
       "      <td>2.563400</td>\n",
       "      <td>119600.000000</td>\n",
       "    </tr>\n",
       "    <tr>\n",
       "      <th>50%</th>\n",
       "      <td>-118.490000</td>\n",
       "      <td>34.260000</td>\n",
       "      <td>29.000000</td>\n",
       "      <td>2127.000000</td>\n",
       "      <td>435.000000</td>\n",
       "      <td>1166.000000</td>\n",
       "      <td>409.000000</td>\n",
       "      <td>3.534800</td>\n",
       "      <td>179700.000000</td>\n",
       "    </tr>\n",
       "    <tr>\n",
       "      <th>75%</th>\n",
       "      <td>-118.010000</td>\n",
       "      <td>37.710000</td>\n",
       "      <td>37.000000</td>\n",
       "      <td>3148.000000</td>\n",
       "      <td>647.000000</td>\n",
       "      <td>1725.000000</td>\n",
       "      <td>605.000000</td>\n",
       "      <td>4.743250</td>\n",
       "      <td>264725.000000</td>\n",
       "    </tr>\n",
       "    <tr>\n",
       "      <th>max</th>\n",
       "      <td>-114.310000</td>\n",
       "      <td>41.950000</td>\n",
       "      <td>52.000000</td>\n",
       "      <td>39320.000000</td>\n",
       "      <td>6445.000000</td>\n",
       "      <td>35682.000000</td>\n",
       "      <td>6082.000000</td>\n",
       "      <td>15.000100</td>\n",
       "      <td>500001.000000</td>\n",
       "    </tr>\n",
       "  </tbody>\n",
       "</table>\n",
       "</div>"
      ],
      "text/plain": [
       "          longitude      latitude  housing_median_age   total_rooms  \\\n",
       "count  20640.000000  20640.000000        20640.000000  20640.000000   \n",
       "mean    -119.569704     35.631861           28.639486   2635.763081   \n",
       "std        2.003532      2.135952           12.585558   2181.615252   \n",
       "min     -124.350000     32.540000            1.000000      2.000000   \n",
       "25%     -121.800000     33.930000           18.000000   1447.750000   \n",
       "50%     -118.490000     34.260000           29.000000   2127.000000   \n",
       "75%     -118.010000     37.710000           37.000000   3148.000000   \n",
       "max     -114.310000     41.950000           52.000000  39320.000000   \n",
       "\n",
       "       total_bedrooms    population    households  median_income  \\\n",
       "count    20433.000000  20640.000000  20640.000000   20640.000000   \n",
       "mean       537.870553   1425.476744    499.539680       3.870671   \n",
       "std        421.385070   1132.462122    382.329753       1.899822   \n",
       "min          1.000000      3.000000      1.000000       0.499900   \n",
       "25%        296.000000    787.000000    280.000000       2.563400   \n",
       "50%        435.000000   1166.000000    409.000000       3.534800   \n",
       "75%        647.000000   1725.000000    605.000000       4.743250   \n",
       "max       6445.000000  35682.000000   6082.000000      15.000100   \n",
       "\n",
       "       median_house_value  \n",
       "count        20640.000000  \n",
       "mean        206855.816909  \n",
       "std         115395.615874  \n",
       "min          14999.000000  \n",
       "25%         119600.000000  \n",
       "50%         179700.000000  \n",
       "75%         264725.000000  \n",
       "max         500001.000000  "
      ]
     },
     "execution_count": 5,
     "metadata": {},
     "output_type": "execute_result"
    }
   ],
   "source": [
    "housing.describe()"
   ]
  },
  {
   "cell_type": "code",
   "execution_count": 6,
   "metadata": {},
   "outputs": [
    {
     "data": {
      "text/plain": [
       "<1H OCEAN     9136\n",
       "INLAND        6551\n",
       "NEAR OCEAN    2658\n",
       "NEAR BAY      2290\n",
       "ISLAND           5\n",
       "Name: ocean_proximity, dtype: int64"
      ]
     },
     "execution_count": 6,
     "metadata": {},
     "output_type": "execute_result"
    }
   ],
   "source": [
    "housing['ocean_proximity'].value_counts()"
   ]
  },
  {
   "cell_type": "code",
   "execution_count": 7,
   "metadata": {},
   "outputs": [
    {
     "data": {
      "text/plain": [
       "array([[<matplotlib.axes._subplots.AxesSubplot object at 0x000002B8CD37C208>,\n",
       "        <matplotlib.axes._subplots.AxesSubplot object at 0x000002B8CD737390>,\n",
       "        <matplotlib.axes._subplots.AxesSubplot object at 0x000002B8CD7F2390>],\n",
       "       [<matplotlib.axes._subplots.AxesSubplot object at 0x000002B8CD86D390>,\n",
       "        <matplotlib.axes._subplots.AxesSubplot object at 0x000002B8CDD252B0>,\n",
       "        <matplotlib.axes._subplots.AxesSubplot object at 0x000002B8CDD252E8>],\n",
       "       [<matplotlib.axes._subplots.AxesSubplot object at 0x000002B8CDD85E10>,\n",
       "        <matplotlib.axes._subplots.AxesSubplot object at 0x000002B8CDDBAE80>,\n",
       "        <matplotlib.axes._subplots.AxesSubplot object at 0x000002B8CE006E80>]], dtype=object)"
      ]
     },
     "execution_count": 7,
     "metadata": {},
     "output_type": "execute_result"
    },
    {
     "data": {
      "image/png": "[encoded data removed]",
      "text/plain": [
       "<matplotlib.figure.Figure at 0x2b8cd5935f8>"
      ]
     },
     "metadata": {},
     "output_type": "display_data"
    }
   ],
   "source": [
    "%matplotlib inline\n",
    "\n",
    "\n",
    "housing.hist()"
   ]
  },
  {
   "cell_type": "code",
   "execution_count": 8,
   "metadata": {},
   "outputs": [
    {
     "data": {
      "text/plain": [
       "<matplotlib.axes._subplots.AxesSubplot at 0x2b8ce088cf8>"
      ]
     },
     "execution_count": 8,
     "metadata": {},
     "output_type": "execute_result"
    },
    {
     "data": {
      "image/png": "[encoded data removed]",
      "text/plain": [
       "<matplotlib.figure.Figure at 0x2b8cd37c198>"
      ]
     },
     "metadata": {},
     "output_type": "display_data"
    }
   ],
   "source": [
    "housing['housing_median_age'].hist(bins = 2)"
   ]
  },
  {
   "cell_type": "code",
   "execution_count": 19,
   "metadata": {},
   "outputs": [
    {
     "data": {
      "text/plain": [
       "<matplotlib.axes._subplots.AxesSubplot at 0x271bc163cc0>"
      ]
     },
     "execution_count": 19,
     "metadata": {},
     "output_type": "execute_result"
    },
    {
     "data": {
      "image/png": "[encoded data removed]",
      "text/plain": [
       "<matplotlib.figure.Figure at 0x271bc05b940>"
      ]
     },
     "metadata": {},
     "output_type": "display_data"
    }
   ],
   "source": [
    "housing['median_house_value'].hist()"
   ]
  },
  {
   "cell_type": "code",
   "execution_count": 22,
   "metadata": {},
   "outputs": [
    {
     "data": {
      "text/plain": [
       "<matplotlib.axes._subplots.AxesSubplot at 0x271bc132d30>"
      ]
     },
     "execution_count": 22,
     "metadata": {},
     "output_type": "execute_result"
    },
    {
     "data": {
      "image/png": "[encoded data removed]",
      "text/plain": [
       "<matplotlib.figure.Figure at 0x271bc148f98>"
      ]
     },
     "metadata": {},
     "output_type": "display_data"
    }
   ],
   "source": [
    "housing['median_income'].hist()"
   ]
  },
  {
   "cell_type": "code",
   "execution_count": 9,
   "metadata": {
    "collapsed": true
   },
   "outputs": [],
   "source": [
    "#creating the test set, to avoid snoooping bias\n",
    "\n",
    "import sklearn"
   ]
  },
  {
   "cell_type": "code",
   "execution_count": 13,
   "metadata": {
    "collapsed": true
   },
   "outputs": [],
   "source": [
    "from sklearn.model_selection import train_test_split"
   ]
  },
  {
   "cell_type": "code",
   "execution_count": 14,
   "metadata": {
    "collapsed": true
   },
   "outputs": [],
   "source": [
    "h_train_set, h_test_set= train_test_split(housing, test_size = 0.2, random_state = 42)"
   ]
  },
  {
   "cell_type": "code",
   "execution_count": 15,
   "metadata": {},
   "outputs": [
    {
     "data": {
      "text/plain": [
       "16512"
      ]
     },
     "execution_count": 15,
     "metadata": {},
     "output_type": "execute_result"
    }
   ],
   "source": [
    "h_train_set.head()\n",
    "len(h_train_set)"
   ]
  },
  {
   "cell_type": "code",
   "execution_count": 16,
   "metadata": {},
   "outputs": [
    {
     "data": {
      "text/plain": [
       "4128"
      ]
     },
     "execution_count": 16,
     "metadata": {},
     "output_type": "execute_result"
    }
   ],
   "source": [
    "h_test_set.head()\n",
    "len(h_test_set)"
   ]
  },
  {
   "cell_type": "code",
   "execution_count": 17,
   "metadata": {},
   "outputs": [
    {
     "data": {
      "text/plain": [
       "count    20640.000000\n",
       "mean         3.870671\n",
       "std          1.899822\n",
       "min          0.499900\n",
       "25%          2.563400\n",
       "50%          3.534800\n",
       "75%          4.743250\n",
       "max         15.000100\n",
       "Name: median_income, dtype: float64"
      ]
     },
     "execution_count": 17,
     "metadata": {},
     "output_type": "execute_result"
    }
   ],
   "source": [
    "housing['median_income'].describe()"
   ]
  },
  {
   "cell_type": "code",
   "execution_count": 36,
   "metadata": {},
   "outputs": [
    {
     "data": {
      "text/plain": [
       "<matplotlib.axes._subplots.AxesSubplot at 0x271bcfc3ba8>"
      ]
     },
     "execution_count": 36,
     "metadata": {},
     "output_type": "execute_result"
    },
    {
     "data": {
      "image/png": "[encoded data removed]",
      "text/plain": [
       "<matplotlib.figure.Figure at 0x271bcfc36a0>"
      ]
     },
     "metadata": {},
     "output_type": "display_data"
    }
   ],
   "source": [
    "housing['median_income'].hist()"
   ]
  },
  {
   "cell_type": "code",
   "execution_count": 11,
   "metadata": {
    "collapsed": true
   },
   "outputs": [],
   "source": [
    "housing['income_cat']= np.ceil(housing['median_income']/1.5)"
   ]
  },
  {
   "cell_type": "code",
   "execution_count": 12,
   "metadata": {},
   "outputs": [
    {
     "data": {
      "text/plain": [
       "<matplotlib.axes._subplots.AxesSubplot at 0x29620a63780>"
      ]
     },
     "execution_count": 12,
     "metadata": {},
     "output_type": "execute_result"
    }
   ],
   "source": [
    "housing['income_cat'].hist()"
   ]
  },
  {
   "cell_type": "code",
   "execution_count": 12,
   "metadata": {
    "collapsed": true
   },
   "outputs": [],
   "source": [
    "from sklearn.model_selection import StratifiedShuffleSplit"
   ]
  },
  {
   "cell_type": "code",
   "execution_count": 13,
   "metadata": {
    "collapsed": true
   },
   "outputs": [],
   "source": [
    "#collapsing catergories, people having more than 5 let them be 5, we know you are rich..\n",
    "\n",
    "housing['median_income'].where(housing['median_income']< 5.0,5.0, inplace = True )"
   ]
  },
  {
   "cell_type": "code",
   "execution_count": 14,
   "metadata": {},
   "outputs": [
    {
     "data": {
      "text/plain": [
       "<matplotlib.axes._subplots.AxesSubplot at 0x29620a63780>"
      ]
     },
     "execution_count": 14,
     "metadata": {},
     "output_type": "execute_result"
    }
   ],
   "source": [
    "housing['median_income'].hist()"
   ]
  },
  {
   "cell_type": "code",
   "execution_count": 15,
   "metadata": {},
   "outputs": [
    {
     "data": {
      "text/plain": [
       "<matplotlib.axes._subplots.AxesSubplot at 0x29620a63780>"
      ]
     },
     "execution_count": 15,
     "metadata": {},
     "output_type": "execute_result"
    }
   ],
   "source": [
    "housing['median_income'].hist(bins =15)"
   ]
  },
  {
   "cell_type": "code",
   "execution_count": 16,
   "metadata": {
    "collapsed": true
   },
   "outputs": [],
   "source": [
    "housing[\"income_cat\"] = np.ceil(housing[\"median_income\"] / 1.5)\n",
    "# Label those above 5 as 5\n",
    "housing[\"income_cat\"].where(housing[\"income_cat\"] < 5, 5.0, inplace=True)"
   ]
  },
  {
   "cell_type": "code",
   "execution_count": 17,
   "metadata": {},
   "outputs": [
    {
     "data": {
      "text/plain": [
       "<matplotlib.axes._subplots.AxesSubplot at 0x29620a63780>"
      ]
     },
     "execution_count": 17,
     "metadata": {},
     "output_type": "execute_result"
    }
   ],
   "source": [
    "housing['income_cat'].hist()"
   ]
  },
  {
   "cell_type": "code",
   "execution_count": 18,
   "metadata": {},
   "outputs": [
    {
     "data": {
      "text/plain": [
       "<matplotlib.axes._subplots.AxesSubplot at 0x29620a63780>"
      ]
     },
     "execution_count": 18,
     "metadata": {},
     "output_type": "execute_result"
    }
   ],
   "source": [
    "housing['median_income'].hist()"
   ]
  },
  {
   "cell_type": "code",
   "execution_count": 19,
   "metadata": {
    "collapsed": true
   },
   "outputs": [],
   "source": [
    "housing['income_cat']= np.ceil(housing['median_income']/1.5)"
   ]
  },
  {
   "cell_type": "code",
   "execution_count": 20,
   "metadata": {},
   "outputs": [
    {
     "data": {
      "text/plain": [
       "<matplotlib.axes._subplots.AxesSubplot at 0x29620a63780>"
      ]
     },
     "execution_count": 20,
     "metadata": {},
     "output_type": "execute_result"
    }
   ],
   "source": [
    "housing['income_cat'].hist()"
   ]
  },
  {
   "cell_type": "code",
   "execution_count": 20,
   "metadata": {
    "collapsed": true
   },
   "outputs": [],
   "source": [
    "housing['income_cat'].where(housing['income_cat']<5, 5.0, inplace =True )"
   ]
  },
  {
   "cell_type": "code",
   "execution_count": 21,
   "metadata": {
    "scrolled": true
   },
   "outputs": [
    {
     "data": {
      "text/plain": [
       "<matplotlib.axes._subplots.AxesSubplot at 0x2b8cfce2b00>"
      ]
     },
     "execution_count": 21,
     "metadata": {},
     "output_type": "execute_result"
    },
    {
     "data": {
      "image/png": "[encoded data removed]",
      "text/plain": [
       "<matplotlib.figure.Figure at 0x2b8d005e3c8>"
      ]
     },
     "metadata": {},
     "output_type": "display_data"
    }
   ],
   "source": [
    "%matplotlib inline\n",
    "housing['income_cat'].hist()\n"
   ]
  },
  {
   "cell_type": "code",
   "execution_count": 5,
   "metadata": {
    "collapsed": true
   },
   "outputs": [],
   "source": [
    "from sklearn.model_selection import StratifiedShuffleSplit"
   ]
  },
  {
   "cell_type": "code",
   "execution_count": 6,
   "metadata": {
    "collapsed": true
   },
   "outputs": [],
   "source": [
    "##Provides train/test indices to split data in train/test sets.\n",
    "\n",
    "h_index_split= StratifiedShuffleSplit(n_splits = 1, test_size = 0.2, random_state =42)"
   ]
  },
  {
   "cell_type": "code",
   "execution_count": 21,
   "metadata": {},
   "outputs": [],
   "source": [
    "for train_index, test_index in h_index_split.split(housing, housing['income_cat']):\n",
    "                strata_train_set = housing.loc[train_index]\n",
    "                strata_test_set = housing.loc[test_index]"
   ]
  },
  {
   "cell_type": "code",
   "execution_count": 22,
   "metadata": {},
   "outputs": [
    {
     "data": {
      "text/plain": [
       "(16512, 11)"
      ]
     },
     "execution_count": 22,
     "metadata": {},
     "output_type": "execute_result"
    }
   ],
   "source": [
    "strata_train_set.shape"
   ]
  },
  {
   "cell_type": "code",
   "execution_count": 23,
   "metadata": {},
   "outputs": [
    {
     "data": {
      "text/plain": [
       "3.0    0.350581\n",
       "2.0    0.318847\n",
       "4.0    0.290746\n",
       "1.0    0.039826\n",
       "Name: income_cat, dtype: float64"
      ]
     },
     "execution_count": 23,
     "metadata": {},
     "output_type": "execute_result"
    }
   ],
   "source": [
    "housing['income_cat'].value_counts()/ len(housing['income_cat'])"
   ]
  },
  {
   "cell_type": "code",
   "execution_count": 26,
   "metadata": {},
   "outputs": [
    {
     "data": {
      "text/plain": [
       "3.0    0.350533\n",
       "2.0    0.318798\n",
       "4.0    0.290698\n",
       "1.0    0.039971\n",
       "Name: income_cat, dtype: float64"
      ]
     },
     "execution_count": 26,
     "metadata": {},
     "output_type": "execute_result"
    }
   ],
   "source": [
    "strata_test_set['income_cat'].value_counts()/ len(strata_test_set['income_cat'])"
   ]
  },
  {
   "cell_type": "code",
   "execution_count": 27,
   "metadata": {},
   "outputs": [
    {
     "data": {
      "text/html": [
       "<div>\n",
       "<style>\n",
       "    .dataframe thead tr:only-child th {\n",
       "        text-align: right;\n",
       "    }\n",
       "\n",
       "    .dataframe thead th {\n",
       "        text-align: left;\n",
       "    }\n",
       "\n",
       "    .dataframe tbody tr th {\n",
       "        vertical-align: top;\n",
       "    }\n",
       "</style>\n",
       "<table border=\"1\" class=\"dataframe\">\n",
       "  <thead>\n",
       "    <tr style=\"text-align: right;\">\n",
       "      <th></th>\n",
       "      <th>longitude</th>\n",
       "      <th>latitude</th>\n",
       "      <th>housing_median_age</th>\n",
       "      <th>total_rooms</th>\n",
       "      <th>total_bedrooms</th>\n",
       "      <th>population</th>\n",
       "      <th>households</th>\n",
       "      <th>median_income</th>\n",
       "      <th>median_house_value</th>\n",
       "      <th>ocean_proximity</th>\n",
       "      <th>income_cat</th>\n",
       "    </tr>\n",
       "  </thead>\n",
       "  <tbody>\n",
       "    <tr>\n",
       "      <th>4861</th>\n",
       "      <td>-118.28</td>\n",
       "      <td>34.02</td>\n",
       "      <td>29.0</td>\n",
       "      <td>515.0</td>\n",
       "      <td>229.0</td>\n",
       "      <td>2690.0</td>\n",
       "      <td>217.0</td>\n",
       "      <td>0.4999</td>\n",
       "      <td>500001.0</td>\n",
       "      <td>&lt;1H OCEAN</td>\n",
       "      <td>1.0</td>\n",
       "    </tr>\n",
       "    <tr>\n",
       "      <th>14408</th>\n",
       "      <td>-117.25</td>\n",
       "      <td>32.76</td>\n",
       "      <td>38.0</td>\n",
       "      <td>2331.0</td>\n",
       "      <td>493.0</td>\n",
       "      <td>836.0</td>\n",
       "      <td>433.0</td>\n",
       "      <td>4.9125</td>\n",
       "      <td>452600.0</td>\n",
       "      <td>NEAR OCEAN</td>\n",
       "      <td>4.0</td>\n",
       "    </tr>\n",
       "    <tr>\n",
       "      <th>4760</th>\n",
       "      <td>-118.35</td>\n",
       "      <td>34.04</td>\n",
       "      <td>36.0</td>\n",
       "      <td>1956.0</td>\n",
       "      <td>601.0</td>\n",
       "      <td>1672.0</td>\n",
       "      <td>546.0</td>\n",
       "      <td>1.8685</td>\n",
       "      <td>150700.0</td>\n",
       "      <td>&lt;1H OCEAN</td>\n",
       "      <td>2.0</td>\n",
       "    </tr>\n",
       "    <tr>\n",
       "      <th>13897</th>\n",
       "      <td>-116.29</td>\n",
       "      <td>34.18</td>\n",
       "      <td>15.0</td>\n",
       "      <td>4203.0</td>\n",
       "      <td>966.0</td>\n",
       "      <td>1756.0</td>\n",
       "      <td>695.0</td>\n",
       "      <td>2.1820</td>\n",
       "      <td>60800.0</td>\n",
       "      <td>INLAND</td>\n",
       "      <td>2.0</td>\n",
       "    </tr>\n",
       "    <tr>\n",
       "      <th>10846</th>\n",
       "      <td>-117.90</td>\n",
       "      <td>33.67</td>\n",
       "      <td>25.0</td>\n",
       "      <td>639.0</td>\n",
       "      <td>98.0</td>\n",
       "      <td>311.0</td>\n",
       "      <td>93.0</td>\n",
       "      <td>5.0000</td>\n",
       "      <td>275900.0</td>\n",
       "      <td>&lt;1H OCEAN</td>\n",
       "      <td>4.0</td>\n",
       "    </tr>\n",
       "    <tr>\n",
       "      <th>16997</th>\n",
       "      <td>-122.27</td>\n",
       "      <td>37.54</td>\n",
       "      <td>5.0</td>\n",
       "      <td>2140.0</td>\n",
       "      <td>420.0</td>\n",
       "      <td>990.0</td>\n",
       "      <td>394.0</td>\n",
       "      <td>5.0000</td>\n",
       "      <td>438800.0</td>\n",
       "      <td>NEAR BAY</td>\n",
       "      <td>4.0</td>\n",
       "    </tr>\n",
       "    <tr>\n",
       "      <th>15056</th>\n",
       "      <td>-116.93</td>\n",
       "      <td>32.79</td>\n",
       "      <td>23.0</td>\n",
       "      <td>5759.0</td>\n",
       "      <td>1258.0</td>\n",
       "      <td>3108.0</td>\n",
       "      <td>1202.0</td>\n",
       "      <td>3.0927</td>\n",
       "      <td>140600.0</td>\n",
       "      <td>&lt;1H OCEAN</td>\n",
       "      <td>3.0</td>\n",
       "    </tr>\n",
       "    <tr>\n",
       "      <th>8935</th>\n",
       "      <td>-118.50</td>\n",
       "      <td>33.99</td>\n",
       "      <td>22.0</td>\n",
       "      <td>3484.0</td>\n",
       "      <td>975.0</td>\n",
       "      <td>1268.0</td>\n",
       "      <td>952.0</td>\n",
       "      <td>3.2609</td>\n",
       "      <td>500001.0</td>\n",
       "      <td>&lt;1H OCEAN</td>\n",
       "      <td>3.0</td>\n",
       "    </tr>\n",
       "    <tr>\n",
       "      <th>18806</th>\n",
       "      <td>-121.55</td>\n",
       "      <td>40.48</td>\n",
       "      <td>14.0</td>\n",
       "      <td>2413.0</td>\n",
       "      <td>524.0</td>\n",
       "      <td>805.0</td>\n",
       "      <td>329.0</td>\n",
       "      <td>2.7857</td>\n",
       "      <td>77400.0</td>\n",
       "      <td>INLAND</td>\n",
       "      <td>2.0</td>\n",
       "    </tr>\n",
       "    <tr>\n",
       "      <th>6987</th>\n",
       "      <td>-118.03</td>\n",
       "      <td>33.97</td>\n",
       "      <td>39.0</td>\n",
       "      <td>2126.0</td>\n",
       "      <td>434.0</td>\n",
       "      <td>1103.0</td>\n",
       "      <td>433.0</td>\n",
       "      <td>3.2852</td>\n",
       "      <td>196200.0</td>\n",
       "      <td>&lt;1H OCEAN</td>\n",
       "      <td>3.0</td>\n",
       "    </tr>\n",
       "    <tr>\n",
       "      <th>10643</th>\n",
       "      <td>-117.79</td>\n",
       "      <td>33.56</td>\n",
       "      <td>36.0</td>\n",
       "      <td>2057.0</td>\n",
       "      <td>329.0</td>\n",
       "      <td>658.0</td>\n",
       "      <td>309.0</td>\n",
       "      <td>5.0000</td>\n",
       "      <td>500001.0</td>\n",
       "      <td>&lt;1H OCEAN</td>\n",
       "      <td>4.0</td>\n",
       "    </tr>\n",
       "    <tr>\n",
       "      <th>1551</th>\n",
       "      <td>-121.94</td>\n",
       "      <td>37.75</td>\n",
       "      <td>16.0</td>\n",
       "      <td>5121.0</td>\n",
       "      <td>735.0</td>\n",
       "      <td>2464.0</td>\n",
       "      <td>761.0</td>\n",
       "      <td>5.0000</td>\n",
       "      <td>296100.0</td>\n",
       "      <td>&lt;1H OCEAN</td>\n",
       "      <td>4.0</td>\n",
       "    </tr>\n",
       "    <tr>\n",
       "      <th>12498</th>\n",
       "      <td>-121.46</td>\n",
       "      <td>38.56</td>\n",
       "      <td>52.0</td>\n",
       "      <td>1750.0</td>\n",
       "      <td>372.0</td>\n",
       "      <td>764.0</td>\n",
       "      <td>369.0</td>\n",
       "      <td>2.9191</td>\n",
       "      <td>111800.0</td>\n",
       "      <td>INLAND</td>\n",
       "      <td>2.0</td>\n",
       "    </tr>\n",
       "    <tr>\n",
       "      <th>1548</th>\n",
       "      <td>-121.94</td>\n",
       "      <td>37.75</td>\n",
       "      <td>17.0</td>\n",
       "      <td>2559.0</td>\n",
       "      <td>370.0</td>\n",
       "      <td>1238.0</td>\n",
       "      <td>377.0</td>\n",
       "      <td>5.0000</td>\n",
       "      <td>269800.0</td>\n",
       "      <td>&lt;1H OCEAN</td>\n",
       "      <td>4.0</td>\n",
       "    </tr>\n",
       "    <tr>\n",
       "      <th>4797</th>\n",
       "      <td>-118.35</td>\n",
       "      <td>34.02</td>\n",
       "      <td>52.0</td>\n",
       "      <td>427.0</td>\n",
       "      <td>92.0</td>\n",
       "      <td>233.0</td>\n",
       "      <td>116.0</td>\n",
       "      <td>3.2500</td>\n",
       "      <td>134700.0</td>\n",
       "      <td>&lt;1H OCEAN</td>\n",
       "      <td>3.0</td>\n",
       "    </tr>\n",
       "    <tr>\n",
       "      <th>19465</th>\n",
       "      <td>-120.97</td>\n",
       "      <td>37.69</td>\n",
       "      <td>15.0</td>\n",
       "      <td>4065.0</td>\n",
       "      <td>841.0</td>\n",
       "      <td>1986.0</td>\n",
       "      <td>680.0</td>\n",
       "      <td>3.0720</td>\n",
       "      <td>114300.0</td>\n",
       "      <td>INLAND</td>\n",
       "      <td>3.0</td>\n",
       "    </tr>\n",
       "    <tr>\n",
       "      <th>13096</th>\n",
       "      <td>-121.30</td>\n",
       "      <td>38.51</td>\n",
       "      <td>19.0</td>\n",
       "      <td>822.0</td>\n",
       "      <td>134.0</td>\n",
       "      <td>457.0</td>\n",
       "      <td>133.0</td>\n",
       "      <td>4.1500</td>\n",
       "      <td>157500.0</td>\n",
       "      <td>INLAND</td>\n",
       "      <td>3.0</td>\n",
       "    </tr>\n",
       "    <tr>\n",
       "      <th>19</th>\n",
       "      <td>-122.27</td>\n",
       "      <td>37.84</td>\n",
       "      <td>52.0</td>\n",
       "      <td>1503.0</td>\n",
       "      <td>298.0</td>\n",
       "      <td>690.0</td>\n",
       "      <td>275.0</td>\n",
       "      <td>2.6033</td>\n",
       "      <td>162900.0</td>\n",
       "      <td>NEAR BAY</td>\n",
       "      <td>2.0</td>\n",
       "    </tr>\n",
       "    <tr>\n",
       "      <th>19532</th>\n",
       "      <td>-120.90</td>\n",
       "      <td>37.66</td>\n",
       "      <td>19.0</td>\n",
       "      <td>3377.0</td>\n",
       "      <td>669.0</td>\n",
       "      <td>2426.0</td>\n",
       "      <td>663.0</td>\n",
       "      <td>2.9783</td>\n",
       "      <td>82500.0</td>\n",
       "      <td>INLAND</td>\n",
       "      <td>2.0</td>\n",
       "    </tr>\n",
       "    <tr>\n",
       "      <th>12487</th>\n",
       "      <td>-121.48</td>\n",
       "      <td>38.57</td>\n",
       "      <td>52.0</td>\n",
       "      <td>567.0</td>\n",
       "      <td>193.0</td>\n",
       "      <td>272.0</td>\n",
       "      <td>187.0</td>\n",
       "      <td>1.6250</td>\n",
       "      <td>187500.0</td>\n",
       "      <td>INLAND</td>\n",
       "      <td>2.0</td>\n",
       "    </tr>\n",
       "    <tr>\n",
       "      <th>15711</th>\n",
       "      <td>-122.44</td>\n",
       "      <td>37.79</td>\n",
       "      <td>52.0</td>\n",
       "      <td>2083.0</td>\n",
       "      <td>491.0</td>\n",
       "      <td>1224.0</td>\n",
       "      <td>483.0</td>\n",
       "      <td>4.0882</td>\n",
       "      <td>468800.0</td>\n",
       "      <td>NEAR BAY</td>\n",
       "      <td>3.0</td>\n",
       "    </tr>\n",
       "    <tr>\n",
       "      <th>1824</th>\n",
       "      <td>-122.31</td>\n",
       "      <td>37.93</td>\n",
       "      <td>36.0</td>\n",
       "      <td>1526.0</td>\n",
       "      <td>256.0</td>\n",
       "      <td>696.0</td>\n",
       "      <td>263.0</td>\n",
       "      <td>3.5089</td>\n",
       "      <td>261900.0</td>\n",
       "      <td>NEAR BAY</td>\n",
       "      <td>3.0</td>\n",
       "    </tr>\n",
       "    <tr>\n",
       "      <th>1214</th>\n",
       "      <td>-120.67</td>\n",
       "      <td>37.97</td>\n",
       "      <td>9.0</td>\n",
       "      <td>7450.0</td>\n",
       "      <td>1475.0</td>\n",
       "      <td>2233.0</td>\n",
       "      <td>930.0</td>\n",
       "      <td>2.6528</td>\n",
       "      <td>133000.0</td>\n",
       "      <td>INLAND</td>\n",
       "      <td>2.0</td>\n",
       "    </tr>\n",
       "    <tr>\n",
       "      <th>13743</th>\n",
       "      <td>-117.16</td>\n",
       "      <td>34.08</td>\n",
       "      <td>9.0</td>\n",
       "      <td>5306.0</td>\n",
       "      <td>993.0</td>\n",
       "      <td>2630.0</td>\n",
       "      <td>925.0</td>\n",
       "      <td>4.5100</td>\n",
       "      <td>135800.0</td>\n",
       "      <td>INLAND</td>\n",
       "      <td>4.0</td>\n",
       "    </tr>\n",
       "    <tr>\n",
       "      <th>15497</th>\n",
       "      <td>-117.24</td>\n",
       "      <td>33.11</td>\n",
       "      <td>10.0</td>\n",
       "      <td>3487.0</td>\n",
       "      <td>545.0</td>\n",
       "      <td>1410.0</td>\n",
       "      <td>557.0</td>\n",
       "      <td>5.0000</td>\n",
       "      <td>240300.0</td>\n",
       "      <td>NEAR OCEAN</td>\n",
       "      <td>4.0</td>\n",
       "    </tr>\n",
       "    <tr>\n",
       "      <th>5452</th>\n",
       "      <td>-118.46</td>\n",
       "      <td>34.00</td>\n",
       "      <td>39.0</td>\n",
       "      <td>4098.0</td>\n",
       "      <td>1100.0</td>\n",
       "      <td>2054.0</td>\n",
       "      <td>1053.0</td>\n",
       "      <td>2.9180</td>\n",
       "      <td>345600.0</td>\n",
       "      <td>&lt;1H OCEAN</td>\n",
       "      <td>2.0</td>\n",
       "    </tr>\n",
       "    <tr>\n",
       "      <th>16617</th>\n",
       "      <td>-120.86</td>\n",
       "      <td>35.39</td>\n",
       "      <td>23.0</td>\n",
       "      <td>1664.0</td>\n",
       "      <td>355.0</td>\n",
       "      <td>629.0</td>\n",
       "      <td>279.0</td>\n",
       "      <td>2.7344</td>\n",
       "      <td>188300.0</td>\n",
       "      <td>NEAR OCEAN</td>\n",
       "      <td>2.0</td>\n",
       "    </tr>\n",
       "    <tr>\n",
       "      <th>460</th>\n",
       "      <td>-122.26</td>\n",
       "      <td>37.87</td>\n",
       "      <td>52.0</td>\n",
       "      <td>1087.0</td>\n",
       "      <td>371.0</td>\n",
       "      <td>3337.0</td>\n",
       "      <td>350.0</td>\n",
       "      <td>1.4012</td>\n",
       "      <td>175000.0</td>\n",
       "      <td>NEAR BAY</td>\n",
       "      <td>1.0</td>\n",
       "    </tr>\n",
       "    <tr>\n",
       "      <th>20624</th>\n",
       "      <td>-121.41</td>\n",
       "      <td>39.04</td>\n",
       "      <td>16.0</td>\n",
       "      <td>1698.0</td>\n",
       "      <td>300.0</td>\n",
       "      <td>731.0</td>\n",
       "      <td>291.0</td>\n",
       "      <td>3.0739</td>\n",
       "      <td>87200.0</td>\n",
       "      <td>INLAND</td>\n",
       "      <td>3.0</td>\n",
       "    </tr>\n",
       "    <tr>\n",
       "      <th>16645</th>\n",
       "      <td>-120.65</td>\n",
       "      <td>35.29</td>\n",
       "      <td>29.0</td>\n",
       "      <td>1785.0</td>\n",
       "      <td>481.0</td>\n",
       "      <td>1344.0</td>\n",
       "      <td>472.0</td>\n",
       "      <td>1.4492</td>\n",
       "      <td>222900.0</td>\n",
       "      <td>NEAR OCEAN</td>\n",
       "      <td>1.0</td>\n",
       "    </tr>\n",
       "    <tr>\n",
       "      <th>...</th>\n",
       "      <td>...</td>\n",
       "      <td>...</td>\n",
       "      <td>...</td>\n",
       "      <td>...</td>\n",
       "      <td>...</td>\n",
       "      <td>...</td>\n",
       "      <td>...</td>\n",
       "      <td>...</td>\n",
       "      <td>...</td>\n",
       "      <td>...</td>\n",
       "      <td>...</td>\n",
       "    </tr>\n",
       "    <tr>\n",
       "      <th>9595</th>\n",
       "      <td>-120.44</td>\n",
       "      <td>37.31</td>\n",
       "      <td>16.0</td>\n",
       "      <td>3369.0</td>\n",
       "      <td>532.0</td>\n",
       "      <td>1770.0</td>\n",
       "      <td>574.0</td>\n",
       "      <td>5.0000</td>\n",
       "      <td>126200.0</td>\n",
       "      <td>INLAND</td>\n",
       "      <td>4.0</td>\n",
       "    </tr>\n",
       "    <tr>\n",
       "      <th>7267</th>\n",
       "      <td>-118.22</td>\n",
       "      <td>33.98</td>\n",
       "      <td>34.0</td>\n",
       "      <td>2283.0</td>\n",
       "      <td>809.0</td>\n",
       "      <td>3032.0</td>\n",
       "      <td>832.0</td>\n",
       "      <td>2.4387</td>\n",
       "      <td>175000.0</td>\n",
       "      <td>&lt;1H OCEAN</td>\n",
       "      <td>2.0</td>\n",
       "    </tr>\n",
       "    <tr>\n",
       "      <th>10759</th>\n",
       "      <td>-117.87</td>\n",
       "      <td>33.63</td>\n",
       "      <td>9.0</td>\n",
       "      <td>6163.0</td>\n",
       "      <td>1004.0</td>\n",
       "      <td>1912.0</td>\n",
       "      <td>903.0</td>\n",
       "      <td>5.0000</td>\n",
       "      <td>500001.0</td>\n",
       "      <td>&lt;1H OCEAN</td>\n",
       "      <td>4.0</td>\n",
       "    </tr>\n",
       "    <tr>\n",
       "      <th>2714</th>\n",
       "      <td>-115.55</td>\n",
       "      <td>32.82</td>\n",
       "      <td>34.0</td>\n",
       "      <td>1540.0</td>\n",
       "      <td>316.0</td>\n",
       "      <td>1013.0</td>\n",
       "      <td>274.0</td>\n",
       "      <td>2.5664</td>\n",
       "      <td>67500.0</td>\n",
       "      <td>INLAND</td>\n",
       "      <td>2.0</td>\n",
       "    </tr>\n",
       "    <tr>\n",
       "      <th>424</th>\n",
       "      <td>-122.26</td>\n",
       "      <td>37.88</td>\n",
       "      <td>52.0</td>\n",
       "      <td>2255.0</td>\n",
       "      <td>410.0</td>\n",
       "      <td>823.0</td>\n",
       "      <td>377.0</td>\n",
       "      <td>5.0000</td>\n",
       "      <td>415300.0</td>\n",
       "      <td>NEAR BAY</td>\n",
       "      <td>4.0</td>\n",
       "    </tr>\n",
       "    <tr>\n",
       "      <th>15466</th>\n",
       "      <td>-117.21</td>\n",
       "      <td>33.17</td>\n",
       "      <td>16.0</td>\n",
       "      <td>1787.0</td>\n",
       "      <td>361.0</td>\n",
       "      <td>1446.0</td>\n",
       "      <td>362.0</td>\n",
       "      <td>3.7500</td>\n",
       "      <td>163800.0</td>\n",
       "      <td>&lt;1H OCEAN</td>\n",
       "      <td>3.0</td>\n",
       "    </tr>\n",
       "    <tr>\n",
       "      <th>6254</th>\n",
       "      <td>-117.96</td>\n",
       "      <td>34.03</td>\n",
       "      <td>35.0</td>\n",
       "      <td>1623.0</td>\n",
       "      <td>331.0</td>\n",
       "      <td>1462.0</td>\n",
       "      <td>312.0</td>\n",
       "      <td>3.9803</td>\n",
       "      <td>152600.0</td>\n",
       "      <td>&lt;1H OCEAN</td>\n",
       "      <td>3.0</td>\n",
       "    </tr>\n",
       "    <tr>\n",
       "      <th>16018</th>\n",
       "      <td>-122.47</td>\n",
       "      <td>37.73</td>\n",
       "      <td>52.0</td>\n",
       "      <td>2134.0</td>\n",
       "      <td>277.0</td>\n",
       "      <td>936.0</td>\n",
       "      <td>285.0</td>\n",
       "      <td>5.0000</td>\n",
       "      <td>484600.0</td>\n",
       "      <td>NEAR OCEAN</td>\n",
       "      <td>4.0</td>\n",
       "    </tr>\n",
       "    <tr>\n",
       "      <th>19417</th>\n",
       "      <td>-121.14</td>\n",
       "      <td>37.70</td>\n",
       "      <td>29.0</td>\n",
       "      <td>1343.0</td>\n",
       "      <td>223.0</td>\n",
       "      <td>751.0</td>\n",
       "      <td>225.0</td>\n",
       "      <td>3.2391</td>\n",
       "      <td>187500.0</td>\n",
       "      <td>INLAND</td>\n",
       "      <td>3.0</td>\n",
       "    </tr>\n",
       "    <tr>\n",
       "      <th>2919</th>\n",
       "      <td>-119.04</td>\n",
       "      <td>35.37</td>\n",
       "      <td>46.0</td>\n",
       "      <td>1637.0</td>\n",
       "      <td>338.0</td>\n",
       "      <td>714.0</td>\n",
       "      <td>297.0</td>\n",
       "      <td>2.1818</td>\n",
       "      <td>75300.0</td>\n",
       "      <td>INLAND</td>\n",
       "      <td>2.0</td>\n",
       "    </tr>\n",
       "    <tr>\n",
       "      <th>7989</th>\n",
       "      <td>-118.18</td>\n",
       "      <td>33.86</td>\n",
       "      <td>43.0</td>\n",
       "      <td>2752.0</td>\n",
       "      <td>645.0</td>\n",
       "      <td>1674.0</td>\n",
       "      <td>614.0</td>\n",
       "      <td>3.6719</td>\n",
       "      <td>161300.0</td>\n",
       "      <td>&lt;1H OCEAN</td>\n",
       "      <td>3.0</td>\n",
       "    </tr>\n",
       "    <tr>\n",
       "      <th>10875</th>\n",
       "      <td>-117.89</td>\n",
       "      <td>33.72</td>\n",
       "      <td>23.0</td>\n",
       "      <td>2305.0</td>\n",
       "      <td>538.0</td>\n",
       "      <td>2493.0</td>\n",
       "      <td>502.0</td>\n",
       "      <td>3.6618</td>\n",
       "      <td>183500.0</td>\n",
       "      <td>&lt;1H OCEAN</td>\n",
       "      <td>3.0</td>\n",
       "    </tr>\n",
       "    <tr>\n",
       "      <th>1780</th>\n",
       "      <td>-122.36</td>\n",
       "      <td>37.95</td>\n",
       "      <td>38.0</td>\n",
       "      <td>1066.0</td>\n",
       "      <td>248.0</td>\n",
       "      <td>729.0</td>\n",
       "      <td>286.0</td>\n",
       "      <td>1.5139</td>\n",
       "      <td>81700.0</td>\n",
       "      <td>NEAR BAY</td>\n",
       "      <td>2.0</td>\n",
       "    </tr>\n",
       "    <tr>\n",
       "      <th>6900</th>\n",
       "      <td>-118.14</td>\n",
       "      <td>34.03</td>\n",
       "      <td>38.0</td>\n",
       "      <td>1447.0</td>\n",
       "      <td>293.0</td>\n",
       "      <td>1042.0</td>\n",
       "      <td>284.0</td>\n",
       "      <td>4.1375</td>\n",
       "      <td>211500.0</td>\n",
       "      <td>&lt;1H OCEAN</td>\n",
       "      <td>3.0</td>\n",
       "    </tr>\n",
       "    <tr>\n",
       "      <th>16028</th>\n",
       "      <td>-122.45</td>\n",
       "      <td>37.73</td>\n",
       "      <td>52.0</td>\n",
       "      <td>2035.0</td>\n",
       "      <td>424.0</td>\n",
       "      <td>1193.0</td>\n",
       "      <td>430.0</td>\n",
       "      <td>5.0000</td>\n",
       "      <td>264200.0</td>\n",
       "      <td>NEAR BAY</td>\n",
       "      <td>4.0</td>\n",
       "    </tr>\n",
       "    <tr>\n",
       "      <th>648</th>\n",
       "      <td>-122.13</td>\n",
       "      <td>37.72</td>\n",
       "      <td>25.0</td>\n",
       "      <td>1134.0</td>\n",
       "      <td>153.0</td>\n",
       "      <td>340.0</td>\n",
       "      <td>171.0</td>\n",
       "      <td>5.0000</td>\n",
       "      <td>371200.0</td>\n",
       "      <td>NEAR BAY</td>\n",
       "      <td>4.0</td>\n",
       "    </tr>\n",
       "    <tr>\n",
       "      <th>16021</th>\n",
       "      <td>-122.47</td>\n",
       "      <td>37.72</td>\n",
       "      <td>46.0</td>\n",
       "      <td>1836.0</td>\n",
       "      <td>319.0</td>\n",
       "      <td>767.0</td>\n",
       "      <td>302.0</td>\n",
       "      <td>5.0000</td>\n",
       "      <td>399000.0</td>\n",
       "      <td>NEAR OCEAN</td>\n",
       "      <td>4.0</td>\n",
       "    </tr>\n",
       "    <tr>\n",
       "      <th>773</th>\n",
       "      <td>-122.11</td>\n",
       "      <td>37.66</td>\n",
       "      <td>36.0</td>\n",
       "      <td>1755.0</td>\n",
       "      <td>316.0</td>\n",
       "      <td>913.0</td>\n",
       "      <td>299.0</td>\n",
       "      <td>4.1302</td>\n",
       "      <td>172700.0</td>\n",
       "      <td>NEAR BAY</td>\n",
       "      <td>3.0</td>\n",
       "    </tr>\n",
       "    <tr>\n",
       "      <th>10826</th>\n",
       "      <td>-117.93</td>\n",
       "      <td>33.65</td>\n",
       "      <td>27.0</td>\n",
       "      <td>1283.0</td>\n",
       "      <td>406.0</td>\n",
       "      <td>1063.0</td>\n",
       "      <td>376.0</td>\n",
       "      <td>2.7500</td>\n",
       "      <td>275000.0</td>\n",
       "      <td>&lt;1H OCEAN</td>\n",
       "      <td>2.0</td>\n",
       "    </tr>\n",
       "    <tr>\n",
       "      <th>18592</th>\n",
       "      <td>-122.07</td>\n",
       "      <td>37.13</td>\n",
       "      <td>26.0</td>\n",
       "      <td>1127.0</td>\n",
       "      <td>199.0</td>\n",
       "      <td>543.0</td>\n",
       "      <td>199.0</td>\n",
       "      <td>4.9792</td>\n",
       "      <td>240000.0</td>\n",
       "      <td>NEAR OCEAN</td>\n",
       "      <td>4.0</td>\n",
       "    </tr>\n",
       "    <tr>\n",
       "      <th>1718</th>\n",
       "      <td>-122.34</td>\n",
       "      <td>37.99</td>\n",
       "      <td>42.0</td>\n",
       "      <td>1531.0</td>\n",
       "      <td>326.0</td>\n",
       "      <td>1271.0</td>\n",
       "      <td>377.0</td>\n",
       "      <td>2.6167</td>\n",
       "      <td>85100.0</td>\n",
       "      <td>NEAR BAY</td>\n",
       "      <td>2.0</td>\n",
       "    </tr>\n",
       "    <tr>\n",
       "      <th>10384</th>\n",
       "      <td>-117.66</td>\n",
       "      <td>33.62</td>\n",
       "      <td>16.0</td>\n",
       "      <td>5175.0</td>\n",
       "      <td>799.0</td>\n",
       "      <td>2717.0</td>\n",
       "      <td>813.0</td>\n",
       "      <td>5.0000</td>\n",
       "      <td>257800.0</td>\n",
       "      <td>&lt;1H OCEAN</td>\n",
       "      <td>4.0</td>\n",
       "    </tr>\n",
       "    <tr>\n",
       "      <th>17129</th>\n",
       "      <td>-122.15</td>\n",
       "      <td>37.47</td>\n",
       "      <td>37.0</td>\n",
       "      <td>1844.0</td>\n",
       "      <td>382.0</td>\n",
       "      <td>1634.0</td>\n",
       "      <td>417.0</td>\n",
       "      <td>2.7993</td>\n",
       "      <td>145500.0</td>\n",
       "      <td>NEAR BAY</td>\n",
       "      <td>2.0</td>\n",
       "    </tr>\n",
       "    <tr>\n",
       "      <th>6559</th>\n",
       "      <td>-118.13</td>\n",
       "      <td>34.20</td>\n",
       "      <td>46.0</td>\n",
       "      <td>2676.0</td>\n",
       "      <td>427.0</td>\n",
       "      <td>1022.0</td>\n",
       "      <td>395.0</td>\n",
       "      <td>5.0000</td>\n",
       "      <td>295500.0</td>\n",
       "      <td>INLAND</td>\n",
       "      <td>4.0</td>\n",
       "    </tr>\n",
       "    <tr>\n",
       "      <th>14222</th>\n",
       "      <td>-117.04</td>\n",
       "      <td>32.66</td>\n",
       "      <td>22.0</td>\n",
       "      <td>3362.0</td>\n",
       "      <td>630.0</td>\n",
       "      <td>1471.0</td>\n",
       "      <td>612.0</td>\n",
       "      <td>4.1442</td>\n",
       "      <td>303900.0</td>\n",
       "      <td>NEAR OCEAN</td>\n",
       "      <td>3.0</td>\n",
       "    </tr>\n",
       "    <tr>\n",
       "      <th>4748</th>\n",
       "      <td>-118.35</td>\n",
       "      <td>34.05</td>\n",
       "      <td>52.0</td>\n",
       "      <td>1971.0</td>\n",
       "      <td>414.0</td>\n",
       "      <td>1065.0</td>\n",
       "      <td>409.0</td>\n",
       "      <td>3.6435</td>\n",
       "      <td>195800.0</td>\n",
       "      <td>&lt;1H OCEAN</td>\n",
       "      <td>3.0</td>\n",
       "    </tr>\n",
       "    <tr>\n",
       "      <th>19249</th>\n",
       "      <td>-122.74</td>\n",
       "      <td>38.46</td>\n",
       "      <td>9.0</td>\n",
       "      <td>2268.0</td>\n",
       "      <td>594.0</td>\n",
       "      <td>1311.0</td>\n",
       "      <td>585.0</td>\n",
       "      <td>2.6607</td>\n",
       "      <td>91500.0</td>\n",
       "      <td>&lt;1H OCEAN</td>\n",
       "      <td>2.0</td>\n",
       "    </tr>\n",
       "    <tr>\n",
       "      <th>14585</th>\n",
       "      <td>-117.19</td>\n",
       "      <td>32.84</td>\n",
       "      <td>30.0</td>\n",
       "      <td>2492.0</td>\n",
       "      <td>406.0</td>\n",
       "      <td>1250.0</td>\n",
       "      <td>431.0</td>\n",
       "      <td>5.0000</td>\n",
       "      <td>197100.0</td>\n",
       "      <td>NEAR OCEAN</td>\n",
       "      <td>4.0</td>\n",
       "    </tr>\n",
       "    <tr>\n",
       "      <th>18596</th>\n",
       "      <td>-122.09</td>\n",
       "      <td>37.07</td>\n",
       "      <td>33.0</td>\n",
       "      <td>3581.0</td>\n",
       "      <td>734.0</td>\n",
       "      <td>1780.0</td>\n",
       "      <td>663.0</td>\n",
       "      <td>4.3429</td>\n",
       "      <td>214300.0</td>\n",
       "      <td>NEAR OCEAN</td>\n",
       "      <td>3.0</td>\n",
       "    </tr>\n",
       "    <tr>\n",
       "      <th>599</th>\n",
       "      <td>-122.06</td>\n",
       "      <td>37.70</td>\n",
       "      <td>33.0</td>\n",
       "      <td>3906.0</td>\n",
       "      <td>790.0</td>\n",
       "      <td>1912.0</td>\n",
       "      <td>770.0</td>\n",
       "      <td>3.5187</td>\n",
       "      <td>209400.0</td>\n",
       "      <td>NEAR BAY</td>\n",
       "      <td>3.0</td>\n",
       "    </tr>\n",
       "  </tbody>\n",
       "</table>\n",
       "<p>16512 rows × 11 columns</p>\n",
       "</div>"
      ],
      "text/plain": [
       "       longitude  latitude  housing_median_age  total_rooms  total_bedrooms  \\\n",
       "4861     -118.28     34.02                29.0        515.0           229.0   \n",
       "14408    -117.25     32.76                38.0       2331.0           493.0   \n",
       "4760     -118.35     34.04                36.0       1956.0           601.0   \n",
       "13897    -116.29     34.18                15.0       4203.0           966.0   \n",
       "10846    -117.90     33.67                25.0        639.0            98.0   \n",
       "16997    -122.27     37.54                 5.0       2140.0           420.0   \n",
       "15056    -116.93     32.79                23.0       5759.0          1258.0   \n",
       "8935     -118.50     33.99                22.0       3484.0           975.0   \n",
       "18806    -121.55     40.48                14.0       2413.0           524.0   \n",
       "6987     -118.03     33.97                39.0       2126.0           434.0   \n",
       "10643    -117.79     33.56                36.0       2057.0           329.0   \n",
       "1551     -121.94     37.75                16.0       5121.0           735.0   \n",
       "12498    -121.46     38.56                52.0       1750.0           372.0   \n",
       "1548     -121.94     37.75                17.0       2559.0           370.0   \n",
       "4797     -118.35     34.02                52.0        427.0            92.0   \n",
       "19465    -120.97     37.69                15.0       4065.0           841.0   \n",
       "13096    -121.30     38.51                19.0        822.0           134.0   \n",
       "19       -122.27     37.84                52.0       1503.0           298.0   \n",
       "19532    -120.90     37.66                19.0       3377.0           669.0   \n",
       "12487    -121.48     38.57                52.0        567.0           193.0   \n",
       "15711    -122.44     37.79                52.0       2083.0           491.0   \n",
       "1824     -122.31     37.93                36.0       1526.0           256.0   \n",
       "1214     -120.67     37.97                 9.0       7450.0          1475.0   \n",
       "13743    -117.16     34.08                 9.0       5306.0           993.0   \n",
       "15497    -117.24     33.11                10.0       3487.0           545.0   \n",
       "5452     -118.46     34.00                39.0       4098.0          1100.0   \n",
       "16617    -120.86     35.39                23.0       1664.0           355.0   \n",
       "460      -122.26     37.87                52.0       1087.0           371.0   \n",
       "20624    -121.41     39.04                16.0       1698.0           300.0   \n",
       "16645    -120.65     35.29                29.0       1785.0           481.0   \n",
       "...          ...       ...                 ...          ...             ...   \n",
       "9595     -120.44     37.31                16.0       3369.0           532.0   \n",
       "7267     -118.22     33.98                34.0       2283.0           809.0   \n",
       "10759    -117.87     33.63                 9.0       6163.0          1004.0   \n",
       "2714     -115.55     32.82                34.0       1540.0           316.0   \n",
       "424      -122.26     37.88                52.0       2255.0           410.0   \n",
       "15466    -117.21     33.17                16.0       1787.0           361.0   \n",
       "6254     -117.96     34.03                35.0       1623.0           331.0   \n",
       "16018    -122.47     37.73                52.0       2134.0           277.0   \n",
       "19417    -121.14     37.70                29.0       1343.0           223.0   \n",
       "2919     -119.04     35.37                46.0       1637.0           338.0   \n",
       "7989     -118.18     33.86                43.0       2752.0           645.0   \n",
       "10875    -117.89     33.72                23.0       2305.0           538.0   \n",
       "1780     -122.36     37.95                38.0       1066.0           248.0   \n",
       "6900     -118.14     34.03                38.0       1447.0           293.0   \n",
       "16028    -122.45     37.73                52.0       2035.0           424.0   \n",
       "648      -122.13     37.72                25.0       1134.0           153.0   \n",
       "16021    -122.47     37.72                46.0       1836.0           319.0   \n",
       "773      -122.11     37.66                36.0       1755.0           316.0   \n",
       "10826    -117.93     33.65                27.0       1283.0           406.0   \n",
       "18592    -122.07     37.13                26.0       1127.0           199.0   \n",
       "1718     -122.34     37.99                42.0       1531.0           326.0   \n",
       "10384    -117.66     33.62                16.0       5175.0           799.0   \n",
       "17129    -122.15     37.47                37.0       1844.0           382.0   \n",
       "6559     -118.13     34.20                46.0       2676.0           427.0   \n",
       "14222    -117.04     32.66                22.0       3362.0           630.0   \n",
       "4748     -118.35     34.05                52.0       1971.0           414.0   \n",
       "19249    -122.74     38.46                 9.0       2268.0           594.0   \n",
       "14585    -117.19     32.84                30.0       2492.0           406.0   \n",
       "18596    -122.09     37.07                33.0       3581.0           734.0   \n",
       "599      -122.06     37.70                33.0       3906.0           790.0   \n",
       "\n",
       "       population  households  median_income  median_house_value  \\\n",
       "4861       2690.0       217.0         0.4999            500001.0   \n",
       "14408       836.0       433.0         4.9125            452600.0   \n",
       "4760       1672.0       546.0         1.8685            150700.0   \n",
       "13897      1756.0       695.0         2.1820             60800.0   \n",
       "10846       311.0        93.0         5.0000            275900.0   \n",
       "16997       990.0       394.0         5.0000            438800.0   \n",
       "15056      3108.0      1202.0         3.0927            140600.0   \n",
       "8935       1268.0       952.0         3.2609            500001.0   \n",
       "18806       805.0       329.0         2.7857             77400.0   \n",
       "6987       1103.0       433.0         3.2852            196200.0   \n",
       "10643       658.0       309.0         5.0000            500001.0   \n",
       "1551       2464.0       761.0         5.0000            296100.0   \n",
       "12498       764.0       369.0         2.9191            111800.0   \n",
       "1548       1238.0       377.0         5.0000            269800.0   \n",
       "4797        233.0       116.0         3.2500            134700.0   \n",
       "19465      1986.0       680.0         3.0720            114300.0   \n",
       "13096       457.0       133.0         4.1500            157500.0   \n",
       "19          690.0       275.0         2.6033            162900.0   \n",
       "19532      2426.0       663.0         2.9783             82500.0   \n",
       "12487       272.0       187.0         1.6250            187500.0   \n",
       "15711      1224.0       483.0         4.0882            468800.0   \n",
       "1824        696.0       263.0         3.5089            261900.0   \n",
       "1214       2233.0       930.0         2.6528            133000.0   \n",
       "13743      2630.0       925.0         4.5100            135800.0   \n",
       "15497      1410.0       557.0         5.0000            240300.0   \n",
       "5452       2054.0      1053.0         2.9180            345600.0   \n",
       "16617       629.0       279.0         2.7344            188300.0   \n",
       "460        3337.0       350.0         1.4012            175000.0   \n",
       "20624       731.0       291.0         3.0739             87200.0   \n",
       "16645      1344.0       472.0         1.4492            222900.0   \n",
       "...           ...         ...            ...                 ...   \n",
       "9595       1770.0       574.0         5.0000            126200.0   \n",
       "7267       3032.0       832.0         2.4387            175000.0   \n",
       "10759      1912.0       903.0         5.0000            500001.0   \n",
       "2714       1013.0       274.0         2.5664             67500.0   \n",
       "424         823.0       377.0         5.0000            415300.0   \n",
       "15466      1446.0       362.0         3.7500            163800.0   \n",
       "6254       1462.0       312.0         3.9803            152600.0   \n",
       "16018       936.0       285.0         5.0000            484600.0   \n",
       "19417       751.0       225.0         3.2391            187500.0   \n",
       "2919        714.0       297.0         2.1818             75300.0   \n",
       "7989       1674.0       614.0         3.6719            161300.0   \n",
       "10875      2493.0       502.0         3.6618            183500.0   \n",
       "1780        729.0       286.0         1.5139             81700.0   \n",
       "6900       1042.0       284.0         4.1375            211500.0   \n",
       "16028      1193.0       430.0         5.0000            264200.0   \n",
       "648         340.0       171.0         5.0000            371200.0   \n",
       "16021       767.0       302.0         5.0000            399000.0   \n",
       "773         913.0       299.0         4.1302            172700.0   \n",
       "10826      1063.0       376.0         2.7500            275000.0   \n",
       "18592       543.0       199.0         4.9792            240000.0   \n",
       "1718       1271.0       377.0         2.6167             85100.0   \n",
       "10384      2717.0       813.0         5.0000            257800.0   \n",
       "17129      1634.0       417.0         2.7993            145500.0   \n",
       "6559       1022.0       395.0         5.0000            295500.0   \n",
       "14222      1471.0       612.0         4.1442            303900.0   \n",
       "4748       1065.0       409.0         3.6435            195800.0   \n",
       "19249      1311.0       585.0         2.6607             91500.0   \n",
       "14585      1250.0       431.0         5.0000            197100.0   \n",
       "18596      1780.0       663.0         4.3429            214300.0   \n",
       "599        1912.0       770.0         3.5187            209400.0   \n",
       "\n",
       "      ocean_proximity  income_cat  \n",
       "4861        <1H OCEAN         1.0  \n",
       "14408      NEAR OCEAN         4.0  \n",
       "4760        <1H OCEAN         2.0  \n",
       "13897          INLAND         2.0  \n",
       "10846       <1H OCEAN         4.0  \n",
       "16997        NEAR BAY         4.0  \n",
       "15056       <1H OCEAN         3.0  \n",
       "8935        <1H OCEAN         3.0  \n",
       "18806          INLAND         2.0  \n",
       "6987        <1H OCEAN         3.0  \n",
       "10643       <1H OCEAN         4.0  \n",
       "1551        <1H OCEAN         4.0  \n",
       "12498          INLAND         2.0  \n",
       "1548        <1H OCEAN         4.0  \n",
       "4797        <1H OCEAN         3.0  \n",
       "19465          INLAND         3.0  \n",
       "13096          INLAND         3.0  \n",
       "19           NEAR BAY         2.0  \n",
       "19532          INLAND         2.0  \n",
       "12487          INLAND         2.0  \n",
       "15711        NEAR BAY         3.0  \n",
       "1824         NEAR BAY         3.0  \n",
       "1214           INLAND         2.0  \n",
       "13743          INLAND         4.0  \n",
       "15497      NEAR OCEAN         4.0  \n",
       "5452        <1H OCEAN         2.0  \n",
       "16617      NEAR OCEAN         2.0  \n",
       "460          NEAR BAY         1.0  \n",
       "20624          INLAND         3.0  \n",
       "16645      NEAR OCEAN         1.0  \n",
       "...               ...         ...  \n",
       "9595           INLAND         4.0  \n",
       "7267        <1H OCEAN         2.0  \n",
       "10759       <1H OCEAN         4.0  \n",
       "2714           INLAND         2.0  \n",
       "424          NEAR BAY         4.0  \n",
       "15466       <1H OCEAN         3.0  \n",
       "6254        <1H OCEAN         3.0  \n",
       "16018      NEAR OCEAN         4.0  \n",
       "19417          INLAND         3.0  \n",
       "2919           INLAND         2.0  \n",
       "7989        <1H OCEAN         3.0  \n",
       "10875       <1H OCEAN         3.0  \n",
       "1780         NEAR BAY         2.0  \n",
       "6900        <1H OCEAN         3.0  \n",
       "16028        NEAR BAY         4.0  \n",
       "648          NEAR BAY         4.0  \n",
       "16021      NEAR OCEAN         4.0  \n",
       "773          NEAR BAY         3.0  \n",
       "10826       <1H OCEAN         2.0  \n",
       "18592      NEAR OCEAN         4.0  \n",
       "1718         NEAR BAY         2.0  \n",
       "10384       <1H OCEAN         4.0  \n",
       "17129        NEAR BAY         2.0  \n",
       "6559           INLAND         4.0  \n",
       "14222      NEAR OCEAN         3.0  \n",
       "4748        <1H OCEAN         3.0  \n",
       "19249       <1H OCEAN         2.0  \n",
       "14585      NEAR OCEAN         4.0  \n",
       "18596      NEAR OCEAN         3.0  \n",
       "599          NEAR BAY         3.0  \n",
       "\n",
       "[16512 rows x 11 columns]"
      ]
     },
     "execution_count": 27,
     "metadata": {},
     "output_type": "execute_result"
    }
   ],
   "source": [
    "train_set_cp= strata_train_set.copy()\n",
    "train_set_cp"
   ]
  },
  {
   "cell_type": "code",
   "execution_count": 45,
   "metadata": {},
   "outputs": [
    {
     "data": {
      "text/plain": [
       "<matplotlib.axes._subplots.AxesSubplot at 0x2194eab9a90>"
      ]
     },
     "execution_count": 45,
     "metadata": {},
     "output_type": "execute_result"
    },
    {
     "data": {
      "image/png": "[encoded data removed]",
      "text/plain": [
       "<matplotlib.figure.Figure at 0x2194eab9390>"
      ]
     },
     "metadata": {},
     "output_type": "display_data"
    }
   ],
   "source": [
    "train_set_cp.plot(kind = 'scatter', x = 'longitude', y = 'latitude', alpha = 0.1,color = train_set_cp['median_house_value'])"
   ]
  },
  {
   "cell_type": "code",
   "execution_count": 46,
   "metadata": {
    "collapsed": true
   },
   "outputs": [],
   "source": [
    "train_set_cp.drop(['income_cat'], axis = 1, inplace=True)"
   ]
  },
  {
   "cell_type": "code",
   "execution_count": 47,
   "metadata": {
    "collapsed": true
   },
   "outputs": [],
   "source": [
    "strata_test_set.drop(['income_cat'], axis =1, inplace = True)"
   ]
  },
  {
   "cell_type": "code",
   "execution_count": 48,
   "metadata": {
    "collapsed": true
   },
   "outputs": [],
   "source": [
    "strata_train_set.drop(['income_cat'], axis = 1, inplace=True)"
   ]
  },
  {
   "cell_type": "code",
   "execution_count": 49,
   "metadata": {},
   "outputs": [
    {
     "data": {
      "text/plain": [
       "<matplotlib.axes._subplots.AxesSubplot at 0x2194e1674a8>"
      ]
     },
     "execution_count": 49,
     "metadata": {},
     "output_type": "execute_result"
    },
    {
     "data": {
      "image/png": "[encoded data removed]",
      "text/plain": [
       "<matplotlib.figure.Figure at 0x2194e923048>"
      ]
     },
     "metadata": {},
     "output_type": "display_data"
    }
   ],
   "source": [
    "train_set_cp.plot(kind = 'Scatter', x = 'longitude', y  = 'latitude', alpha = 0.2, s= train_set_cp['population']/50, c = 'median_house_value', figsize=(10, 7),colormap= 'viridis')"
   ]
  },
  {
   "cell_type": "code",
   "execution_count": 50,
   "metadata": {
    "collapsed": true
   },
   "outputs": [],
   "source": [
    "lin_corr= strata_train_set.corr()"
   ]
  },
  {
   "cell_type": "code",
   "execution_count": 51,
   "metadata": {},
   "outputs": [
    {
     "data": {
      "text/html": [
       "<div>\n",
       "<style>\n",
       "    .dataframe thead tr:only-child th {\n",
       "        text-align: right;\n",
       "    }\n",
       "\n",
       "    .dataframe thead th {\n",
       "        text-align: left;\n",
       "    }\n",
       "\n",
       "    .dataframe tbody tr th {\n",
       "        vertical-align: top;\n",
       "    }\n",
       "</style>\n",
       "<table border=\"1\" class=\"dataframe\">\n",
       "  <thead>\n",
       "    <tr style=\"text-align: right;\">\n",
       "      <th></th>\n",
       "      <th>longitude</th>\n",
       "      <th>latitude</th>\n",
       "      <th>housing_median_age</th>\n",
       "      <th>total_rooms</th>\n",
       "      <th>total_bedrooms</th>\n",
       "      <th>population</th>\n",
       "      <th>households</th>\n",
       "      <th>median_income</th>\n",
       "      <th>median_house_value</th>\n",
       "      <th>ocean_proximity</th>\n",
       "    </tr>\n",
       "  </thead>\n",
       "  <tbody>\n",
       "    <tr>\n",
       "      <th>4861</th>\n",
       "      <td>-118.28</td>\n",
       "      <td>34.02</td>\n",
       "      <td>29.0</td>\n",
       "      <td>515.0</td>\n",
       "      <td>229.0</td>\n",
       "      <td>2690.0</td>\n",
       "      <td>217.0</td>\n",
       "      <td>0.4999</td>\n",
       "      <td>500001.0</td>\n",
       "      <td>&lt;1H OCEAN</td>\n",
       "    </tr>\n",
       "    <tr>\n",
       "      <th>14408</th>\n",
       "      <td>-117.25</td>\n",
       "      <td>32.76</td>\n",
       "      <td>38.0</td>\n",
       "      <td>2331.0</td>\n",
       "      <td>493.0</td>\n",
       "      <td>836.0</td>\n",
       "      <td>433.0</td>\n",
       "      <td>4.9125</td>\n",
       "      <td>452600.0</td>\n",
       "      <td>NEAR OCEAN</td>\n",
       "    </tr>\n",
       "    <tr>\n",
       "      <th>4760</th>\n",
       "      <td>-118.35</td>\n",
       "      <td>34.04</td>\n",
       "      <td>36.0</td>\n",
       "      <td>1956.0</td>\n",
       "      <td>601.0</td>\n",
       "      <td>1672.0</td>\n",
       "      <td>546.0</td>\n",
       "      <td>1.8685</td>\n",
       "      <td>150700.0</td>\n",
       "      <td>&lt;1H OCEAN</td>\n",
       "    </tr>\n",
       "    <tr>\n",
       "      <th>13897</th>\n",
       "      <td>-116.29</td>\n",
       "      <td>34.18</td>\n",
       "      <td>15.0</td>\n",
       "      <td>4203.0</td>\n",
       "      <td>966.0</td>\n",
       "      <td>1756.0</td>\n",
       "      <td>695.0</td>\n",
       "      <td>2.1820</td>\n",
       "      <td>60800.0</td>\n",
       "      <td>INLAND</td>\n",
       "    </tr>\n",
       "    <tr>\n",
       "      <th>10846</th>\n",
       "      <td>-117.90</td>\n",
       "      <td>33.67</td>\n",
       "      <td>25.0</td>\n",
       "      <td>639.0</td>\n",
       "      <td>98.0</td>\n",
       "      <td>311.0</td>\n",
       "      <td>93.0</td>\n",
       "      <td>5.0000</td>\n",
       "      <td>275900.0</td>\n",
       "      <td>&lt;1H OCEAN</td>\n",
       "    </tr>\n",
       "  </tbody>\n",
       "</table>\n",
       "</div>"
      ],
      "text/plain": [
       "       longitude  latitude  housing_median_age  total_rooms  total_bedrooms  \\\n",
       "4861     -118.28     34.02                29.0        515.0           229.0   \n",
       "14408    -117.25     32.76                38.0       2331.0           493.0   \n",
       "4760     -118.35     34.04                36.0       1956.0           601.0   \n",
       "13897    -116.29     34.18                15.0       4203.0           966.0   \n",
       "10846    -117.90     33.67                25.0        639.0            98.0   \n",
       "\n",
       "       population  households  median_income  median_house_value  \\\n",
       "4861       2690.0       217.0         0.4999            500001.0   \n",
       "14408       836.0       433.0         4.9125            452600.0   \n",
       "4760       1672.0       546.0         1.8685            150700.0   \n",
       "13897      1756.0       695.0         2.1820             60800.0   \n",
       "10846       311.0        93.0         5.0000            275900.0   \n",
       "\n",
       "      ocean_proximity  \n",
       "4861        <1H OCEAN  \n",
       "14408      NEAR OCEAN  \n",
       "4760        <1H OCEAN  \n",
       "13897          INLAND  \n",
       "10846       <1H OCEAN  "
      ]
     },
     "execution_count": 51,
     "metadata": {},
     "output_type": "execute_result"
    }
   ],
   "source": [
    "strata_train_set.head()"
   ]
  },
  {
   "cell_type": "code",
   "execution_count": 52,
   "metadata": {},
   "outputs": [
    {
     "data": {
      "text/plain": [
       "longitude            -0.048321\n",
       "latitude             -0.142622\n",
       "housing_median_age    0.108043\n",
       "total_rooms           0.136666\n",
       "total_bedrooms        0.049904\n",
       "population           -0.023974\n",
       "households            0.066309\n",
       "median_income         0.604960\n",
       "median_house_value    1.000000\n",
       "Name: median_house_value, dtype: float64"
      ]
     },
     "execution_count": 52,
     "metadata": {},
     "output_type": "execute_result"
    }
   ],
   "source": [
    "lin_corr['median_house_value']"
   ]
  },
  {
   "cell_type": "code",
   "execution_count": 26,
   "metadata": {},
   "outputs": [
    {
     "data": {
      "text/plain": [
       "array([[<matplotlib.axes._subplots.AxesSubplot object at 0x000002B8D00D4CC0>,\n",
       "        <matplotlib.axes._subplots.AxesSubplot object at 0x000002B8D0121F28>],\n",
       "       [<matplotlib.axes._subplots.AxesSubplot object at 0x000002B8D0167080>,\n",
       "        <matplotlib.axes._subplots.AxesSubplot object at 0x000002B8D019E080>]], dtype=object)"
      ]
     },
     "execution_count": 26,
     "metadata": {},
     "output_type": "execute_result"
    },
    {
     "data": {
      "image/png": "[encoded data removed]",
      "text/plain": [
       "<matplotlib.figure.Figure at 0x2b8d00d4358>"
      ]
     },
     "metadata": {},
     "output_type": "display_data"
    }
   ],
   "source": [
    "from pandas.plotting import scatter_matrix\n",
    "\n",
    "scatter_matrix(strata_test_set[['median_income', 'median_house_value']], alpha= 0.1)"
   ]
  },
  {
   "cell_type": "code",
   "execution_count": 27,
   "metadata": {},
   "outputs": [
    {
     "data": {
      "text/plain": [
       "4861     500001.0\n",
       "14408    452600.0\n",
       "4760     150700.0\n",
       "13897     60800.0\n",
       "10846    275900.0\n",
       "Name: median_house_value, dtype: float64"
      ]
     },
     "execution_count": 27,
     "metadata": {},
     "output_type": "execute_result"
    }
   ],
   "source": [
    "#strata_test_set.head()\n",
    "\n",
    "#strata_test_set_f =strata_test_set.drop(['median_house_value'], axis =1)\n",
    "#strata_test_set_f.head()\n",
    "\n",
    "strata_train_set_f = strata_train_set.drop(['median_house_value', 'income_cat'], axis =1)\n",
    "strata_train_set_f.head()\n",
    "\n",
    "strata_train_set_lab = strata_train_set['median_house_value']\n",
    "\n",
    "strata_train_set_lab.head()"
   ]
  },
  {
   "cell_type": "code",
   "execution_count": 130,
   "metadata": {
    "collapsed": true
   },
   "outputs": [],
   "source": [
    "#strata_test_set['bedrooms_per_household'] =  strata_test_set['total_bedrooms']/strata_test_set['households']"
   ]
  },
  {
   "cell_type": "code",
   "execution_count": 142,
   "metadata": {
    "collapsed": true
   },
   "outputs": [],
   "source": [
    "train_set_cp['bedrooms_per_household'] = train_set_cp['total_bedrooms']/train_set_cp['total_rooms']"
   ]
  },
  {
   "cell_type": "code",
   "execution_count": 135,
   "metadata": {
    "collapsed": true
   },
   "outputs": [],
   "source": [
    "train_set_cp['people_per_household'] = train_set_cp['population']/train_set_cp['households']"
   ]
  },
  {
   "cell_type": "code",
   "execution_count": 136,
   "metadata": {
    "collapsed": true
   },
   "outputs": [],
   "source": [
    "train_set_cp['rooms_per_household'] = train_set_cp['total_rooms']/train_set_cp['households']"
   ]
  },
  {
   "cell_type": "code",
   "execution_count": 139,
   "metadata": {
    "collapsed": true
   },
   "outputs": [],
   "source": [
    "lin_corr= train_set_cp.corr()"
   ]
  },
  {
   "cell_type": "code",
   "execution_count": 143,
   "metadata": {},
   "outputs": [
    {
     "data": {
      "text/plain": [
       "median_house_value        1.000000\n",
       "median_income             0.687160\n",
       "rooms_per_household       0.146285\n",
       "total_rooms               0.135097\n",
       "housing_median_age        0.114110\n",
       "households                0.064506\n",
       "total_bedrooms            0.047689\n",
       "people_per_household     -0.021985\n",
       "population               -0.026920\n",
       "bedrooms_per_household   -0.043343\n",
       "longitude                -0.047432\n",
       "latitude                 -0.142724\n",
       "Name: median_house_value, dtype: float64"
      ]
     },
     "execution_count": 143,
     "metadata": {},
     "output_type": "execute_result"
    }
   ],
   "source": [
    "lin_corr['median_house_value'].sort_values(ascending = False)"
   ]
  },
  {
   "cell_type": "code",
   "execution_count": null,
   "metadata": {
    "collapsed": true
   },
   "outputs": [],
   "source": [
    "##preparing the data\n",
    "\n",
    "#split the feature data from the label data "
   ]
  },
  {
   "cell_type": "code",
   "execution_count": 28,
   "metadata": {},
   "outputs": [
    {
     "ename": "NameError",
     "evalue": "name 'train_set_cp' is not defined",
     "output_type": "error",
     "traceback": [
      "\u001b[1;31m---------------------------------------------------------------------------\u001b[0m",
      "\u001b[1;31mNameError\u001b[0m                                 Traceback (most recent call last)",
      "\u001b[1;32m<ipython-input-28-4ed890b66327>\u001b[0m in \u001b[0;36m<module>\u001b[1;34m()\u001b[0m\n\u001b[1;32m----> 1\u001b[1;33m \u001b[0mtrain_set_cp\u001b[0m\u001b[1;33m.\u001b[0m\u001b[0mhead\u001b[0m\u001b[1;33m(\u001b[0m\u001b[1;33m)\u001b[0m\u001b[1;33m\u001b[0m\u001b[0m\n\u001b[0m",
      "\u001b[1;31mNameError\u001b[0m: name 'train_set_cp' is not defined"
     ]
    }
   ],
   "source": [
    "train_set_cp.head()"
   ]
  },
  {
   "cell_type": "markdown",
   "metadata": {},
   "source": []
  },
  {
   "cell_type": "code",
   "execution_count": 146,
   "metadata": {
    "collapsed": true
   },
   "outputs": [],
   "source": [
    "train_f_data= train_set_cp.drop(['median_house_value'], axis =1)"
   ]
  },
  {
   "cell_type": "code",
   "execution_count": 29,
   "metadata": {},
   "outputs": [
    {
     "ename": "NameError",
     "evalue": "name 'train_f_data' is not defined",
     "output_type": "error",
     "traceback": [
      "\u001b[1;31m---------------------------------------------------------------------------\u001b[0m",
      "\u001b[1;31mNameError\u001b[0m                                 Traceback (most recent call last)",
      "\u001b[1;32m<ipython-input-29-0045de1b60e4>\u001b[0m in \u001b[0;36m<module>\u001b[1;34m()\u001b[0m\n\u001b[1;32m----> 1\u001b[1;33m \u001b[0mtrain_f_data\u001b[0m\u001b[1;33m.\u001b[0m\u001b[0mhead\u001b[0m\u001b[1;33m(\u001b[0m\u001b[1;33m)\u001b[0m\u001b[1;33m\u001b[0m\u001b[0m\n\u001b[0m",
      "\u001b[1;31mNameError\u001b[0m: name 'train_f_data' is not defined"
     ]
    }
   ],
   "source": [
    "train_f_data.head()"
   ]
  },
  {
   "cell_type": "code",
   "execution_count": 151,
   "metadata": {
    "collapsed": true
   },
   "outputs": [],
   "source": [
    "train_labels= train_set_cp['median_house_value'].copy()"
   ]
  },
  {
   "cell_type": "code",
   "execution_count": 46,
   "metadata": {},
   "outputs": [
    {
     "data": {
      "text/plain": [
       "4861     500001.0\n",
       "14408    452600.0\n",
       "4760     150700.0\n",
       "13897     60800.0\n",
       "10846    275900.0\n",
       "Name: median_house_value, dtype: float64"
      ]
     },
     "execution_count": 46,
     "metadata": {},
     "output_type": "execute_result"
    }
   ],
   "source": []
  },
  {
   "cell_type": "code",
   "execution_count": 153,
   "metadata": {},
   "outputs": [
    {
     "name": "stdout",
     "output_type": "stream",
     "text": [
      "<class 'pandas.core.frame.DataFrame'>\n",
      "Int64Index: 16512 entries, 17606 to 15775\n",
      "Data columns (total 12 columns):\n",
      "longitude                 16512 non-null float64\n",
      "latitude                  16512 non-null float64\n",
      "housing_median_age        16512 non-null float64\n",
      "total_rooms               16512 non-null float64\n",
      "total_bedrooms            16354 non-null float64\n",
      "population                16512 non-null float64\n",
      "households                16512 non-null float64\n",
      "median_income             16512 non-null float64\n",
      "ocean_proximity           16512 non-null object\n",
      "bedrooms_per_household    16354 non-null float64\n",
      "people_per_household      16512 non-null float64\n",
      "rooms_per_household       16512 non-null float64\n",
      "dtypes: float64(11), object(1)\n",
      "memory usage: 2.3+ MB\n"
     ]
    }
   ],
   "source": [
    "train_f_data.info()"
   ]
  },
  {
   "cell_type": "code",
   "execution_count": 155,
   "metadata": {},
   "outputs": [
    {
     "name": "stdout",
     "output_type": "stream",
     "text": [
      "<class 'pandas.core.frame.DataFrame'>\n",
      "Int64Index: 16512 entries, 17606 to 15775\n",
      "Data columns (total 12 columns):\n",
      "longitude                 16512 non-null float64\n",
      "latitude                  16512 non-null float64\n",
      "housing_median_age        16512 non-null float64\n",
      "total_rooms               16512 non-null float64\n",
      "total_bedrooms            16354 non-null float64\n",
      "population                16512 non-null float64\n",
      "households                16512 non-null float64\n",
      "median_income             16512 non-null float64\n",
      "ocean_proximity           16512 non-null object\n",
      "bedrooms_per_household    16354 non-null float64\n",
      "people_per_household      16512 non-null float64\n",
      "rooms_per_household       16512 non-null float64\n",
      "dtypes: float64(11), object(1)\n",
      "memory usage: 2.3+ MB\n"
     ]
    }
   ],
   "source": [
    "#train_f_data.dropna(subset=['total_bedrooms'], axis=0)\n",
    "\n",
    "train_f_data.info()"
   ]
  },
  {
   "cell_type": "code",
   "execution_count": 158,
   "metadata": {
    "collapsed": true
   },
   "outputs": [],
   "source": [
    "## replacing nulls with the median values\n",
    "\n",
    "b_median=train_f_data['total_bedrooms'].median()\n",
    "\n",
    "train_f_data['total_bedrooms'].fillna(b_median, inplace  = True)"
   ]
  },
  {
   "cell_type": "code",
   "execution_count": 69,
   "metadata": {},
   "outputs": [
    {
     "ename": "NameError",
     "evalue": "name 'train_f_data' is not defined",
     "output_type": "error",
     "traceback": [
      "\u001b[1;31m---------------------------------------------------------------------------\u001b[0m",
      "\u001b[1;31mNameError\u001b[0m                                 Traceback (most recent call last)",
      "\u001b[1;32m<ipython-input-69-9c2bec8339ff>\u001b[0m in \u001b[0;36m<module>\u001b[1;34m()\u001b[0m\n\u001b[1;32m----> 1\u001b[1;33m \u001b[0mtrain_f_data\u001b[0m\u001b[1;33m.\u001b[0m\u001b[0minfo\u001b[0m\u001b[1;33m(\u001b[0m\u001b[1;33m)\u001b[0m\u001b[1;33m\u001b[0m\u001b[0m\n\u001b[0m",
      "\u001b[1;31mNameError\u001b[0m: name 'train_f_data' is not defined"
     ]
    }
   ],
   "source": [
    "train_f_data.info()"
   ]
  },
  {
   "cell_type": "code",
   "execution_count": 38,
   "metadata": {
    "collapsed": true
   },
   "outputs": [],
   "source": [
    "###easier way using imputer fron sklearn\n",
    "\n",
    "\n",
    "\n",
    "\n",
    "from sklearn.preprocessing import Imputer"
   ]
  },
  {
   "cell_type": "code",
   "execution_count": 161,
   "metadata": {
    "collapsed": true
   },
   "outputs": [],
   "source": [
    "m_imputer=Imputer(strategy = 'median')"
   ]
  },
  {
   "cell_type": "code",
   "execution_count": 162,
   "metadata": {
    "collapsed": true
   },
   "outputs": [],
   "source": [
    "train_f_data_num=train_f_data.drop(['ocean_proximity'], axis =1)"
   ]
  },
  {
   "cell_type": "code",
   "execution_count": 164,
   "metadata": {},
   "outputs": [
    {
     "name": "stdout",
     "output_type": "stream",
     "text": [
      "<class 'pandas.core.frame.DataFrame'>\n",
      "Int64Index: 16512 entries, 17606 to 15775\n",
      "Data columns (total 11 columns):\n",
      "longitude                 16512 non-null float64\n",
      "latitude                  16512 non-null float64\n",
      "housing_median_age        16512 non-null float64\n",
      "total_rooms               16512 non-null float64\n",
      "total_bedrooms            16512 non-null float64\n",
      "population                16512 non-null float64\n",
      "households                16512 non-null float64\n",
      "median_income             16512 non-null float64\n",
      "bedrooms_per_household    16354 non-null float64\n",
      "people_per_household      16512 non-null float64\n",
      "rooms_per_household       16512 non-null float64\n",
      "dtypes: float64(11)\n",
      "memory usage: 2.1 MB\n"
     ]
    }
   ],
   "source": [
    "train_f_data_num.info()"
   ]
  },
  {
   "cell_type": "code",
   "execution_count": 175,
   "metadata": {},
   "outputs": [
    {
     "data": {
      "text/plain": [
       "Imputer(axis=0, copy=True, missing_values='NaN', strategy='median', verbose=0)"
      ]
     },
     "execution_count": 175,
     "metadata": {},
     "output_type": "execute_result"
    }
   ],
   "source": [
    "m_imputer.fit(train_f_data_num)"
   ]
  },
  {
   "cell_type": "code",
   "execution_count": 166,
   "metadata": {},
   "outputs": [
    {
     "name": "stdout",
     "output_type": "stream",
     "text": [
      "<class 'pandas.core.frame.DataFrame'>\n",
      "Int64Index: 16512 entries, 17606 to 15775\n",
      "Data columns (total 11 columns):\n",
      "longitude                 16512 non-null float64\n",
      "latitude                  16512 non-null float64\n",
      "housing_median_age        16512 non-null float64\n",
      "total_rooms               16512 non-null float64\n",
      "total_bedrooms            16512 non-null float64\n",
      "population                16512 non-null float64\n",
      "households                16512 non-null float64\n",
      "median_income             16512 non-null float64\n",
      "bedrooms_per_household    16354 non-null float64\n",
      "people_per_household      16512 non-null float64\n",
      "rooms_per_household       16512 non-null float64\n",
      "dtypes: float64(11)\n",
      "memory usage: 2.1 MB\n"
     ]
    }
   ],
   "source": [
    "train_f_data_num.info()"
   ]
  },
  {
   "cell_type": "code",
   "execution_count": 178,
   "metadata": {
    "collapsed": true
   },
   "outputs": [],
   "source": [
    "X=m_imputer.transform(train_f_data_num)"
   ]
  },
  {
   "cell_type": "code",
   "execution_count": 179,
   "metadata": {
    "collapsed": true
   },
   "outputs": [],
   "source": [
    "housing_tr_num= pd.DataFrame(X, columns= train_f_data_num.columns)"
   ]
  },
  {
   "cell_type": "code",
   "execution_count": 177,
   "metadata": {},
   "outputs": [
    {
     "data": {
      "text/plain": [
       "array([ -1.18510000e+02,   3.42600000e+01,   2.90000000e+01,\n",
       "         2.11950000e+03,   4.33000000e+02,   1.16400000e+03,\n",
       "         4.08000000e+02,   3.54090000e+00,   2.03031374e-01,\n",
       "         2.81765270e+00,   5.23228423e+00])"
      ]
     },
     "execution_count": 177,
     "metadata": {},
     "output_type": "execute_result"
    }
   ],
   "source": [
    "m_imputer.statistics_"
   ]
  },
  {
   "cell_type": "code",
   "execution_count": 180,
   "metadata": {},
   "outputs": [
    {
     "data": {
      "text/html": [
       "<div>\n",
       "<style>\n",
       "    .dataframe thead tr:only-child th {\n",
       "        text-align: right;\n",
       "    }\n",
       "\n",
       "    .dataframe thead th {\n",
       "        text-align: left;\n",
       "    }\n",
       "\n",
       "    .dataframe tbody tr th {\n",
       "        vertical-align: top;\n",
       "    }\n",
       "</style>\n",
       "<table border=\"1\" class=\"dataframe\">\n",
       "  <thead>\n",
       "    <tr style=\"text-align: right;\">\n",
       "      <th></th>\n",
       "      <th>longitude</th>\n",
       "      <th>latitude</th>\n",
       "      <th>housing_median_age</th>\n",
       "      <th>total_rooms</th>\n",
       "      <th>total_bedrooms</th>\n",
       "      <th>population</th>\n",
       "      <th>households</th>\n",
       "      <th>median_income</th>\n",
       "      <th>bedrooms_per_household</th>\n",
       "      <th>people_per_household</th>\n",
       "      <th>rooms_per_household</th>\n",
       "    </tr>\n",
       "  </thead>\n",
       "  <tbody>\n",
       "    <tr>\n",
       "      <th>0</th>\n",
       "      <td>-121.89</td>\n",
       "      <td>37.29</td>\n",
       "      <td>38.0</td>\n",
       "      <td>1568.0</td>\n",
       "      <td>351.0</td>\n",
       "      <td>710.0</td>\n",
       "      <td>339.0</td>\n",
       "      <td>2.7042</td>\n",
       "      <td>0.223852</td>\n",
       "      <td>2.094395</td>\n",
       "      <td>4.625369</td>\n",
       "    </tr>\n",
       "    <tr>\n",
       "      <th>1</th>\n",
       "      <td>-121.93</td>\n",
       "      <td>37.05</td>\n",
       "      <td>14.0</td>\n",
       "      <td>679.0</td>\n",
       "      <td>108.0</td>\n",
       "      <td>306.0</td>\n",
       "      <td>113.0</td>\n",
       "      <td>6.4214</td>\n",
       "      <td>0.159057</td>\n",
       "      <td>2.707965</td>\n",
       "      <td>6.008850</td>\n",
       "    </tr>\n",
       "    <tr>\n",
       "      <th>2</th>\n",
       "      <td>-117.20</td>\n",
       "      <td>32.77</td>\n",
       "      <td>31.0</td>\n",
       "      <td>1952.0</td>\n",
       "      <td>471.0</td>\n",
       "      <td>936.0</td>\n",
       "      <td>462.0</td>\n",
       "      <td>2.8621</td>\n",
       "      <td>0.241291</td>\n",
       "      <td>2.025974</td>\n",
       "      <td>4.225108</td>\n",
       "    </tr>\n",
       "    <tr>\n",
       "      <th>3</th>\n",
       "      <td>-119.61</td>\n",
       "      <td>36.31</td>\n",
       "      <td>25.0</td>\n",
       "      <td>1847.0</td>\n",
       "      <td>371.0</td>\n",
       "      <td>1460.0</td>\n",
       "      <td>353.0</td>\n",
       "      <td>1.8839</td>\n",
       "      <td>0.200866</td>\n",
       "      <td>4.135977</td>\n",
       "      <td>5.232295</td>\n",
       "    </tr>\n",
       "    <tr>\n",
       "      <th>4</th>\n",
       "      <td>-118.59</td>\n",
       "      <td>34.23</td>\n",
       "      <td>17.0</td>\n",
       "      <td>6592.0</td>\n",
       "      <td>1525.0</td>\n",
       "      <td>4459.0</td>\n",
       "      <td>1463.0</td>\n",
       "      <td>3.0347</td>\n",
       "      <td>0.231341</td>\n",
       "      <td>3.047847</td>\n",
       "      <td>4.505810</td>\n",
       "    </tr>\n",
       "  </tbody>\n",
       "</table>\n",
       "</div>"
      ],
      "text/plain": [
       "   longitude  latitude  housing_median_age  total_rooms  total_bedrooms  \\\n",
       "0    -121.89     37.29                38.0       1568.0           351.0   \n",
       "1    -121.93     37.05                14.0        679.0           108.0   \n",
       "2    -117.20     32.77                31.0       1952.0           471.0   \n",
       "3    -119.61     36.31                25.0       1847.0           371.0   \n",
       "4    -118.59     34.23                17.0       6592.0          1525.0   \n",
       "\n",
       "   population  households  median_income  bedrooms_per_household  \\\n",
       "0       710.0       339.0         2.7042                0.223852   \n",
       "1       306.0       113.0         6.4214                0.159057   \n",
       "2       936.0       462.0         2.8621                0.241291   \n",
       "3      1460.0       353.0         1.8839                0.200866   \n",
       "4      4459.0      1463.0         3.0347                0.231341   \n",
       "\n",
       "   people_per_household  rooms_per_household  \n",
       "0              2.094395             4.625369  \n",
       "1              2.707965             6.008850  \n",
       "2              2.025974             4.225108  \n",
       "3              4.135977             5.232295  \n",
       "4              3.047847             4.505810  "
      ]
     },
     "execution_count": 180,
     "metadata": {},
     "output_type": "execute_result"
    }
   ],
   "source": [
    "housing_tr_num.head()"
   ]
  },
  {
   "cell_type": "code",
   "execution_count": 28,
   "metadata": {},
   "outputs": [
    {
     "ename": "NameError",
     "evalue": "name 'strata_train_set_f_1' is not defined",
     "output_type": "error",
     "traceback": [
      "\u001b[1;31m---------------------------------------------------------------------------\u001b[0m",
      "\u001b[1;31mNameError\u001b[0m                                 Traceback (most recent call last)",
      "\u001b[1;32m<ipython-input-28-c670168b0fc0>\u001b[0m in \u001b[0;36m<module>\u001b[1;34m()\u001b[0m\n\u001b[0;32m      3\u001b[0m \u001b[1;31m#strata_train_set_f.info()\u001b[0m\u001b[1;33m\u001b[0m\u001b[1;33m\u001b[0m\u001b[0m\n\u001b[0;32m      4\u001b[0m \u001b[1;33m\u001b[0m\u001b[0m\n\u001b[1;32m----> 5\u001b[1;33m \u001b[0mstrata_train_set_f_1\u001b[0m\u001b[1;33m.\u001b[0m\u001b[0minfo\u001b[0m\u001b[1;33m(\u001b[0m\u001b[1;33m)\u001b[0m\u001b[1;33m\u001b[0m\u001b[0m\n\u001b[0m",
      "\u001b[1;31mNameError\u001b[0m: name 'strata_train_set_f_1' is not defined"
     ]
    }
   ],
   "source": [
    "#train_labels\n",
    "\n",
    "#strata_train_set_f.info()\n",
    "\n",
    "strata_train_set_f_1.info()"
   ]
  },
  {
   "cell_type": "code",
   "execution_count": 29,
   "metadata": {},
   "outputs": [
    {
     "data": {
      "text/plain": [
       "Int64Index([ 4861, 14408,  4760, 13897, 10846, 16997, 15056,  8935, 18806,\n",
       "             6987,\n",
       "            ...\n",
       "             1718, 10384, 17129,  6559, 14222,  4748, 19249, 14585, 18596,\n",
       "              599],\n",
       "           dtype='int64', length=16512)"
      ]
     },
     "execution_count": 29,
     "metadata": {},
     "output_type": "execute_result"
    }
   ],
   "source": [
    "#housing_cat=train_f_data['ocean_proximity']\n",
    "#strata_train_set_f.head()\n",
    "housing_cat= strata_train_set_f['ocean_proximity']\n",
    "housing_cat.index"
   ]
  },
  {
   "cell_type": "code",
   "execution_count": null,
   "metadata": {
    "collapsed": true
   },
   "outputs": [],
   "source": []
  },
  {
   "cell_type": "code",
   "execution_count": null,
   "metadata": {
    "collapsed": true
   },
   "outputs": [],
   "source": []
  },
  {
   "cell_type": "code",
   "execution_count": 30,
   "metadata": {
    "collapsed": true
   },
   "outputs": [],
   "source": [
    "housing_cat_enc, housing_catg= housing_cat.factorize()"
   ]
  },
  {
   "cell_type": "code",
   "execution_count": 31,
   "metadata": {},
   "outputs": [
    {
     "data": {
      "text/plain": [
       "array([0, 1, 0, ..., 1, 1, 3], dtype=int64)"
      ]
     },
     "execution_count": 31,
     "metadata": {},
     "output_type": "execute_result"
    }
   ],
   "source": [
    "housing_cat_enc"
   ]
  },
  {
   "cell_type": "code",
   "execution_count": null,
   "metadata": {
    "collapsed": true
   },
   "outputs": [],
   "source": []
  },
  {
   "cell_type": "code",
   "execution_count": 32,
   "metadata": {},
   "outputs": [
    {
     "name": "stdout",
     "output_type": "stream",
     "text": [
      "<class 'pandas.core.frame.DataFrame'>\n",
      "Int64Index: 16512 entries, 4861 to 599\n",
      "Data columns (total 8 columns):\n",
      "longitude             16512 non-null float64\n",
      "latitude              16512 non-null float64\n",
      "housing_median_age    16512 non-null float64\n",
      "total_rooms           16512 non-null float64\n",
      "total_bedrooms        16346 non-null float64\n",
      "population            16512 non-null float64\n",
      "households            16512 non-null float64\n",
      "median_income         16512 non-null float64\n",
      "dtypes: float64(8)\n",
      "memory usage: 1.1 MB\n"
     ]
    }
   ],
   "source": [
    "housing_cat_enc.shape\n",
    "\n",
    "#drop ocean cat and use this coded column  instead\n",
    "\n",
    "strata_train_set_f_1 = strata_train_set_f.drop(['ocean_proximity'], axis =1)\n",
    "\n",
    "strata_train_set_f_1.info()"
   ]
  },
  {
   "cell_type": "code",
   "execution_count": 33,
   "metadata": {},
   "outputs": [
    {
     "data": {
      "text/plain": [
       "(16512,)"
      ]
     },
     "execution_count": 33,
     "metadata": {},
     "output_type": "execute_result"
    }
   ],
   "source": [
    "Ocean_prox_enc= pd.Series(housing_cat_enc, name = 'Ocean_prox_enc', index= strata_train_set_f_1.index)\n",
    "\n",
    "Ocean_prox_enc.shape"
   ]
  },
  {
   "cell_type": "code",
   "execution_count": 34,
   "metadata": {},
   "outputs": [
    {
     "data": {
      "text/plain": [
       "array([ 4861, 14408,  4760, ..., 14585, 18596,   599], dtype=int64)"
      ]
     },
     "execution_count": 34,
     "metadata": {},
     "output_type": "execute_result"
    }
   ],
   "source": [
    "Ocean_prox_enc.index.values"
   ]
  },
  {
   "cell_type": "code",
   "execution_count": null,
   "metadata": {
    "collapsed": true
   },
   "outputs": [],
   "source": []
  },
  {
   "cell_type": "code",
   "execution_count": null,
   "metadata": {
    "collapsed": true
   },
   "outputs": [],
   "source": []
  },
  {
   "cell_type": "code",
   "execution_count": 36,
   "metadata": {},
   "outputs": [
    {
     "data": {
      "text/plain": [
       "array([ 4861, 14408,  4760, ..., 14585, 18596,   599], dtype=int64)"
      ]
     },
     "execution_count": 36,
     "metadata": {},
     "output_type": "execute_result"
    }
   ],
   "source": [
    "strata_train_set_f_1.index.values\n",
    "\n",
    "#Ocean_prox_enc.index.values"
   ]
  },
  {
   "cell_type": "code",
   "execution_count": null,
   "metadata": {
    "collapsed": true
   },
   "outputs": [],
   "source": []
  },
  {
   "cell_type": "code",
   "execution_count": null,
   "metadata": {
    "collapsed": true
   },
   "outputs": [],
   "source": []
  },
  {
   "cell_type": "code",
   "execution_count": null,
   "metadata": {
    "collapsed": true
   },
   "outputs": [],
   "source": []
  },
  {
   "cell_type": "code",
   "execution_count": 37,
   "metadata": {},
   "outputs": [
    {
     "data": {
      "text/plain": [
       "Int64Index([ 4861, 14408,  4760, 13897, 10846, 16997, 15056,  8935, 18806,\n",
       "             6987,\n",
       "            ...\n",
       "             1718, 10384, 17129,  6559, 14222,  4748, 19249, 14585, 18596,\n",
       "              599],\n",
       "           dtype='int64', length=16512)"
      ]
     },
     "execution_count": 37,
     "metadata": {},
     "output_type": "execute_result"
    }
   ],
   "source": [
    "house_train= pd.concat([strata_train_set_f_1, Ocean_prox_enc], axis = 1)\n",
    "\n",
    "house_train.index\n",
    "\n"
   ]
  },
  {
   "cell_type": "code",
   "execution_count": 192,
   "metadata": {},
   "outputs": [
    {
     "data": {
      "text/plain": [
       "Index(['<1H OCEAN', 'NEAR OCEAN', 'INLAND', 'NEAR BAY', 'ISLAND'], dtype='object')"
      ]
     },
     "execution_count": 192,
     "metadata": {},
     "output_type": "execute_result"
    }
   ],
   "source": [
    "\n",
    "housing_catg\n"
   ]
  },
  {
   "cell_type": "code",
   "execution_count": 214,
   "metadata": {},
   "outputs": [
    {
     "data": {
      "text/plain": [
       "(16512,)"
      ]
     },
     "execution_count": 214,
     "metadata": {},
     "output_type": "execute_result"
    }
   ],
   "source": [
    "housing_cat_enc.shape"
   ]
  },
  {
   "cell_type": "code",
   "execution_count": 207,
   "metadata": {
    "collapsed": true
   },
   "outputs": [],
   "source": [
    "housing_cat_enc_reshapd = housing_cat_enc.reshape(-1,1)"
   ]
  },
  {
   "cell_type": "code",
   "execution_count": 209,
   "metadata": {
    "collapsed": true
   },
   "outputs": [],
   "source": [
    "from sklearn.preprocessing import OneHotEncoder\n"
   ]
  },
  {
   "cell_type": "code",
   "execution_count": 210,
   "metadata": {
    "collapsed": true
   },
   "outputs": [],
   "source": [
    "enc= OneHotEncoder()"
   ]
  },
  {
   "cell_type": "code",
   "execution_count": 212,
   "metadata": {
    "collapsed": true
   },
   "outputs": [],
   "source": [
    "house_cat_1hot=enc.fit_transform(housing_cat_enc_reshapd)"
   ]
  },
  {
   "cell_type": "code",
   "execution_count": 213,
   "metadata": {},
   "outputs": [
    {
     "data": {
      "text/plain": [
       "<16512x5 sparse matrix of type '<class 'numpy.float64'>'\n",
       "\twith 16512 stored elements in Compressed Sparse Row format>"
      ]
     },
     "execution_count": 213,
     "metadata": {},
     "output_type": "execute_result"
    }
   ],
   "source": [
    "house_cat_1hot"
   ]
  },
  {
   "cell_type": "code",
   "execution_count": 215,
   "metadata": {},
   "outputs": [
    {
     "data": {
      "text/plain": [
       "array([[ 1.,  0.,  0.,  0.,  0.],\n",
       "       [ 1.,  0.,  0.,  0.,  0.],\n",
       "       [ 0.,  1.,  0.,  0.,  0.],\n",
       "       ..., \n",
       "       [ 0.,  0.,  1.,  0.,  0.],\n",
       "       [ 1.,  0.,  0.,  0.,  0.],\n",
       "       [ 0.,  0.,  0.,  1.,  0.]])"
      ]
     },
     "execution_count": 215,
     "metadata": {},
     "output_type": "execute_result"
    }
   ],
   "source": [
    "house_cat_1hot.toarray()"
   ]
  },
  {
   "cell_type": "code",
   "execution_count": 217,
   "metadata": {},
   "outputs": [
    {
     "data": {
      "text/plain": [
       "(16512, 5)"
      ]
     },
     "execution_count": 217,
     "metadata": {},
     "output_type": "execute_result"
    }
   ],
   "source": [
    "house_cat_1hot.shape"
   ]
  },
  {
   "cell_type": "code",
   "execution_count": null,
   "metadata": {
    "collapsed": true
   },
   "outputs": [],
   "source": [
    "#one pipeline for num attributes  and another for categorical"
   ]
  },
  {
   "cell_type": "code",
   "execution_count": 223,
   "metadata": {},
   "outputs": [
    {
     "data": {
      "text/html": [
       "<div>\n",
       "<style>\n",
       "    .dataframe thead tr:only-child th {\n",
       "        text-align: right;\n",
       "    }\n",
       "\n",
       "    .dataframe thead th {\n",
       "        text-align: left;\n",
       "    }\n",
       "\n",
       "    .dataframe tbody tr th {\n",
       "        vertical-align: top;\n",
       "    }\n",
       "</style>\n",
       "<table border=\"1\" class=\"dataframe\">\n",
       "  <thead>\n",
       "    <tr style=\"text-align: right;\">\n",
       "      <th></th>\n",
       "      <th>longitude</th>\n",
       "      <th>latitude</th>\n",
       "      <th>housing_median_age</th>\n",
       "      <th>total_rooms</th>\n",
       "      <th>total_bedrooms</th>\n",
       "      <th>population</th>\n",
       "      <th>households</th>\n",
       "      <th>median_income</th>\n",
       "      <th>bedrooms_per_household</th>\n",
       "      <th>people_per_household</th>\n",
       "      <th>rooms_per_household</th>\n",
       "    </tr>\n",
       "  </thead>\n",
       "  <tbody>\n",
       "    <tr>\n",
       "      <th>0</th>\n",
       "      <td>-121.89</td>\n",
       "      <td>37.29</td>\n",
       "      <td>38.0</td>\n",
       "      <td>1568.0</td>\n",
       "      <td>351.0</td>\n",
       "      <td>710.0</td>\n",
       "      <td>339.0</td>\n",
       "      <td>2.7042</td>\n",
       "      <td>0.223852</td>\n",
       "      <td>2.094395</td>\n",
       "      <td>4.625369</td>\n",
       "    </tr>\n",
       "    <tr>\n",
       "      <th>1</th>\n",
       "      <td>-121.93</td>\n",
       "      <td>37.05</td>\n",
       "      <td>14.0</td>\n",
       "      <td>679.0</td>\n",
       "      <td>108.0</td>\n",
       "      <td>306.0</td>\n",
       "      <td>113.0</td>\n",
       "      <td>6.4214</td>\n",
       "      <td>0.159057</td>\n",
       "      <td>2.707965</td>\n",
       "      <td>6.008850</td>\n",
       "    </tr>\n",
       "    <tr>\n",
       "      <th>2</th>\n",
       "      <td>-117.20</td>\n",
       "      <td>32.77</td>\n",
       "      <td>31.0</td>\n",
       "      <td>1952.0</td>\n",
       "      <td>471.0</td>\n",
       "      <td>936.0</td>\n",
       "      <td>462.0</td>\n",
       "      <td>2.8621</td>\n",
       "      <td>0.241291</td>\n",
       "      <td>2.025974</td>\n",
       "      <td>4.225108</td>\n",
       "    </tr>\n",
       "    <tr>\n",
       "      <th>3</th>\n",
       "      <td>-119.61</td>\n",
       "      <td>36.31</td>\n",
       "      <td>25.0</td>\n",
       "      <td>1847.0</td>\n",
       "      <td>371.0</td>\n",
       "      <td>1460.0</td>\n",
       "      <td>353.0</td>\n",
       "      <td>1.8839</td>\n",
       "      <td>0.200866</td>\n",
       "      <td>4.135977</td>\n",
       "      <td>5.232295</td>\n",
       "    </tr>\n",
       "    <tr>\n",
       "      <th>4</th>\n",
       "      <td>-118.59</td>\n",
       "      <td>34.23</td>\n",
       "      <td>17.0</td>\n",
       "      <td>6592.0</td>\n",
       "      <td>1525.0</td>\n",
       "      <td>4459.0</td>\n",
       "      <td>1463.0</td>\n",
       "      <td>3.0347</td>\n",
       "      <td>0.231341</td>\n",
       "      <td>3.047847</td>\n",
       "      <td>4.505810</td>\n",
       "    </tr>\n",
       "  </tbody>\n",
       "</table>\n",
       "</div>"
      ],
      "text/plain": [
       "   longitude  latitude  housing_median_age  total_rooms  total_bedrooms  \\\n",
       "0    -121.89     37.29                38.0       1568.0           351.0   \n",
       "1    -121.93     37.05                14.0        679.0           108.0   \n",
       "2    -117.20     32.77                31.0       1952.0           471.0   \n",
       "3    -119.61     36.31                25.0       1847.0           371.0   \n",
       "4    -118.59     34.23                17.0       6592.0          1525.0   \n",
       "\n",
       "   population  households  median_income  bedrooms_per_household  \\\n",
       "0       710.0       339.0         2.7042                0.223852   \n",
       "1       306.0       113.0         6.4214                0.159057   \n",
       "2       936.0       462.0         2.8621                0.241291   \n",
       "3      1460.0       353.0         1.8839                0.200866   \n",
       "4      4459.0      1463.0         3.0347                0.231341   \n",
       "\n",
       "   people_per_household  rooms_per_household  \n",
       "0              2.094395             4.625369  \n",
       "1              2.707965             6.008850  \n",
       "2              2.025974             4.225108  \n",
       "3              4.135977             5.232295  \n",
       "4              3.047847             4.505810  "
      ]
     },
     "execution_count": 223,
     "metadata": {},
     "output_type": "execute_result"
    }
   ],
   "source": [
    "#trainimg _feature_data_numeric\n",
    "housing_tr_num.head()"
   ]
  },
  {
   "cell_type": "code",
   "execution_count": null,
   "metadata": {
    "collapsed": true
   },
   "outputs": [],
   "source": [
    "##pipelines cant avoid them"
   ]
  },
  {
   "cell_type": "code",
   "execution_count": null,
   "metadata": {
    "collapsed": true
   },
   "outputs": [],
   "source": [
    "##Let's create a custom transformer to add extra attributes:"
   ]
  },
  {
   "cell_type": "code",
   "execution_count": 39,
   "metadata": {
    "collapsed": true
   },
   "outputs": [],
   "source": [
    "from sklearn.base import BaseEstimator, TransformerMixin"
   ]
  },
  {
   "cell_type": "code",
   "execution_count": 108,
   "metadata": {
    "collapsed": true
   },
   "outputs": [],
   "source": [
    "#column indexs = \n",
    "\n",
    "#room_ix, bedroom_ix, populatn_ix, househld_ix = 3,4,5,6 "
   ]
  },
  {
   "cell_type": "code",
   "execution_count": 226,
   "metadata": {},
   "outputs": [
    {
     "ename": "SyntaxError",
     "evalue": "unexpected EOF while parsing (<ipython-input-226-8cafa58fd09c>, line 1)",
     "output_type": "error",
     "traceback": [
      "\u001b[1;36m  File \u001b[1;32m\"<ipython-input-226-8cafa58fd09c>\"\u001b[1;36m, line \u001b[1;32m1\u001b[0m\n\u001b[1;33m    class CombinedAttributedAdder(BaseEstimator, TransformerMixin):\u001b[0m\n\u001b[1;37m                                                                   ^\u001b[0m\n\u001b[1;31mSyntaxError\u001b[0m\u001b[1;31m:\u001b[0m unexpected EOF while parsing\n"
     ]
    }
   ],
   "source": [
    "#inside a class we have methods.\n",
    "#init is a special method in a python class\n",
    "#__init__ is called when ever an object of the class is constructed, this method initializes the attribnutes of the class\n",
    "#self is used to access the attributes and methods of the class\n",
    "\n"
   ]
  },
  {
   "cell_type": "code",
   "execution_count": 251,
   "metadata": {
    "collapsed": true
   },
   "outputs": [],
   "source": [
    "class Cars(object):\n",
    "    \n",
    "    def __init__(self, color, company, speed):\n",
    "        self.color = color\n",
    "        self.company = company\n",
    "        self.speed  = speed\n",
    "        \n",
    "    def start(self):\n",
    "        print('Started the car ' + str(self.speed) +\" wow!!\")\n",
    "        \n",
    "    \n",
    "        \n",
    "        \n",
    "        "
   ]
  },
  {
   "cell_type": "code",
   "execution_count": 252,
   "metadata": {
    "collapsed": true
   },
   "outputs": [],
   "source": [
    "Maruti= Cars('red', 'ertiga', 90)"
   ]
  },
  {
   "cell_type": "code",
   "execution_count": 253,
   "metadata": {},
   "outputs": [
    {
     "name": "stdout",
     "output_type": "stream",
     "text": [
      "Started the car 90 wow!!\n"
     ]
    }
   ],
   "source": [
    "Maruti.start()"
   ]
  },
  {
   "cell_type": "code",
   "execution_count": 73,
   "metadata": {},
   "outputs": [
    {
     "data": {
      "text/html": [
       "<div>\n",
       "<style>\n",
       "    .dataframe thead tr:only-child th {\n",
       "        text-align: right;\n",
       "    }\n",
       "\n",
       "    .dataframe thead th {\n",
       "        text-align: left;\n",
       "    }\n",
       "\n",
       "    .dataframe tbody tr th {\n",
       "        vertical-align: top;\n",
       "    }\n",
       "</style>\n",
       "<table border=\"1\" class=\"dataframe\">\n",
       "  <thead>\n",
       "    <tr style=\"text-align: right;\">\n",
       "      <th></th>\n",
       "      <th>longitude</th>\n",
       "      <th>latitude</th>\n",
       "      <th>housing_median_age</th>\n",
       "      <th>total_rooms</th>\n",
       "      <th>total_bedrooms</th>\n",
       "      <th>population</th>\n",
       "      <th>households</th>\n",
       "      <th>median_income</th>\n",
       "      <th>income_cat</th>\n",
       "      <th>Ocean_prox_enc</th>\n",
       "    </tr>\n",
       "  </thead>\n",
       "  <tbody>\n",
       "    <tr>\n",
       "      <th>0</th>\n",
       "      <td>-122.23</td>\n",
       "      <td>37.88</td>\n",
       "      <td>41.0</td>\n",
       "      <td>880.0</td>\n",
       "      <td>129.0</td>\n",
       "      <td>322.0</td>\n",
       "      <td>126.0</td>\n",
       "      <td>5.0000</td>\n",
       "      <td>4.0</td>\n",
       "      <td>0.0</td>\n",
       "    </tr>\n",
       "    <tr>\n",
       "      <th>1</th>\n",
       "      <td>-122.22</td>\n",
       "      <td>37.86</td>\n",
       "      <td>21.0</td>\n",
       "      <td>7099.0</td>\n",
       "      <td>1106.0</td>\n",
       "      <td>2401.0</td>\n",
       "      <td>1138.0</td>\n",
       "      <td>5.0000</td>\n",
       "      <td>4.0</td>\n",
       "      <td>1.0</td>\n",
       "    </tr>\n",
       "    <tr>\n",
       "      <th>2</th>\n",
       "      <td>-122.24</td>\n",
       "      <td>37.85</td>\n",
       "      <td>52.0</td>\n",
       "      <td>1467.0</td>\n",
       "      <td>190.0</td>\n",
       "      <td>496.0</td>\n",
       "      <td>177.0</td>\n",
       "      <td>5.0000</td>\n",
       "      <td>4.0</td>\n",
       "      <td>0.0</td>\n",
       "    </tr>\n",
       "    <tr>\n",
       "      <th>3</th>\n",
       "      <td>-122.25</td>\n",
       "      <td>37.85</td>\n",
       "      <td>52.0</td>\n",
       "      <td>1274.0</td>\n",
       "      <td>235.0</td>\n",
       "      <td>558.0</td>\n",
       "      <td>219.0</td>\n",
       "      <td>5.0000</td>\n",
       "      <td>4.0</td>\n",
       "      <td>2.0</td>\n",
       "    </tr>\n",
       "    <tr>\n",
       "      <th>4</th>\n",
       "      <td>-122.25</td>\n",
       "      <td>37.85</td>\n",
       "      <td>52.0</td>\n",
       "      <td>1627.0</td>\n",
       "      <td>280.0</td>\n",
       "      <td>565.0</td>\n",
       "      <td>259.0</td>\n",
       "      <td>3.8462</td>\n",
       "      <td>3.0</td>\n",
       "      <td>0.0</td>\n",
       "    </tr>\n",
       "  </tbody>\n",
       "</table>\n",
       "</div>"
      ],
      "text/plain": [
       "   longitude  latitude  housing_median_age  total_rooms  total_bedrooms  \\\n",
       "0    -122.23     37.88                41.0        880.0           129.0   \n",
       "1    -122.22     37.86                21.0       7099.0          1106.0   \n",
       "2    -122.24     37.85                52.0       1467.0           190.0   \n",
       "3    -122.25     37.85                52.0       1274.0           235.0   \n",
       "4    -122.25     37.85                52.0       1627.0           280.0   \n",
       "\n",
       "   population  households  median_income  income_cat  Ocean_prox_enc  \n",
       "0       322.0       126.0         5.0000         4.0             0.0  \n",
       "1      2401.0      1138.0         5.0000         4.0             1.0  \n",
       "2       496.0       177.0         5.0000         4.0             0.0  \n",
       "3       558.0       219.0         5.0000         4.0             2.0  \n",
       "4       565.0       259.0         3.8462         3.0             0.0  "
      ]
     },
     "execution_count": 73,
     "metadata": {},
     "output_type": "execute_result"
    }
   ],
   "source": [
    "##coming back to ML\n",
    "\n",
    "#fit method in sklearn does the estimations. \n",
    "#it takes two paramters -  X - the data set  excluding labels, y - labels\n",
    "\n",
    "#transform method - transforms the data set\n",
    "#it takes two paramters -  X - the data set  excluding labels, y - labels\n",
    "\n",
    "#column indexs = \n",
    "\n",
    "\n",
    "\n",
    "house_train.head()\n"
   ]
  },
  {
   "cell_type": "code",
   "execution_count": 40,
   "metadata": {},
   "outputs": [],
   "source": [
    "r_ix, b_ix, p_ix, h_ix = 3,4,5,6 \n",
    "class CAA(BaseEstimator, TransformerMixin):\n",
    "    \n",
    "    def __init__(self, flag = True):\n",
    "        self.flag = flag\n",
    "        \n",
    "    def fit(self, X, y = None):\n",
    "        return self\n",
    "    \n",
    "    def transform(self , X, y = None):\n",
    "        if self.flag :\n",
    "        \n",
    "            rooms_per_household = X[:,r_ix]/X[:,h_ix]\n",
    "            populatn_per_household  = X[:, p_ix]/X[:, h_ix]\n",
    "            bedrooms_per_room = X[:, b_ix] / X[:, r_ix]\n",
    "        \n",
    "            return np.c_[X,rooms_per_household,populatn_per_household,  bedrooms_per_room]"
   ]
  },
  {
   "cell_type": "code",
   "execution_count": null,
   "metadata": {
    "collapsed": true
   },
   "outputs": [],
   "source": []
  },
  {
   "cell_type": "code",
   "execution_count": 97,
   "metadata": {},
   "outputs": [
    {
     "data": {
      "text/html": [
       "<div>\n",
       "<style>\n",
       "    .dataframe thead tr:only-child th {\n",
       "        text-align: right;\n",
       "    }\n",
       "\n",
       "    .dataframe thead th {\n",
       "        text-align: left;\n",
       "    }\n",
       "\n",
       "    .dataframe tbody tr th {\n",
       "        vertical-align: top;\n",
       "    }\n",
       "</style>\n",
       "<table border=\"1\" class=\"dataframe\">\n",
       "  <thead>\n",
       "    <tr style=\"text-align: right;\">\n",
       "      <th></th>\n",
       "      <th>longitude</th>\n",
       "      <th>latitude</th>\n",
       "      <th>housing_median_age</th>\n",
       "      <th>total_rooms</th>\n",
       "      <th>total_bedrooms</th>\n",
       "      <th>population</th>\n",
       "      <th>households</th>\n",
       "      <th>median_income</th>\n",
       "      <th>median_house_value</th>\n",
       "      <th>ocean_proximity</th>\n",
       "    </tr>\n",
       "  </thead>\n",
       "  <tbody>\n",
       "    <tr>\n",
       "      <th>4861</th>\n",
       "      <td>-118.28</td>\n",
       "      <td>34.02</td>\n",
       "      <td>29.0</td>\n",
       "      <td>515.0</td>\n",
       "      <td>229.0</td>\n",
       "      <td>2690.0</td>\n",
       "      <td>217.0</td>\n",
       "      <td>0.4999</td>\n",
       "      <td>500001.0</td>\n",
       "      <td>&lt;1H OCEAN</td>\n",
       "    </tr>\n",
       "    <tr>\n",
       "      <th>14408</th>\n",
       "      <td>-117.25</td>\n",
       "      <td>32.76</td>\n",
       "      <td>38.0</td>\n",
       "      <td>2331.0</td>\n",
       "      <td>493.0</td>\n",
       "      <td>836.0</td>\n",
       "      <td>433.0</td>\n",
       "      <td>4.9125</td>\n",
       "      <td>452600.0</td>\n",
       "      <td>NEAR OCEAN</td>\n",
       "    </tr>\n",
       "    <tr>\n",
       "      <th>4760</th>\n",
       "      <td>-118.35</td>\n",
       "      <td>34.04</td>\n",
       "      <td>36.0</td>\n",
       "      <td>1956.0</td>\n",
       "      <td>601.0</td>\n",
       "      <td>1672.0</td>\n",
       "      <td>546.0</td>\n",
       "      <td>1.8685</td>\n",
       "      <td>150700.0</td>\n",
       "      <td>&lt;1H OCEAN</td>\n",
       "    </tr>\n",
       "    <tr>\n",
       "      <th>13897</th>\n",
       "      <td>-116.29</td>\n",
       "      <td>34.18</td>\n",
       "      <td>15.0</td>\n",
       "      <td>4203.0</td>\n",
       "      <td>966.0</td>\n",
       "      <td>1756.0</td>\n",
       "      <td>695.0</td>\n",
       "      <td>2.1820</td>\n",
       "      <td>60800.0</td>\n",
       "      <td>INLAND</td>\n",
       "    </tr>\n",
       "    <tr>\n",
       "      <th>10846</th>\n",
       "      <td>-117.90</td>\n",
       "      <td>33.67</td>\n",
       "      <td>25.0</td>\n",
       "      <td>639.0</td>\n",
       "      <td>98.0</td>\n",
       "      <td>311.0</td>\n",
       "      <td>93.0</td>\n",
       "      <td>5.0000</td>\n",
       "      <td>275900.0</td>\n",
       "      <td>&lt;1H OCEAN</td>\n",
       "    </tr>\n",
       "  </tbody>\n",
       "</table>\n",
       "</div>"
      ],
      "text/plain": [
       "       longitude  latitude  housing_median_age  total_rooms  total_bedrooms  \\\n",
       "4861     -118.28     34.02                29.0        515.0           229.0   \n",
       "14408    -117.25     32.76                38.0       2331.0           493.0   \n",
       "4760     -118.35     34.04                36.0       1956.0           601.0   \n",
       "13897    -116.29     34.18                15.0       4203.0           966.0   \n",
       "10846    -117.90     33.67                25.0        639.0            98.0   \n",
       "\n",
       "       population  households  median_income  median_house_value  \\\n",
       "4861       2690.0       217.0         0.4999            500001.0   \n",
       "14408       836.0       433.0         4.9125            452600.0   \n",
       "4760       1672.0       546.0         1.8685            150700.0   \n",
       "13897      1756.0       695.0         2.1820             60800.0   \n",
       "10846       311.0        93.0         5.0000            275900.0   \n",
       "\n",
       "      ocean_proximity  \n",
       "4861        <1H OCEAN  \n",
       "14408      NEAR OCEAN  \n",
       "4760        <1H OCEAN  \n",
       "13897          INLAND  \n",
       "10846       <1H OCEAN  "
      ]
     },
     "execution_count": 97,
     "metadata": {},
     "output_type": "execute_result"
    }
   ],
   "source": [
    "#room_ix\n",
    "\n",
    "#strata_train_set.head()"
   ]
  },
  {
   "cell_type": "code",
   "execution_count": 41,
   "metadata": {
    "collapsed": true
   },
   "outputs": [],
   "source": [
    "#Defining a dataframe selector class, so we can just pass attributes and the class will selct the data for us\n",
    "#also pipelines cannot handle dataframes directly, we need to pass numpy arrays\n",
    "#below fucnction returns a numpy array of values\n",
    "from sklearn.base import BaseEstimator, TransformerMixin\n",
    "\n",
    "class DataFrameSelector(BaseEstimator, TransformerMixin):\n",
    "    \n",
    "    def __init__(self, attributes):\n",
    "        self.attributes = attributes\n",
    "        \n",
    "    def fit(self, X, y= None):\n",
    "        return self\n",
    "    \n",
    "    def transform(self, X, y= None):\n",
    "        return X[self.attributes].values"
   ]
  },
  {
   "cell_type": "code",
   "execution_count": 58,
   "metadata": {
    "collapsed": true
   },
   "outputs": [],
   "source": [
    "#housing_num = strata_train_set.drop(['ocean_proximity'], axis = 1)"
   ]
  },
  {
   "cell_type": "code",
   "execution_count": 43,
   "metadata": {},
   "outputs": [
    {
     "data": {
      "text/plain": [
       "['longitude',\n",
       " 'latitude',\n",
       " 'housing_median_age',\n",
       " 'total_rooms',\n",
       " 'total_bedrooms',\n",
       " 'population',\n",
       " 'households',\n",
       " 'median_income']"
      ]
     },
     "execution_count": 43,
     "metadata": {},
     "output_type": "execute_result"
    }
   ],
   "source": [
    "#strata_train_set_f_1.drop(['income_cat'], axis =1, inplace=True)\n",
    "num_attrbs= list(strata_train_set_f_1)\n",
    "\n",
    "num_attrbs"
   ]
  },
  {
   "cell_type": "code",
   "execution_count": 44,
   "metadata": {
    "collapsed": true
   },
   "outputs": [],
   "source": [
    "cat_attrbs= ['Ocean_prox_enc']"
   ]
  },
  {
   "cell_type": "code",
   "execution_count": 45,
   "metadata": {},
   "outputs": [
    {
     "data": {
      "text/plain": [
       "['Ocean_prox_enc']"
      ]
     },
     "execution_count": 45,
     "metadata": {},
     "output_type": "execute_result"
    }
   ],
   "source": [
    "cat_attrbs"
   ]
  },
  {
   "cell_type": "code",
   "execution_count": 46,
   "metadata": {
    "collapsed": true
   },
   "outputs": [],
   "source": [
    "from sklearn.preprocessing import StandardScaler\n",
    "from sklearn.preprocessing import Imputer"
   ]
  },
  {
   "cell_type": "code",
   "execution_count": 47,
   "metadata": {
    "collapsed": true
   },
   "outputs": [],
   "source": [
    "from sklearn.pipeline import Pipeline"
   ]
  },
  {
   "cell_type": "code",
   "execution_count": 48,
   "metadata": {
    "collapsed": true
   },
   "outputs": [],
   "source": [
    "#num pipeline\n",
    "num_pipeline= Pipeline([('data_select', DataFrameSelector(num_attrbs)),('m_imputer', Imputer(strategy = \"median\")), \n",
    "          ('attribte_adder', CAA()), ('std_scalar', StandardScaler())])"
   ]
  },
  {
   "cell_type": "code",
   "execution_count": 49,
   "metadata": {
    "collapsed": true
   },
   "outputs": [],
   "source": [
    "#cat pipeline\n",
    "from sklearn.preprocessing import OneHotEncoder\n",
    "\n",
    "cat_pipeline = Pipeline([(\"data_select\", DataFrameSelector(cat_attrbs)),('one_hot', OneHotEncoder())])"
   ]
  },
  {
   "cell_type": "code",
   "execution_count": 50,
   "metadata": {
    "collapsed": true
   },
   "outputs": [],
   "source": [
    "#full pipeline\n",
    "#from future_encoders import ColumnTransformer\n",
    "#from sklearn.compose  import ColumnTransformer\n",
    "#conda update scikit-learn\n",
    "#full_pipeline = FeatureUnion(transformer_list = [(\"num_pipe\", num_pipeline), ('cat_pipe', cat_pipeline)])\n",
    "\n",
    "from sklearn.pipeline import FeatureUnion\n",
    "\n",
    "full_pipeline = FeatureUnion(transformer_list= [(\"num_pipe\", num_pipeline), (\"cat_pipe\", cat_pipeline)])"
   ]
  },
  {
   "cell_type": "code",
   "execution_count": 51,
   "metadata": {},
   "outputs": [
    {
     "data": {
      "text/plain": [
       "Int64Index([ 4861, 14408,  4760, 13897, 10846, 16997, 15056,  8935, 18806,\n",
       "             6987,\n",
       "            ...\n",
       "             1718, 10384, 17129,  6559, 14222,  4748, 19249, 14585, 18596,\n",
       "              599],\n",
       "           dtype='int64', length=16512)"
      ]
     },
     "execution_count": 51,
     "metadata": {},
     "output_type": "execute_result"
    }
   ],
   "source": [
    "#full_pipeline.fit_transform(strata_test_set)\n",
    "strata_train_set_lab.index --labels\n",
    "#house_train.head()"
   ]
  },
  {
   "cell_type": "code",
   "execution_count": 192,
   "metadata": {
    "collapsed": true
   },
   "outputs": [],
   "source": [
    "#features\n",
    "\n",
    "\n",
    "\n",
    "house_train_prepd= full_pipeline.fit_transform(house_train)"
   ]
  },
  {
   "cell_type": "code",
   "execution_count": 193,
   "metadata": {},
   "outputs": [
    {
     "name": "stdout",
     "output_type": "stream",
     "text": [
      "<class 'pandas.core.frame.DataFrame'>\n",
      "Int64Index: 16512 entries, 4861 to 599\n",
      "Data columns (total 9 columns):\n",
      "longitude             16512 non-null float64\n",
      "latitude              16512 non-null float64\n",
      "housing_median_age    16512 non-null float64\n",
      "total_rooms           16512 non-null float64\n",
      "total_bedrooms        16346 non-null float64\n",
      "population            16512 non-null float64\n",
      "households            16512 non-null float64\n",
      "median_income         16512 non-null float64\n",
      "Ocean_prox_enc        16512 non-null int64\n",
      "dtypes: float64(8), int64(1)\n",
      "memory usage: 1.9 MB\n"
     ]
    }
   ],
   "source": [
    "house_train.info()"
   ]
  },
  {
   "cell_type": "code",
   "execution_count": null,
   "metadata": {
    "collapsed": true
   },
   "outputs": [],
   "source": []
  },
  {
   "cell_type": "code",
   "execution_count": null,
   "metadata": {
    "collapsed": true
   },
   "outputs": [],
   "source": []
  },
  {
   "cell_type": "code",
   "execution_count": null,
   "metadata": {
    "collapsed": true
   },
   "outputs": [],
   "source": []
  },
  {
   "cell_type": "code",
   "execution_count": null,
   "metadata": {
    "collapsed": true
   },
   "outputs": [],
   "source": []
  },
  {
   "cell_type": "code",
   "execution_count": null,
   "metadata": {
    "collapsed": true
   },
   "outputs": [],
   "source": []
  },
  {
   "cell_type": "code",
   "execution_count": 53,
   "metadata": {},
   "outputs": [
    {
     "data": {
      "text/plain": [
       "(16512, 16)"
      ]
     },
     "execution_count": 53,
     "metadata": {},
     "output_type": "execute_result"
    }
   ],
   "source": [
    "house_train_prepd.shape\n"
   ]
  },
  {
   "cell_type": "code",
   "execution_count": 54,
   "metadata": {
    "collapsed": true
   },
   "outputs": [],
   "source": [
    "from sklearn.linear_model import LinearRegression"
   ]
  },
  {
   "cell_type": "code",
   "execution_count": 55,
   "metadata": {
    "collapsed": true
   },
   "outputs": [],
   "source": [
    "Lin_model= LinearRegression()"
   ]
  },
  {
   "cell_type": "code",
   "execution_count": 56,
   "metadata": {},
   "outputs": [
    {
     "data": {
      "text/plain": [
       "LinearRegression(copy_X=True, fit_intercept=True, n_jobs=1, normalize=False)"
      ]
     },
     "execution_count": 56,
     "metadata": {},
     "output_type": "execute_result"
    }
   ],
   "source": [
    "Lin_model.fit(house_train_prepd, strata_train_set_lab)"
   ]
  },
  {
   "cell_type": "code",
   "execution_count": 57,
   "metadata": {},
   "outputs": [
    {
     "name": "stdout",
     "output_type": "stream",
     "text": [
      "Predictions: [   9129.19864743  330294.30324337  150012.01265571   54249.25039886\n",
      "  287997.76769253]\n"
     ]
    }
   ],
   "source": [
    "some_data = house_train.iloc[:5,]\n",
    "some_labels = strata_train_set_lab.iloc[:5,]\n",
    "some_data_prepared = full_pipeline.transform(some_data)\n",
    "\n",
    "print(\"Predictions:\", Lin_model.predict(some_data_prepared))"
   ]
  },
  {
   "cell_type": "code",
   "execution_count": 59,
   "metadata": {},
   "outputs": [
    {
     "name": "stdout",
     "output_type": "stream",
     "text": [
      "Labels: [500001.0, 452600.0, 150700.0, 60800.0, 275900.0]\n"
     ]
    }
   ],
   "source": [
    "print(\"Labels:\", list(some_labels))"
   ]
  },
  {
   "cell_type": "code",
   "execution_count": null,
   "metadata": {
    "collapsed": true
   },
   "outputs": [],
   "source": [
    "##some of it is off! \n",
    "\n",
    "lets see the RMSE of the model, on the whole training set\n"
   ]
  },
  {
   "cell_type": "code",
   "execution_count": 60,
   "metadata": {
    "collapsed": true
   },
   "outputs": [],
   "source": [
    "from sklearn.metrics import mean_squared_error\n",
    "\n",
    "model_predicts_price = Lin_model.predict(house_train_prepd)\n",
    "\n",
    "lin_mse = mean_squared_error(strata_train_set_lab, model_predicts_price)"
   ]
  },
  {
   "cell_type": "code",
   "execution_count": 61,
   "metadata": {
    "collapsed": true
   },
   "outputs": [],
   "source": [
    "lin_rmse = np.sqrt(lin_mse)"
   ]
  },
  {
   "cell_type": "code",
   "execution_count": 63,
   "metadata": {},
   "outputs": [
    {
     "data": {
      "text/plain": [
       "77031.259761314126"
      ]
     },
     "execution_count": 63,
     "metadata": {},
     "output_type": "execute_result"
    }
   ],
   "source": [
    "lin_rmse    error of $ 77000 on average"
   ]
  },
  {
   "cell_type": "code",
   "execution_count": 64,
   "metadata": {},
   "outputs": [
    {
     "data": {
      "text/plain": [
       "(16512, 9)"
      ]
     },
     "execution_count": 64,
     "metadata": {},
     "output_type": "execute_result"
    }
   ],
   "source": [
    "#house_train.drop(['income_cat'], axis =1, inplace=True)\n",
    "\n",
    "house_train.shape"
   ]
  },
  {
   "cell_type": "code",
   "execution_count": null,
   "metadata": {
    "collapsed": true
   },
   "outputs": [],
   "source": []
  },
  {
   "cell_type": "code",
   "execution_count": null,
   "metadata": {
    "collapsed": true
   },
   "outputs": [],
   "source": [
    "#decison tree regressor"
   ]
  },
  {
   "cell_type": "code",
   "execution_count": 66,
   "metadata": {
    "collapsed": true
   },
   "outputs": [],
   "source": [
    "from sklearn.tree import DecisionTreeRegressor"
   ]
  },
  {
   "cell_type": "code",
   "execution_count": 67,
   "metadata": {
    "collapsed": true
   },
   "outputs": [],
   "source": [
    "tree_model=DecisionTreeRegressor()"
   ]
  },
  {
   "cell_type": "code",
   "execution_count": 68,
   "metadata": {},
   "outputs": [
    {
     "data": {
      "text/plain": [
       "DecisionTreeRegressor(criterion='mse', max_depth=None, max_features=None,\n",
       "           max_leaf_nodes=None, min_impurity_decrease=0.0,\n",
       "           min_impurity_split=None, min_samples_leaf=1,\n",
       "           min_samples_split=2, min_weight_fraction_leaf=0.0,\n",
       "           presort=False, random_state=None, splitter='best')"
      ]
     },
     "execution_count": 68,
     "metadata": {},
     "output_type": "execute_result"
    }
   ],
   "source": [
    "tree_model.fit(house_train_prepd,strata_train_set_lab)"
   ]
  },
  {
   "cell_type": "code",
   "execution_count": 69,
   "metadata": {
    "collapsed": true
   },
   "outputs": [],
   "source": [
    "tree_predict= tree_model.predict(house_train_prepd)"
   ]
  },
  {
   "cell_type": "code",
   "execution_count": 70,
   "metadata": {
    "collapsed": true
   },
   "outputs": [],
   "source": [
    "mse_tree= mean_squared_error(strata_train_set_lab,tree_predict )"
   ]
  },
  {
   "cell_type": "code",
   "execution_count": 71,
   "metadata": {
    "collapsed": true
   },
   "outputs": [],
   "source": [
    "rmse_tree = np.sqrt(mse_tree)"
   ]
  },
  {
   "cell_type": "code",
   "execution_count": 72,
   "metadata": {},
   "outputs": [
    {
     "data": {
      "text/plain": [
       "0.0"
      ]
     },
     "execution_count": 72,
     "metadata": {},
     "output_type": "execute_result"
    }
   ],
   "source": [
    "rmse_tree"
   ]
  },
  {
   "cell_type": "code",
   "execution_count": 73,
   "metadata": {
    "collapsed": true
   },
   "outputs": [],
   "source": [
    "from sklearn.model_selection import cross_val_score"
   ]
  },
  {
   "cell_type": "code",
   "execution_count": 74,
   "metadata": {
    "collapsed": true
   },
   "outputs": [],
   "source": [
    "scores= cross_val_score(tree_model, house_train_prepd, strata_train_set_lab, cv=10, scoring='neg_mean_squared_error')"
   ]
  },
  {
   "cell_type": "code",
   "execution_count": 80,
   "metadata": {},
   "outputs": [
    {
     "data": {
      "text/plain": [
       "array([ -5.36459582e+09,  -4.52159403e+09,  -5.33140766e+09,\n",
       "        -5.58900101e+09,  -5.82625873e+09,  -5.94205202e+09,\n",
       "        -5.31395639e+09,  -5.43382500e+09,  -5.46966876e+09,\n",
       "        -5.25637308e+09])"
      ]
     },
     "execution_count": 80,
     "metadata": {},
     "output_type": "execute_result"
    }
   ],
   "source": [
    "scores"
   ]
  },
  {
   "cell_type": "code",
   "execution_count": 81,
   "metadata": {
    "collapsed": true
   },
   "outputs": [],
   "source": [
    "rmse_scores=np.sqrt(-scores)"
   ]
  },
  {
   "cell_type": "code",
   "execution_count": 82,
   "metadata": {},
   "outputs": [
    {
     "data": {
      "text/plain": [
       "array([ 73243.40119963,  67242.79911346,  73016.48892573,  74759.62148788,\n",
       "        76329.93334981,  77084.70678678,  72896.88876216,  73714.4829669 ,\n",
       "        73957.20900021,  72500.84880421])"
      ]
     },
     "execution_count": 82,
     "metadata": {},
     "output_type": "execute_result"
    }
   ],
   "source": [
    "rmse_scores"
   ]
  },
  {
   "cell_type": "code",
   "execution_count": null,
   "metadata": {
    "collapsed": true
   },
   "outputs": [],
   "source": []
  },
  {
   "cell_type": "code",
   "execution_count": null,
   "metadata": {
    "collapsed": true
   },
   "outputs": [],
   "source": []
  },
  {
   "cell_type": "code",
   "execution_count": null,
   "metadata": {
    "collapsed": true
   },
   "outputs": [],
   "source": []
  },
  {
   "cell_type": "code",
   "execution_count": 83,
   "metadata": {},
   "outputs": [
    {
     "data": {
      "text/plain": [
       "73474.638039676531"
      ]
     },
     "execution_count": 83,
     "metadata": {},
     "output_type": "execute_result"
    }
   ],
   "source": [
    "rmse_scores.mean()"
   ]
  },
  {
   "cell_type": "code",
   "execution_count": 84,
   "metadata": {},
   "outputs": [
    {
     "data": {
      "text/plain": [
       "2520.0820947353386"
      ]
     },
     "execution_count": 84,
     "metadata": {},
     "output_type": "execute_result"
    }
   ],
   "source": [
    "rmse_scores.std()"
   ]
  },
  {
   "cell_type": "code",
   "execution_count": null,
   "metadata": {
    "collapsed": true
   },
   "outputs": [],
   "source": []
  },
  {
   "cell_type": "code",
   "execution_count": 85,
   "metadata": {
    "collapsed": true
   },
   "outputs": [],
   "source": [
    "l_scores=cross_val_score(Lin_model, house_train_prepd, strata_train_set_lab, cv =10, scoring= \"neg_mean_squared_error\")"
   ]
  },
  {
   "cell_type": "code",
   "execution_count": 86,
   "metadata": {
    "collapsed": true
   },
   "outputs": [],
   "source": [
    "l_rmse_scores=np.sqrt(- l_scores)"
   ]
  },
  {
   "cell_type": "code",
   "execution_count": 87,
   "metadata": {},
   "outputs": [
    {
     "data": {
      "text/plain": [
       "array([ 77625.20113502,  76557.52774269,  79938.27683364,  78350.1459992 ,\n",
       "        76256.91299555,  78112.29910853,  76558.70217107,  76066.7676378 ,\n",
       "        76664.42546491,  76985.683981  ])"
      ]
     },
     "execution_count": 87,
     "metadata": {},
     "output_type": "execute_result"
    }
   ],
   "source": [
    "l_rmse_scores"
   ]
  },
  {
   "cell_type": "code",
   "execution_count": 88,
   "metadata": {},
   "outputs": [
    {
     "data": {
      "text/plain": [
       "77311.594306940591"
      ]
     },
     "execution_count": 88,
     "metadata": {},
     "output_type": "execute_result"
    }
   ],
   "source": [
    "l_rmse_scores.mean()"
   ]
  },
  {
   "cell_type": "code",
   "execution_count": 89,
   "metadata": {},
   "outputs": [
    {
     "data": {
      "text/plain": [
       "1141.9274163660577"
      ]
     },
     "execution_count": 89,
     "metadata": {},
     "output_type": "execute_result"
    }
   ],
   "source": [
    "l_rmse_scores.std()"
   ]
  },
  {
   "cell_type": "code",
   "execution_count": 90,
   "metadata": {
    "collapsed": true
   },
   "outputs": [],
   "source": [
    "from sklearn.ensemble import RandomForestRegressor"
   ]
  },
  {
   "cell_type": "code",
   "execution_count": 91,
   "metadata": {
    "collapsed": true
   },
   "outputs": [],
   "source": [
    "forest_model= RandomForestRegressor()"
   ]
  },
  {
   "cell_type": "code",
   "execution_count": 92,
   "metadata": {
    "collapsed": true
   },
   "outputs": [],
   "source": [
    "f_scores=cross_val_score(forest_model, house_train_prepd, strata_train_set_lab, cv =10, scoring= \"neg_mean_squared_error\")"
   ]
  },
  {
   "cell_type": "code",
   "execution_count": 93,
   "metadata": {
    "collapsed": true
   },
   "outputs": [],
   "source": [
    "f_rmse = np.sqrt(-f_scores)"
   ]
  },
  {
   "cell_type": "code",
   "execution_count": 94,
   "metadata": {},
   "outputs": [
    {
     "data": {
      "text/plain": [
       "array([ 54096.24298761,  52821.99455907,  52823.53665369,  56058.92115511,\n",
       "        53906.37361316,  53180.06480944,  53221.67726837,  53250.24514377,\n",
       "        54371.02941762,  55213.96703489])"
      ]
     },
     "execution_count": 94,
     "metadata": {},
     "output_type": "execute_result"
    }
   ],
   "source": [
    "f_rmse"
   ]
  },
  {
   "cell_type": "code",
   "execution_count": 95,
   "metadata": {},
   "outputs": [
    {
     "data": {
      "text/plain": [
       "53894.405264272355"
      ]
     },
     "execution_count": 95,
     "metadata": {},
     "output_type": "execute_result"
    }
   ],
   "source": [
    "f_rmse.mean()"
   ]
  },
  {
   "cell_type": "code",
   "execution_count": 96,
   "metadata": {},
   "outputs": [
    {
     "data": {
      "text/plain": [
       "1018.2846558863455"
      ]
     },
     "execution_count": 96,
     "metadata": {},
     "output_type": "execute_result"
    }
   ],
   "source": [
    "f_rmse.std()"
   ]
  },
  {
   "cell_type": "code",
   "execution_count": 97,
   "metadata": {},
   "outputs": [
    {
     "data": {
      "text/plain": [
       "RandomForestRegressor(bootstrap=True, criterion='mse', max_depth=None,\n",
       "           max_features='auto', max_leaf_nodes=None,\n",
       "           min_impurity_decrease=0.0, min_impurity_split=None,\n",
       "           min_samples_leaf=1, min_samples_split=2,\n",
       "           min_weight_fraction_leaf=0.0, n_estimators=10, n_jobs=1,\n",
       "           oob_score=False, random_state=None, verbose=0, warm_start=False)"
      ]
     },
     "execution_count": 97,
     "metadata": {},
     "output_type": "execute_result"
    }
   ],
   "source": [
    "forest_model.fit(house_train_prepd, strata_train_set_lab)"
   ]
  },
  {
   "cell_type": "code",
   "execution_count": 99,
   "metadata": {},
   "outputs": [],
   "source": [
    "f_pred= forest_model.predict(house_train_prepd)"
   ]
  },
  {
   "cell_type": "code",
   "execution_count": 100,
   "metadata": {
    "collapsed": true
   },
   "outputs": [],
   "source": [
    "f_mse=mean_squared_error(strata_train_set_lab, f_pred)"
   ]
  },
  {
   "cell_type": "code",
   "execution_count": 101,
   "metadata": {
    "collapsed": true
   },
   "outputs": [],
   "source": [
    "fo_rmse = np.sqrt(f_mse)"
   ]
  },
  {
   "cell_type": "code",
   "execution_count": 102,
   "metadata": {},
   "outputs": [
    {
     "data": {
      "text/plain": [
       "22833.281975250389"
      ]
     },
     "execution_count": 102,
     "metadata": {},
     "output_type": "execute_result"
    }
   ],
   "source": [
    "fo_rmse"
   ]
  },
  {
   "cell_type": "code",
   "execution_count": null,
   "metadata": {
    "collapsed": true
   },
   "outputs": [],
   "source": [
    "#Tuning the model"
   ]
  },
  {
   "cell_type": "code",
   "execution_count": null,
   "metadata": {
    "collapsed": true
   },
   "outputs": [],
   "source": [
    "GridSreachCV"
   ]
  },
  {
   "cell_type": "code",
   "execution_count": 110,
   "metadata": {
    "collapsed": true
   },
   "outputs": [],
   "source": [
    "from sklearn.model_selection import GridSearchCV"
   ]
  },
  {
   "cell_type": "code",
   "execution_count": 112,
   "metadata": {},
   "outputs": [],
   "source": [
    "para_grid = [ {'n_estimators':[3,10,30],  'max_features':[2,4,6,8]},\n",
    "              { 'bootstrap' : [False] , 'n_estimators': [3,10], 'max_features':[2,3,4]}]"
   ]
  },
  {
   "cell_type": "code",
   "execution_count": 107,
   "metadata": {},
   "outputs": [
    {
     "data": {
      "text/plain": [
       "[{'max_features': [2, 4, 6, 8], 'n_estimators': [3, 10, 30]},\n",
       " {'bootstrap': False, 'max_features': [2, 3, 4], 'n_estimators': [3, 10]}]"
      ]
     },
     "execution_count": 107,
     "metadata": {},
     "output_type": "execute_result"
    }
   ],
   "source": [
    "para_grid"
   ]
  },
  {
   "cell_type": "code",
   "execution_count": 108,
   "metadata": {
    "collapsed": true
   },
   "outputs": [],
   "source": [
    "forest_reg= RandomForestRegressor()"
   ]
  },
  {
   "cell_type": "code",
   "execution_count": 113,
   "metadata": {},
   "outputs": [],
   "source": [
    "grid_search= GridSearchCV(forest_reg, para_grid, cv = 5, scoring = 'neg_mean_squared_error')"
   ]
  },
  {
   "cell_type": "code",
   "execution_count": 115,
   "metadata": {},
   "outputs": [
    {
     "data": {
      "text/plain": [
       "GridSearchCV(cv=5, error_score='raise',\n",
       "       estimator=RandomForestRegressor(bootstrap=True, criterion='mse', max_depth=None,\n",
       "           max_features='auto', max_leaf_nodes=None,\n",
       "           min_impurity_decrease=0.0, min_impurity_split=None,\n",
       "           min_samples_leaf=1, min_samples_split=2,\n",
       "           min_weight_fraction_leaf=0.0, n_estimators=10, n_jobs=1,\n",
       "           oob_score=False, random_state=None, verbose=0, warm_start=False),\n",
       "       fit_params=None, iid=True, n_jobs=1,\n",
       "       param_grid=[{'n_estimators': [3, 10, 30], 'max_features': [2, 4, 6, 8]}, {'bootstrap': [False], 'n_estimators': [3, 10], 'max_features': [2, 3, 4]}],\n",
       "       pre_dispatch='2*n_jobs', refit=True, return_train_score='warn',\n",
       "       scoring='neg_mean_squared_error', verbose=0)"
      ]
     },
     "execution_count": 115,
     "metadata": {},
     "output_type": "execute_result"
    }
   ],
   "source": [
    "grid_search.fit(house_train_prepd, strata_train_set_lab)"
   ]
  },
  {
   "cell_type": "code",
   "execution_count": 116,
   "metadata": {},
   "outputs": [
    {
     "data": {
      "text/plain": [
       "{'max_features': 6, 'n_estimators': 30}"
      ]
     },
     "execution_count": 116,
     "metadata": {},
     "output_type": "execute_result"
    }
   ],
   "source": [
    "grid_search.best_params_"
   ]
  },
  {
   "cell_type": "code",
   "execution_count": 118,
   "metadata": {},
   "outputs": [],
   "source": [
    "cvres =grid_search.cv_results_"
   ]
  },
  {
   "cell_type": "code",
   "execution_count": 119,
   "metadata": {},
   "outputs": [
    {
     "name": "stdout",
     "output_type": "stream",
     "text": [
      "65851.7093105 {'max_features': 2, 'n_estimators': 3}\n",
      "57407.5746985 {'max_features': 2, 'n_estimators': 10}\n",
      "54344.9771672 {'max_features': 2, 'n_estimators': 30}\n",
      "61946.6495915 {'max_features': 4, 'n_estimators': 3}\n",
      "54442.1084799 {'max_features': 4, 'n_estimators': 10}\n",
      "51913.9748835 {'max_features': 4, 'n_estimators': 30}\n",
      "61187.7333958 {'max_features': 6, 'n_estimators': 3}\n",
      "53561.4389004 {'max_features': 6, 'n_estimators': 10}\n",
      "51419.2413625 {'max_features': 6, 'n_estimators': 30}\n",
      "60011.8952805 {'max_features': 8, 'n_estimators': 3}\n",
      "53764.3722189 {'max_features': 8, 'n_estimators': 10}\n",
      "51527.5764143 {'max_features': 8, 'n_estimators': 30}\n",
      "64696.1509513 {'bootstrap': False, 'max_features': 2, 'n_estimators': 3}\n",
      "56418.5449772 {'bootstrap': False, 'max_features': 2, 'n_estimators': 10}\n",
      "60974.4700795 {'bootstrap': False, 'max_features': 3, 'n_estimators': 3}\n",
      "54172.3745243 {'bootstrap': False, 'max_features': 3, 'n_estimators': 10}\n",
      "61782.8844389 {'bootstrap': False, 'max_features': 4, 'n_estimators': 3}\n",
      "53080.9235879 {'bootstrap': False, 'max_features': 4, 'n_estimators': 10}\n"
     ]
    }
   ],
   "source": [
    "for mean_score, params in zip(cvres[\"mean_test_score\"], cvres[\"params\"]):\n",
    "    print(np.sqrt(-mean_score), params)"
   ]
  },
  {
   "cell_type": "code",
   "execution_count": 121,
   "metadata": {},
   "outputs": [
    {
     "data": {
      "text/plain": [
       "RandomForestRegressor(bootstrap=True, criterion='mse', max_depth=None,\n",
       "           max_features=6, max_leaf_nodes=None, min_impurity_decrease=0.0,\n",
       "           min_impurity_split=None, min_samples_leaf=1,\n",
       "           min_samples_split=2, min_weight_fraction_leaf=0.0,\n",
       "           n_estimators=30, n_jobs=1, oob_score=False, random_state=None,\n",
       "           verbose=0, warm_start=False)"
      ]
     },
     "execution_count": 121,
     "metadata": {},
     "output_type": "execute_result"
    }
   ],
   "source": [
    "grid_search.best_estimator_"
   ]
  },
  {
   "cell_type": "code",
   "execution_count": 126,
   "metadata": {},
   "outputs": [],
   "source": [
    "#test data, eval phase\n",
    "\n",
    "strata_test_set.drop(['income_cat'], axis=1, inplace = True)"
   ]
  },
  {
   "cell_type": "code",
   "execution_count": 128,
   "metadata": {},
   "outputs": [],
   "source": [
    "test_labels= strata_test_set['median_house_value']"
   ]
  },
  {
   "cell_type": "code",
   "execution_count": 131,
   "metadata": {},
   "outputs": [],
   "source": [
    "strata_test_set.drop(['median_house_value'], axis =1 , inplace=True)"
   ]
  },
  {
   "cell_type": "code",
   "execution_count": 132,
   "metadata": {},
   "outputs": [
    {
     "data": {
      "text/html": [
       "<div>\n",
       "<style>\n",
       "    .dataframe thead tr:only-child th {\n",
       "        text-align: right;\n",
       "    }\n",
       "\n",
       "    .dataframe thead th {\n",
       "        text-align: left;\n",
       "    }\n",
       "\n",
       "    .dataframe tbody tr th {\n",
       "        vertical-align: top;\n",
       "    }\n",
       "</style>\n",
       "<table border=\"1\" class=\"dataframe\">\n",
       "  <thead>\n",
       "    <tr style=\"text-align: right;\">\n",
       "      <th></th>\n",
       "      <th>longitude</th>\n",
       "      <th>latitude</th>\n",
       "      <th>housing_median_age</th>\n",
       "      <th>total_rooms</th>\n",
       "      <th>total_bedrooms</th>\n",
       "      <th>population</th>\n",
       "      <th>households</th>\n",
       "      <th>median_income</th>\n",
       "      <th>ocean_proximity</th>\n",
       "    </tr>\n",
       "  </thead>\n",
       "  <tbody>\n",
       "    <tr>\n",
       "      <th>9156</th>\n",
       "      <td>-118.51</td>\n",
       "      <td>34.43</td>\n",
       "      <td>15.0</td>\n",
       "      <td>8510.0</td>\n",
       "      <td>1258.0</td>\n",
       "      <td>3733.0</td>\n",
       "      <td>1233.0</td>\n",
       "      <td>5.0000</td>\n",
       "      <td>&lt;1H OCEAN</td>\n",
       "    </tr>\n",
       "    <tr>\n",
       "      <th>4105</th>\n",
       "      <td>-118.34</td>\n",
       "      <td>34.12</td>\n",
       "      <td>41.0</td>\n",
       "      <td>3257.0</td>\n",
       "      <td>679.0</td>\n",
       "      <td>1237.0</td>\n",
       "      <td>638.0</td>\n",
       "      <td>4.2415</td>\n",
       "      <td>&lt;1H OCEAN</td>\n",
       "    </tr>\n",
       "    <tr>\n",
       "      <th>10457</th>\n",
       "      <td>-117.65</td>\n",
       "      <td>33.48</td>\n",
       "      <td>10.0</td>\n",
       "      <td>3484.0</td>\n",
       "      <td>582.0</td>\n",
       "      <td>1469.0</td>\n",
       "      <td>556.0</td>\n",
       "      <td>5.0000</td>\n",
       "      <td>&lt;1H OCEAN</td>\n",
       "    </tr>\n",
       "    <tr>\n",
       "      <th>16346</th>\n",
       "      <td>-121.34</td>\n",
       "      <td>38.03</td>\n",
       "      <td>12.0</td>\n",
       "      <td>2707.0</td>\n",
       "      <td>433.0</td>\n",
       "      <td>1200.0</td>\n",
       "      <td>380.0</td>\n",
       "      <td>4.9861</td>\n",
       "      <td>INLAND</td>\n",
       "    </tr>\n",
       "    <tr>\n",
       "      <th>7516</th>\n",
       "      <td>-118.25</td>\n",
       "      <td>33.91</td>\n",
       "      <td>36.0</td>\n",
       "      <td>1950.0</td>\n",
       "      <td>365.0</td>\n",
       "      <td>1125.0</td>\n",
       "      <td>374.0</td>\n",
       "      <td>3.1111</td>\n",
       "      <td>&lt;1H OCEAN</td>\n",
       "    </tr>\n",
       "  </tbody>\n",
       "</table>\n",
       "</div>"
      ],
      "text/plain": [
       "       longitude  latitude  housing_median_age  total_rooms  total_bedrooms  \\\n",
       "9156     -118.51     34.43                15.0       8510.0          1258.0   \n",
       "4105     -118.34     34.12                41.0       3257.0           679.0   \n",
       "10457    -117.65     33.48                10.0       3484.0           582.0   \n",
       "16346    -121.34     38.03                12.0       2707.0           433.0   \n",
       "7516     -118.25     33.91                36.0       1950.0           365.0   \n",
       "\n",
       "       population  households  median_income ocean_proximity  \n",
       "9156       3733.0      1233.0         5.0000       <1H OCEAN  \n",
       "4105       1237.0       638.0         4.2415       <1H OCEAN  \n",
       "10457      1469.0       556.0         5.0000       <1H OCEAN  \n",
       "16346      1200.0       380.0         4.9861          INLAND  \n",
       "7516       1125.0       374.0         3.1111       <1H OCEAN  "
      ]
     },
     "execution_count": 132,
     "metadata": {},
     "output_type": "execute_result"
    }
   ],
   "source": [
    "strata_test_set.head()"
   ]
  },
  {
   "cell_type": "code",
   "execution_count": 153,
   "metadata": {
    "collapsed": true
   },
   "outputs": [],
   "source": [
    "ocean_enc, ocean_cat= pd.factorize(strata_test_set['ocean_proximity'])"
   ]
  },
  {
   "cell_type": "code",
   "execution_count": 154,
   "metadata": {},
   "outputs": [],
   "source": [
    "Ocean_prox_enc =pd.Series(ocean_enc, index=strata_test_set.index, name = 'Ocean_prox_enc')"
   ]
  },
  {
   "cell_type": "code",
   "execution_count": 155,
   "metadata": {},
   "outputs": [],
   "source": [
    "house_test_set= pd.concat([strata_test_set, Ocean_prox_enc], axis=1)"
   ]
  },
  {
   "cell_type": "code",
   "execution_count": 157,
   "metadata": {
    "collapsed": true
   },
   "outputs": [],
   "source": [
    "house_test_set.drop(['ocean_proximity'], axis =1, inplace = True)"
   ]
  },
  {
   "cell_type": "code",
   "execution_count": 147,
   "metadata": {},
   "outputs": [],
   "source": [
    "#house_test_set.drop([0], axis =1, inplace = True)"
   ]
  },
  {
   "cell_type": "code",
   "execution_count": 158,
   "metadata": {},
   "outputs": [
    {
     "data": {
      "text/html": [
       "<div>\n",
       "<style>\n",
       "    .dataframe thead tr:only-child th {\n",
       "        text-align: right;\n",
       "    }\n",
       "\n",
       "    .dataframe thead th {\n",
       "        text-align: left;\n",
       "    }\n",
       "\n",
       "    .dataframe tbody tr th {\n",
       "        vertical-align: top;\n",
       "    }\n",
       "</style>\n",
       "<table border=\"1\" class=\"dataframe\">\n",
       "  <thead>\n",
       "    <tr style=\"text-align: right;\">\n",
       "      <th></th>\n",
       "      <th>longitude</th>\n",
       "      <th>latitude</th>\n",
       "      <th>housing_median_age</th>\n",
       "      <th>total_rooms</th>\n",
       "      <th>total_bedrooms</th>\n",
       "      <th>population</th>\n",
       "      <th>households</th>\n",
       "      <th>median_income</th>\n",
       "      <th>Ocean_prox_enc</th>\n",
       "    </tr>\n",
       "  </thead>\n",
       "  <tbody>\n",
       "    <tr>\n",
       "      <th>9156</th>\n",
       "      <td>-118.51</td>\n",
       "      <td>34.43</td>\n",
       "      <td>15.0</td>\n",
       "      <td>8510.0</td>\n",
       "      <td>1258.0</td>\n",
       "      <td>3733.0</td>\n",
       "      <td>1233.0</td>\n",
       "      <td>5.0000</td>\n",
       "      <td>0</td>\n",
       "    </tr>\n",
       "    <tr>\n",
       "      <th>4105</th>\n",
       "      <td>-118.34</td>\n",
       "      <td>34.12</td>\n",
       "      <td>41.0</td>\n",
       "      <td>3257.0</td>\n",
       "      <td>679.0</td>\n",
       "      <td>1237.0</td>\n",
       "      <td>638.0</td>\n",
       "      <td>4.2415</td>\n",
       "      <td>0</td>\n",
       "    </tr>\n",
       "    <tr>\n",
       "      <th>10457</th>\n",
       "      <td>-117.65</td>\n",
       "      <td>33.48</td>\n",
       "      <td>10.0</td>\n",
       "      <td>3484.0</td>\n",
       "      <td>582.0</td>\n",
       "      <td>1469.0</td>\n",
       "      <td>556.0</td>\n",
       "      <td>5.0000</td>\n",
       "      <td>0</td>\n",
       "    </tr>\n",
       "    <tr>\n",
       "      <th>16346</th>\n",
       "      <td>-121.34</td>\n",
       "      <td>38.03</td>\n",
       "      <td>12.0</td>\n",
       "      <td>2707.0</td>\n",
       "      <td>433.0</td>\n",
       "      <td>1200.0</td>\n",
       "      <td>380.0</td>\n",
       "      <td>4.9861</td>\n",
       "      <td>1</td>\n",
       "    </tr>\n",
       "    <tr>\n",
       "      <th>7516</th>\n",
       "      <td>-118.25</td>\n",
       "      <td>33.91</td>\n",
       "      <td>36.0</td>\n",
       "      <td>1950.0</td>\n",
       "      <td>365.0</td>\n",
       "      <td>1125.0</td>\n",
       "      <td>374.0</td>\n",
       "      <td>3.1111</td>\n",
       "      <td>0</td>\n",
       "    </tr>\n",
       "  </tbody>\n",
       "</table>\n",
       "</div>"
      ],
      "text/plain": [
       "       longitude  latitude  housing_median_age  total_rooms  total_bedrooms  \\\n",
       "9156     -118.51     34.43                15.0       8510.0          1258.0   \n",
       "4105     -118.34     34.12                41.0       3257.0           679.0   \n",
       "10457    -117.65     33.48                10.0       3484.0           582.0   \n",
       "16346    -121.34     38.03                12.0       2707.0           433.0   \n",
       "7516     -118.25     33.91                36.0       1950.0           365.0   \n",
       "\n",
       "       population  households  median_income  Ocean_prox_enc  \n",
       "9156       3733.0      1233.0         5.0000               0  \n",
       "4105       1237.0       638.0         4.2415               0  \n",
       "10457      1469.0       556.0         5.0000               0  \n",
       "16346      1200.0       380.0         4.9861               1  \n",
       "7516       1125.0       374.0         3.1111               0  "
      ]
     },
     "execution_count": 158,
     "metadata": {},
     "output_type": "execute_result"
    }
   ],
   "source": [
    "house_test_set.head()"
   ]
  },
  {
   "cell_type": "code",
   "execution_count": 194,
   "metadata": {},
   "outputs": [],
   "source": [
    "test_data_prepd = full_pipeline.transform(house_test_set)"
   ]
  },
  {
   "cell_type": "code",
   "execution_count": 195,
   "metadata": {},
   "outputs": [
    {
     "data": {
      "text/plain": [
       "RandomForestRegressor(bootstrap=True, criterion='mse', max_depth=None,\n",
       "           max_features=6, max_leaf_nodes=None, min_impurity_decrease=0.0,\n",
       "           min_impurity_split=None, min_samples_leaf=1,\n",
       "           min_samples_split=2, min_weight_fraction_leaf=0.0,\n",
       "           n_estimators=30, n_jobs=1, oob_score=False, random_state=None,\n",
       "           verbose=0, warm_start=False)"
      ]
     },
     "execution_count": 195,
     "metadata": {},
     "output_type": "execute_result"
    }
   ],
   "source": [
    "#best_model= grid_search.best_estimator_\n",
    "\n",
    "best_model"
   ]
  },
  {
   "cell_type": "code",
   "execution_count": 196,
   "metadata": {},
   "outputs": [],
   "source": [
    "best_predicts=best_model.predict(test_data_prepd)"
   ]
  },
  {
   "cell_type": "code",
   "execution_count": 197,
   "metadata": {
    "collapsed": true
   },
   "outputs": [],
   "source": [
    "mse=mean_squared_error(test_labels, best_predicts)"
   ]
  },
  {
   "cell_type": "code",
   "execution_count": 198,
   "metadata": {
    "collapsed": true
   },
   "outputs": [],
   "source": [
    "rmse= np.sqrt(mse)"
   ]
  },
  {
   "cell_type": "code",
   "execution_count": 199,
   "metadata": {},
   "outputs": [
    {
     "data": {
      "text/plain": [
       "80490.774427831886"
      ]
     },
     "execution_count": 199,
     "metadata": {},
     "output_type": "execute_result"
    }
   ],
   "source": [
    "rmse"
   ]
  },
  {
   "cell_type": "code",
   "execution_count": null,
   "metadata": {
    "collapsed": true
   },
   "outputs": [],
   "source": []
  },
  {
   "cell_type": "code",
   "execution_count": 202,
   "metadata": {},
   "outputs": [
    {
     "data": {
      "text/plain": [
       "(4128,)"
      ]
     },
     "execution_count": 202,
     "metadata": {},
     "output_type": "execute_result"
    }
   ],
   "source": []
  },
  {
   "cell_type": "code",
   "execution_count": 172,
   "metadata": {},
   "outputs": [
    {
     "data": {
      "text/plain": [
       "(4128, 16)"
      ]
     },
     "execution_count": 172,
     "metadata": {},
     "output_type": "execute_result"
    }
   ],
   "source": [
    "test_data_prepd.shape"
   ]
  },
  {
   "cell_type": "code",
   "execution_count": 173,
   "metadata": {},
   "outputs": [
    {
     "data": {
      "text/plain": [
       "(16512, 16)"
      ]
     },
     "execution_count": 173,
     "metadata": {},
     "output_type": "execute_result"
    }
   ],
   "source": [
    "house_train_prepd.shape"
   ]
  },
  {
   "cell_type": "code",
   "execution_count": 178,
   "metadata": {},
   "outputs": [
    {
     "data": {
      "text/html": [
       "<div>\n",
       "<style>\n",
       "    .dataframe thead tr:only-child th {\n",
       "        text-align: right;\n",
       "    }\n",
       "\n",
       "    .dataframe thead th {\n",
       "        text-align: left;\n",
       "    }\n",
       "\n",
       "    .dataframe tbody tr th {\n",
       "        vertical-align: top;\n",
       "    }\n",
       "</style>\n",
       "<table border=\"1\" class=\"dataframe\">\n",
       "  <thead>\n",
       "    <tr style=\"text-align: right;\">\n",
       "      <th></th>\n",
       "      <th>longitude</th>\n",
       "      <th>latitude</th>\n",
       "      <th>housing_median_age</th>\n",
       "      <th>total_rooms</th>\n",
       "      <th>total_bedrooms</th>\n",
       "      <th>population</th>\n",
       "      <th>households</th>\n",
       "      <th>median_income</th>\n",
       "      <th>Ocean_prox_enc</th>\n",
       "    </tr>\n",
       "  </thead>\n",
       "  <tbody>\n",
       "    <tr>\n",
       "      <th>4861</th>\n",
       "      <td>-118.28</td>\n",
       "      <td>34.02</td>\n",
       "      <td>29.0</td>\n",
       "      <td>515.0</td>\n",
       "      <td>229.0</td>\n",
       "      <td>2690.0</td>\n",
       "      <td>217.0</td>\n",
       "      <td>0.4999</td>\n",
       "      <td>0</td>\n",
       "    </tr>\n",
       "    <tr>\n",
       "      <th>14408</th>\n",
       "      <td>-117.25</td>\n",
       "      <td>32.76</td>\n",
       "      <td>38.0</td>\n",
       "      <td>2331.0</td>\n",
       "      <td>493.0</td>\n",
       "      <td>836.0</td>\n",
       "      <td>433.0</td>\n",
       "      <td>4.9125</td>\n",
       "      <td>1</td>\n",
       "    </tr>\n",
       "    <tr>\n",
       "      <th>4760</th>\n",
       "      <td>-118.35</td>\n",
       "      <td>34.04</td>\n",
       "      <td>36.0</td>\n",
       "      <td>1956.0</td>\n",
       "      <td>601.0</td>\n",
       "      <td>1672.0</td>\n",
       "      <td>546.0</td>\n",
       "      <td>1.8685</td>\n",
       "      <td>0</td>\n",
       "    </tr>\n",
       "    <tr>\n",
       "      <th>13897</th>\n",
       "      <td>-116.29</td>\n",
       "      <td>34.18</td>\n",
       "      <td>15.0</td>\n",
       "      <td>4203.0</td>\n",
       "      <td>966.0</td>\n",
       "      <td>1756.0</td>\n",
       "      <td>695.0</td>\n",
       "      <td>2.1820</td>\n",
       "      <td>2</td>\n",
       "    </tr>\n",
       "    <tr>\n",
       "      <th>10846</th>\n",
       "      <td>-117.90</td>\n",
       "      <td>33.67</td>\n",
       "      <td>25.0</td>\n",
       "      <td>639.0</td>\n",
       "      <td>98.0</td>\n",
       "      <td>311.0</td>\n",
       "      <td>93.0</td>\n",
       "      <td>5.0000</td>\n",
       "      <td>0</td>\n",
       "    </tr>\n",
       "  </tbody>\n",
       "</table>\n",
       "</div>"
      ],
      "text/plain": [
       "       longitude  latitude  housing_median_age  total_rooms  total_bedrooms  \\\n",
       "4861     -118.28     34.02                29.0        515.0           229.0   \n",
       "14408    -117.25     32.76                38.0       2331.0           493.0   \n",
       "4760     -118.35     34.04                36.0       1956.0           601.0   \n",
       "13897    -116.29     34.18                15.0       4203.0           966.0   \n",
       "10846    -117.90     33.67                25.0        639.0            98.0   \n",
       "\n",
       "       population  households  median_income  Ocean_prox_enc  \n",
       "4861       2690.0       217.0         0.4999               0  \n",
       "14408       836.0       433.0         4.9125               1  \n",
       "4760       1672.0       546.0         1.8685               0  \n",
       "13897      1756.0       695.0         2.1820               2  \n",
       "10846       311.0        93.0         5.0000               0  "
      ]
     },
     "execution_count": 178,
     "metadata": {},
     "output_type": "execute_result"
    }
   ],
   "source": [
    "house_train.head(5)"
   ]
  },
  {
   "cell_type": "code",
   "execution_count": 177,
   "metadata": {},
   "outputs": [
    {
     "data": {
      "text/html": [
       "<div>\n",
       "<style>\n",
       "    .dataframe thead tr:only-child th {\n",
       "        text-align: right;\n",
       "    }\n",
       "\n",
       "    .dataframe thead th {\n",
       "        text-align: left;\n",
       "    }\n",
       "\n",
       "    .dataframe tbody tr th {\n",
       "        vertical-align: top;\n",
       "    }\n",
       "</style>\n",
       "<table border=\"1\" class=\"dataframe\">\n",
       "  <thead>\n",
       "    <tr style=\"text-align: right;\">\n",
       "      <th></th>\n",
       "      <th>longitude</th>\n",
       "      <th>latitude</th>\n",
       "      <th>housing_median_age</th>\n",
       "      <th>total_rooms</th>\n",
       "      <th>total_bedrooms</th>\n",
       "      <th>population</th>\n",
       "      <th>households</th>\n",
       "      <th>median_income</th>\n",
       "      <th>Ocean_prox_enc</th>\n",
       "    </tr>\n",
       "  </thead>\n",
       "  <tbody>\n",
       "    <tr>\n",
       "      <th>9156</th>\n",
       "      <td>-118.51</td>\n",
       "      <td>34.43</td>\n",
       "      <td>15.0</td>\n",
       "      <td>8510.0</td>\n",
       "      <td>1258.0</td>\n",
       "      <td>3733.0</td>\n",
       "      <td>1233.0</td>\n",
       "      <td>5.0000</td>\n",
       "      <td>0</td>\n",
       "    </tr>\n",
       "    <tr>\n",
       "      <th>4105</th>\n",
       "      <td>-118.34</td>\n",
       "      <td>34.12</td>\n",
       "      <td>41.0</td>\n",
       "      <td>3257.0</td>\n",
       "      <td>679.0</td>\n",
       "      <td>1237.0</td>\n",
       "      <td>638.0</td>\n",
       "      <td>4.2415</td>\n",
       "      <td>0</td>\n",
       "    </tr>\n",
       "    <tr>\n",
       "      <th>10457</th>\n",
       "      <td>-117.65</td>\n",
       "      <td>33.48</td>\n",
       "      <td>10.0</td>\n",
       "      <td>3484.0</td>\n",
       "      <td>582.0</td>\n",
       "      <td>1469.0</td>\n",
       "      <td>556.0</td>\n",
       "      <td>5.0000</td>\n",
       "      <td>0</td>\n",
       "    </tr>\n",
       "    <tr>\n",
       "      <th>16346</th>\n",
       "      <td>-121.34</td>\n",
       "      <td>38.03</td>\n",
       "      <td>12.0</td>\n",
       "      <td>2707.0</td>\n",
       "      <td>433.0</td>\n",
       "      <td>1200.0</td>\n",
       "      <td>380.0</td>\n",
       "      <td>4.9861</td>\n",
       "      <td>1</td>\n",
       "    </tr>\n",
       "    <tr>\n",
       "      <th>7516</th>\n",
       "      <td>-118.25</td>\n",
       "      <td>33.91</td>\n",
       "      <td>36.0</td>\n",
       "      <td>1950.0</td>\n",
       "      <td>365.0</td>\n",
       "      <td>1125.0</td>\n",
       "      <td>374.0</td>\n",
       "      <td>3.1111</td>\n",
       "      <td>0</td>\n",
       "    </tr>\n",
       "  </tbody>\n",
       "</table>\n",
       "</div>"
      ],
      "text/plain": [
       "       longitude  latitude  housing_median_age  total_rooms  total_bedrooms  \\\n",
       "9156     -118.51     34.43                15.0       8510.0          1258.0   \n",
       "4105     -118.34     34.12                41.0       3257.0           679.0   \n",
       "10457    -117.65     33.48                10.0       3484.0           582.0   \n",
       "16346    -121.34     38.03                12.0       2707.0           433.0   \n",
       "7516     -118.25     33.91                36.0       1950.0           365.0   \n",
       "\n",
       "       population  households  median_income  Ocean_prox_enc  \n",
       "9156       3733.0      1233.0         5.0000               0  \n",
       "4105       1237.0       638.0         4.2415               0  \n",
       "10457      1469.0       556.0         5.0000               0  \n",
       "16346      1200.0       380.0         4.9861               1  \n",
       "7516       1125.0       374.0         3.1111               0  "
      ]
     },
     "execution_count": 177,
     "metadata": {},
     "output_type": "execute_result"
    }
   ],
   "source": [
    "house_test_set.head()"
   ]
  }
 ],
 "metadata": {
  "kernelspec": {
   "display_name": "Python 3",
   "language": "python",
   "name": "python3"
  },
  "language_info": {
   "codemirror_mode": {
    "name": "ipython",
    "version": 3
   },
   "file_extension": ".py",
   "mimetype": "text/x-python",
   "name": "python",
   "nbconvert_exporter": "python",
   "pygments_lexer": "ipython3",
   "version": "3.6.3"
  }
 },
 "nbformat": 4,
 "nbformat_minor": 2
}
